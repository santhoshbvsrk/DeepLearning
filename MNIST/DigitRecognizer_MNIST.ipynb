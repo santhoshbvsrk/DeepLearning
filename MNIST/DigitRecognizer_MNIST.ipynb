{
  "nbformat": 4,
  "nbformat_minor": 0,
  "metadata": {
    "colab": {
      "name": "DigitRecognizer_MNIST.ipynb",
      "provenance": [],
      "collapsed_sections": [],
      "authorship_tag": "ABX9TyPHSIqEo+5Sq6InEAepTTbF",
      "include_colab_link": true
    },
    "kernelspec": {
      "name": "python3",
      "display_name": "Python 3"
    },
    "language_info": {
      "name": "python"
    }
  },
  "cells": [
    {
      "cell_type": "markdown",
      "metadata": {
        "id": "view-in-github",
        "colab_type": "text"
      },
      "source": [
        "<a href=\"https://colab.research.google.com/github/santhoshbvsrk/DeepLearning/blob/main/MNIST/DigitRecognizer_MNIST.ipynb\" target=\"_parent\"><img src=\"https://colab.research.google.com/assets/colab-badge.svg\" alt=\"Open In Colab\"/></a>"
      ]
    },
    {
      "cell_type": "code",
      "metadata": {
        "id": "BMdKudnqtY09"
      },
      "source": [
        "import tensorflow as tf\n",
        "from tensorflow import keras\n",
        "from keras import datasets\n",
        "\n",
        "import numpy as np\n",
        "import matplotlib.pyplot as plt"
      ],
      "execution_count": null,
      "outputs": []
    },
    {
      "cell_type": "code",
      "metadata": {
        "id": "afUwl8wJyoHE"
      },
      "source": [
        "mnist=datasets.mnist"
      ],
      "execution_count": null,
      "outputs": []
    },
    {
      "cell_type": "code",
      "metadata": {
        "colab": {
          "base_uri": "https://localhost:8080/"
        },
        "id": "v4Hel0idy-3H",
        "outputId": "cd3cc5a6-59aa-40a7-82c5-b07d98213eab"
      },
      "source": [
        "(X_train,y_train),(X_test,y_test)=mnist.load_data()\n",
        "\n",
        "print(X_train.shape)\n",
        "print(y_train.shape)\n",
        "print(X_test.shape)\n",
        "print(y_test.shape)"
      ],
      "execution_count": null,
      "outputs": [
        {
          "output_type": "stream",
          "text": [
            "Downloading data from https://storage.googleapis.com/tensorflow/tf-keras-datasets/mnist.npz\n",
            "11493376/11490434 [==============================] - 0s 0us/step\n",
            "(60000, 28, 28)\n",
            "(60000,)\n",
            "(10000, 28, 28)\n",
            "(10000,)\n"
          ],
          "name": "stdout"
        }
      ]
    },
    {
      "cell_type": "code",
      "metadata": {
        "id": "obpyPdDSoc6g",
        "colab": {
          "base_uri": "https://localhost:8080/"
        },
        "outputId": "ee0abe3f-eef5-4ce7-f0dc-ca5b58bb2bf7"
      },
      "source": [
        "from sklearn.model_selection import train_test_split\n",
        "\n",
        "np.random.seed=1000\n",
        "\n",
        "X_validation,X_test,y_validation,y_test = train_test_split(X_test,y_test, train_size=0.5)\n",
        "\n",
        "print(X_train.shape)\n",
        "print(y_train.shape)\n",
        "print(X_validation.shape)\n",
        "print(y_validation.shape)\n",
        "print(X_test.shape)\n",
        "print(y_test.shape)"
      ],
      "execution_count": null,
      "outputs": [
        {
          "output_type": "stream",
          "text": [
            "(60000, 28, 28)\n",
            "(60000,)\n",
            "(5000, 28, 28)\n",
            "(5000,)\n",
            "(5000, 28, 28)\n",
            "(5000,)\n"
          ],
          "name": "stdout"
        }
      ]
    },
    {
      "cell_type": "code",
      "metadata": {
        "id": "xwEQ4Hm9zSB4"
      },
      "source": [
        "def plot_sample(X,y,index):\n",
        "  plt.figure(figsize = (2,2))\n",
        "  plt.imshow(X[index],cmap=plt.cm.binary)\n",
        "  plt.xlabel(y[index])\n",
        "  plt.show()"
      ],
      "execution_count": null,
      "outputs": []
    },
    {
      "cell_type": "code",
      "metadata": {
        "id": "IVwlRMA5nu8w",
        "colab": {
          "base_uri": "https://localhost:8080/"
        },
        "outputId": "688fc1b3-b2ce-4223-87f4-f3372a2e2519"
      },
      "source": [
        "y_test[1]"
      ],
      "execution_count": null,
      "outputs": [
        {
          "output_type": "execute_result",
          "data": {
            "text/plain": [
              "6"
            ]
          },
          "metadata": {
            "tags": []
          },
          "execution_count": 6
        }
      ]
    },
    {
      "cell_type": "code",
      "metadata": {
        "colab": {
          "base_uri": "https://localhost:8080/"
        },
        "id": "htfrVK7izhKl",
        "outputId": "fd1f88d0-8cb4-4ab5-c45a-fc9bd7a3a44a"
      },
      "source": [
        "y_train[1]"
      ],
      "execution_count": null,
      "outputs": [
        {
          "output_type": "execute_result",
          "data": {
            "text/plain": [
              "0"
            ]
          },
          "metadata": {
            "tags": []
          },
          "execution_count": 7
        }
      ]
    },
    {
      "cell_type": "code",
      "metadata": {
        "colab": {
          "base_uri": "https://localhost:8080/",
          "height": 485
        },
        "id": "-Bbm9wRmznRD",
        "outputId": "64111f96-e645-46c5-a1c6-bbacb6feff31"
      },
      "source": [
        "for index in range(0,3):\n",
        "  plot_sample(X_train,y_train,index)"
      ],
      "execution_count": null,
      "outputs": [
        {
          "output_type": "display_data",
          "data": {
            "image/png": "[encoded data removed]",
            "text/plain": [
              "<Figure size 144x144 with 1 Axes>"
            ]
          },
          "metadata": {
            "tags": [],
            "needs_background": "light"
          }
        },
        {
          "output_type": "display_data",
          "data": {
            "image/png": "[encoded data removed]",
            "text/plain": [
              "<Figure size 144x144 with 1 Axes>"
            ]
          },
          "metadata": {
            "tags": [],
            "needs_background": "light"
          }
        },
        {
          "output_type": "display_data",
          "data": {
            "image/png": "[encoded data removed]",
            "text/plain": [
              "<Figure size 144x144 with 1 Axes>"
            ]
          },
          "metadata": {
            "tags": [],
            "needs_background": "light"
          }
        }
      ]
    },
    {
      "cell_type": "code",
      "metadata": {
        "id": "rrDmpGRCpILe"
      },
      "source": [
        "from keras import models         #importing models package from Keras\n",
        "from keras import Sequential     #importing Sequential package from Keras to create a Sequential model\n",
        "from keras import layers         #importing layers package from Keras which will be used for adding Input Layers, Hidden Layers & Output Layers\n",
        "from keras.layers import Dense\n",
        "from keras.layers.core import Dropout\n",
        "from keras.callbacks import EarlyStopping  #importing EarlyStopping package from Keras Callbacks\n",
        "from keras.callbacks import ModelCheckpoint   #importing ModelCheckPoint library from keras.callback"
      ],
      "execution_count": null,
      "outputs": []
    },
    {
      "cell_type": "code",
      "metadata": {
        "id": "EdZFqrK-oasd",
        "colab": {
          "base_uri": "https://localhost:8080/"
        },
        "outputId": "89d54b54-1782-4a98-e076-add6ec1dbb2b"
      },
      "source": [
        "model_es = Sequential()\n",
        "\n",
        "model_es.add(layers.Flatten(input_shape=(28,28)))\n",
        "model_es.add(Dense(100,activation='relu'))\n",
        "model_es.add(Dense(80,activation='relu'))\n",
        "model_es.add(Dense(60,activation='relu'))\n",
        "model_es.add(Dense(10,activation='softmax'))\n",
        "\n",
        "model_es.compile(optimizer='adam',loss='sparse_categorical_crossentropy',metrics=['acc'])\n",
        "\n",
        "model_es.summary()"
      ],
      "execution_count": null,
      "outputs": [
        {
          "output_type": "stream",
          "text": [
            "Model: \"sequential_1\"\n",
            "_________________________________________________________________\n",
            "Layer (type)                 Output Shape              Param #   \n",
            "=================================================================\n",
            "flatten_1 (Flatten)          (None, 784)               0         \n",
            "_________________________________________________________________\n",
            "dense_3 (Dense)              (None, 100)               78500     \n",
            "_________________________________________________________________\n",
            "dense_4 (Dense)              (None, 80)                8080      \n",
            "_________________________________________________________________\n",
            "dense_5 (Dense)              (None, 60)                4860      \n",
            "_________________________________________________________________\n",
            "dense_6 (Dense)              (None, 10)                610       \n",
            "=================================================================\n",
            "Total params: 92,050\n",
            "Trainable params: 92,050\n",
            "Non-trainable params: 0\n",
            "_________________________________________________________________\n"
          ],
          "name": "stdout"
        }
      ]
    },
    {
      "cell_type": "code",
      "metadata": {
        "id": "OG5KjsqcpYG6",
        "colab": {
          "base_uri": "https://localhost:8080/",
          "height": 963
        },
        "outputId": "3c1ef1b1-6fff-4720-c273-9cb7eebbf28e"
      },
      "source": [
        "from keras.models import load_model\n",
        "\n",
        "es = EarlyStopping(monitor='val_loss',patience=200,mode='min',verbose=1)\n",
        "cp = ModelCheckpoint('best_model.h5',monitor='val_acc',mode='max',verbose=1,save_best_only=True) #the best model will be stored in best_model.h5 file which will be created in the instance which we are saving\n",
        "\n",
        "history_es_cp = model_es.fit(x=X_train,y=y_train,epochs=10,validation_data=(X_validation,y_validation),callbacks=[es,cp])\n",
        "#Monitor='val_loss' is to tell the model to monitor val_loss value, with a patience of 3 i.e., after finding a min value on val_loss see 3 more epochs if at all the val_loss is further decreasing if not stop the model.\n",
        "\n",
        "saved_model = load_model('best_model.h5')\n",
        "\n",
        "_, train_acc = saved_model.evaluate(X_train,y_train,verbose=0)\n",
        "_, validation_acc = saved_model.evaluate(X_validation,y_validation,verbose=0)\n",
        "\n",
        "print('Train: %3f, Validation: %3f' % (train_acc,validation_acc))\n",
        "print('\\n')\n",
        "#plot to see training & test loss\n",
        "plt.plot(history_es_cp.history['loss'],label='train')\n",
        "plt.plot(history_es_cp.history['val_loss'],label='validation')\n",
        "plt.legend()\n",
        "plt.show()"
      ],
      "execution_count": null,
      "outputs": [
        {
          "output_type": "stream",
          "text": [
            "Epoch 1/10\n",
            "1875/1875 [==============================] - 5s 3ms/step - loss: 0.0515 - acc: 0.9866 - val_loss: 0.1921 - val_acc: 0.9662\n",
            "\n",
            "Epoch 00001: val_acc improved from -inf to 0.96620, saving model to best_model.h5\n",
            "Epoch 2/10\n",
            "1875/1875 [==============================] - 5s 2ms/step - loss: 0.0465 - acc: 0.9875 - val_loss: 0.1521 - val_acc: 0.9756\n",
            "\n",
            "Epoch 00002: val_acc improved from 0.96620 to 0.97560, saving model to best_model.h5\n",
            "Epoch 3/10\n",
            "1875/1875 [==============================] - 5s 3ms/step - loss: 0.0431 - acc: 0.9883 - val_loss: 0.2044 - val_acc: 0.9676\n",
            "\n",
            "Epoch 00003: val_acc did not improve from 0.97560\n",
            "Epoch 4/10\n",
            "1875/1875 [==============================] - 5s 2ms/step - loss: 0.0470 - acc: 0.9883 - val_loss: 0.1385 - val_acc: 0.9750\n",
            "\n",
            "Epoch 00004: val_acc did not improve from 0.97560\n",
            "Epoch 5/10\n",
            "1875/1875 [==============================] - 5s 3ms/step - loss: 0.0464 - acc: 0.9880 - val_loss: 0.1698 - val_acc: 0.9760\n",
            "\n",
            "Epoch 00005: val_acc improved from 0.97560 to 0.97600, saving model to best_model.h5\n",
            "Epoch 6/10\n",
            "1875/1875 [==============================] - 5s 2ms/step - loss: 0.0441 - acc: 0.9888 - val_loss: 0.1736 - val_acc: 0.9734\n",
            "\n",
            "Epoch 00006: val_acc did not improve from 0.97600\n",
            "Epoch 7/10\n",
            "1875/1875 [==============================] - 5s 3ms/step - loss: 0.0388 - acc: 0.9901 - val_loss: 0.1775 - val_acc: 0.9708\n",
            "\n",
            "Epoch 00007: val_acc did not improve from 0.97600\n",
            "Epoch 8/10\n",
            "1875/1875 [==============================] - 5s 3ms/step - loss: 0.0428 - acc: 0.9897 - val_loss: 0.2209 - val_acc: 0.9726\n",
            "\n",
            "Epoch 00008: val_acc did not improve from 0.97600\n",
            "Epoch 9/10\n",
            "1875/1875 [==============================] - 5s 3ms/step - loss: 0.0408 - acc: 0.9902 - val_loss: 0.1840 - val_acc: 0.9712\n",
            "\n",
            "Epoch 00009: val_acc did not improve from 0.97600\n",
            "Epoch 10/10\n",
            "1875/1875 [==============================] - 4s 2ms/step - loss: 0.0416 - acc: 0.9897 - val_loss: 0.2040 - val_acc: 0.9730\n",
            "\n",
            "Epoch 00010: val_acc did not improve from 0.97600\n",
            "Train: 0.990217, Validatio: 0.976000\n",
            "\n",
            "\n"
          ],
          "name": "stdout"
        },
        {
          "output_type": "display_data",
          "data": {
            "image/png": "[encoded data removed]",
            "text/plain": [
              "<Figure size 432x288 with 1 Axes>"
            ]
          },
          "metadata": {
            "tags": [],
            "needs_background": "light"
          }
        }
      ]
    },
    {
      "cell_type": "code",
      "metadata": {
        "id": "iJTG5_CKrCr6",
        "colab": {
          "base_uri": "https://localhost:8080/"
        },
        "outputId": "0ed8dae8-320a-405e-868c-1f671f30709a"
      },
      "source": [
        "model_es_cp_do = Sequential()\n",
        "\n",
        "model_es_cp_do.add(layers.Flatten(input_shape=(28,28)))\n",
        "model_es_cp_do.add(Dense(100,activation='relu')), Dropout(0.25)\n",
        "model_es_cp_do.add(Dense(80,activation='relu')), Dropout(0.25)\n",
        "model_es_cp_do.add(Dense(60,activation='relu')), Dropout(0.25)\n",
        "model_es_cp_do.add(Dense(10,activation='softmax')), Dropout(0.25)\n",
        "\n",
        "model_es_cp_do.compile(optimizer='adam',loss='sparse_categorical_crossentropy',metrics=['acc'])\n",
        "\n",
        "model_es_cp_do.summary()"
      ],
      "execution_count": null,
      "outputs": [
        {
          "output_type": "stream",
          "text": [
            "Model: \"sequential_4\"\n",
            "_________________________________________________________________\n",
            "Layer (type)                 Output Shape              Param #   \n",
            "=================================================================\n",
            "flatten_4 (Flatten)          (None, 784)               0         \n",
            "_________________________________________________________________\n",
            "dense_15 (Dense)             (None, 100)               78500     \n",
            "_________________________________________________________________\n",
            "dense_16 (Dense)             (None, 80)                8080      \n",
            "_________________________________________________________________\n",
            "dense_17 (Dense)             (None, 60)                4860      \n",
            "_________________________________________________________________\n",
            "dense_18 (Dense)             (None, 10)                610       \n",
            "=================================================================\n",
            "Total params: 92,050\n",
            "Trainable params: 92,050\n",
            "Non-trainable params: 0\n",
            "_________________________________________________________________\n"
          ],
          "name": "stdout"
        }
      ]
    },
    {
      "cell_type": "code",
      "metadata": {
        "id": "rUiokeocrVjv",
        "colab": {
          "base_uri": "https://localhost:8080/",
          "height": 963
        },
        "outputId": "9abaf803-8201-4fea-9cdf-e499ca5ff819"
      },
      "source": [
        "from keras.models import load_model\n",
        "\n",
        "es = EarlyStopping(monitor='val_loss',patience=200,mode='min',verbose=1)\n",
        "cp = ModelCheckpoint('best_model.h5',monitor='val_acc',mode='max',verbose=1,save_best_only=True) #the best model will be stored in best_model.h5 file which will be created in the instance which we are saving\n",
        "\n",
        "history_es_cp_do = model_es_cp_do.fit(x=X_train,y=y_train,epochs=10,validation_data=(X_validation,y_validation),callbacks=[es,cp])\n",
        "#Monitor='val_loss' is to tell the model to monitor val_loss value, with a patience of 3 i.e., after finding a min value on val_loss see 3 more epochs if at all the val_loss is further decreasing if not stop the model.\n",
        "\n",
        "saved_model = load_model('best_model.h5')\n",
        "\n",
        "_, train_acc = saved_model.evaluate(X_train,y_train,verbose=0)\n",
        "_, validation_acc = saved_model.evaluate(X_validation,y_validation,verbose=0)\n",
        "\n",
        "print('Train: %3f, Validation: %3f' % (train_acc,validation_acc))\n",
        "print('\\n')\n",
        "#plot to see training & test loss\n",
        "plt.plot(history_es_cp_do.history['loss'],label='train')\n",
        "plt.plot(history_es_cp_do.history['val_loss'],label='validation')\n",
        "plt.legend()\n",
        "plt.show()"
      ],
      "execution_count": null,
      "outputs": [
        {
          "output_type": "stream",
          "text": [
            "Epoch 1/10\n",
            "1875/1875 [==============================] - 6s 3ms/step - loss: 2.6298 - acc: 0.7829 - val_loss: 0.3020 - val_acc: 0.9178\n",
            "\n",
            "Epoch 00001: val_acc improved from -inf to 0.91780, saving model to best_model.h5\n",
            "Epoch 2/10\n",
            "1875/1875 [==============================] - 5s 2ms/step - loss: 0.2448 - acc: 0.9328 - val_loss: 0.1716 - val_acc: 0.9506\n",
            "\n",
            "Epoch 00002: val_acc improved from 0.91780 to 0.95060, saving model to best_model.h5\n",
            "Epoch 3/10\n",
            "1875/1875 [==============================] - 5s 2ms/step - loss: 0.1752 - acc: 0.9515 - val_loss: 0.1912 - val_acc: 0.9484\n",
            "\n",
            "Epoch 00003: val_acc did not improve from 0.95060\n",
            "Epoch 4/10\n",
            "1875/1875 [==============================] - 5s 3ms/step - loss: 0.1480 - acc: 0.9585 - val_loss: 0.1897 - val_acc: 0.9512\n",
            "\n",
            "Epoch 00004: val_acc improved from 0.95060 to 0.95120, saving model to best_model.h5\n",
            "Epoch 5/10\n",
            "1875/1875 [==============================] - 5s 3ms/step - loss: 0.1166 - acc: 0.9667 - val_loss: 0.1996 - val_acc: 0.9484\n",
            "\n",
            "Epoch 00005: val_acc did not improve from 0.95120\n",
            "Epoch 6/10\n",
            "1875/1875 [==============================] - 5s 2ms/step - loss: 0.1002 - acc: 0.9710 - val_loss: 0.1380 - val_acc: 0.9632\n",
            "\n",
            "Epoch 00006: val_acc improved from 0.95120 to 0.96320, saving model to best_model.h5\n",
            "Epoch 7/10\n",
            "1875/1875 [==============================] - 5s 3ms/step - loss: 0.0970 - acc: 0.9719 - val_loss: 0.1256 - val_acc: 0.9650\n",
            "\n",
            "Epoch 00007: val_acc improved from 0.96320 to 0.96500, saving model to best_model.h5\n",
            "Epoch 8/10\n",
            "1875/1875 [==============================] - 5s 3ms/step - loss: 0.0825 - acc: 0.9762 - val_loss: 0.1377 - val_acc: 0.9658\n",
            "\n",
            "Epoch 00008: val_acc improved from 0.96500 to 0.96580, saving model to best_model.h5\n",
            "Epoch 9/10\n",
            "1875/1875 [==============================] - 4s 2ms/step - loss: 0.0794 - acc: 0.9768 - val_loss: 0.1307 - val_acc: 0.9688\n",
            "\n",
            "Epoch 00009: val_acc improved from 0.96580 to 0.96880, saving model to best_model.h5\n",
            "Epoch 10/10\n",
            "1875/1875 [==============================] - 5s 2ms/step - loss: 0.0712 - acc: 0.9787 - val_loss: 0.1316 - val_acc: 0.9694\n",
            "\n",
            "Epoch 00010: val_acc improved from 0.96880 to 0.96940, saving model to best_model.h5\n",
            "Train: 0.985300, Validation: 0.969400\n",
            "\n",
            "\n"
          ],
          "name": "stdout"
        },
        {
          "output_type": "display_data",
          "data": {
            "image/png": "[encoded data removed]",
            "text/plain": [
              "<Figure size 432x288 with 1 Axes>"
            ]
          },
          "metadata": {
            "tags": [],
            "needs_background": "light"
          }
        }
      ]
    },
    {
      "cell_type": "markdown",
      "metadata": {
        "id": "DOzsYfAUsNNZ"
      },
      "source": [
        "* Using 25% dropout and callbacks of ModelCheckPoint & EarlyStopping we can say that the validation loss has decreased and is now 0.1226 with an accuracy of 97%"
      ]
    },
    {
      "cell_type": "code",
      "metadata": {
        "id": "2UVbfhDIsdGI"
      },
      "source": [
        "predictions_es_cp_do = model_es_cp_do.predict(X_test) #predicting value using the Early Stopping model."
      ],
      "execution_count": null,
      "outputs": []
    },
    {
      "cell_type": "code",
      "metadata": {
        "id": "Ju6bjvAGtJaP",
        "colab": {
          "base_uri": "https://localhost:8080/"
        },
        "outputId": "f268b59a-3dfc-4d38-d10b-fce39e336eb7"
      },
      "source": [
        "predictions_es_cp_do[0] # this gives the one hot encoding value of the target variable for the provided index.\n",
        "print(\"Predicted Value of {} image from Test Data is: {}\".format(0,np.argmax(predictions_es_cp_do[0]))) #this gives the value of prediction.\n",
        "print(\"Actual value of {} image is: {}\".format(0,y_test[0])) #this gives the actual value"
      ],
      "execution_count": 31,
      "outputs": [
        {
          "output_type": "stream",
          "text": [
            "Predicted Value of 0 image from Test Data is: 3\n",
            "Actual value of 0 image is: 3\n"
          ],
          "name": "stdout"
        }
      ]
    },
    {
      "cell_type": "code",
      "metadata": {
        "id": "LhRQwu9dt7-x",
        "colab": {
          "base_uri": "https://localhost:8080/"
        },
        "outputId": "83b4dd2b-6aba-462a-a10f-c9b322f7a92f"
      },
      "source": [
        "_, test_acc = saved_model.evaluate(X_test,y_test,verbose=0)\n",
        "print('Test Accuracy is: %3f' % (test_acc))"
      ],
      "execution_count": null,
      "outputs": [
        {
          "output_type": "stream",
          "text": [
            "Test Accuracy is: 0.970000\n"
          ],
          "name": "stdout"
        }
      ]
    },
    {
      "cell_type": "code",
      "metadata": {
        "id": "au1PVgEkynyR",
        "outputId": "53f72140-9f4e-4228-9f0b-a90d78450095",
        "colab": {
          "base_uri": "https://localhost:8080/",
          "height": 1000
        }
      },
      "source": [
        "#printing first 3 images from the training dataset by calling the above created function. Here image is from our prediction & Label on x-axis is actual value.\n",
        "for index in range(0,9):\n",
        "  plot_sample(X_test,y_test,index)"
      ],
      "execution_count": 32,
      "outputs": [
        {
          "output_type": "display_data",
          "data": {
            "image/png": "[encoded data removed]",
            "text/plain": [
              "<Figure size 144x144 with 1 Axes>"
            ]
          },
          "metadata": {
            "tags": [],
            "needs_background": "light"
          }
        },
        {
          "output_type": "display_data",
          "data": {
            "image/png": "[encoded data removed]",
            "text/plain": [
              "<Figure size 144x144 with 1 Axes>"
            ]
          },
          "metadata": {
            "tags": [],
            "needs_background": "light"
          }
        },
        {
          "output_type": "display_data",
          "data": {
            "image/png": "[encoded data removed]",
            "text/plain": [
              "<Figure size 144x144 with 1 Axes>"
            ]
          },
          "metadata": {
            "tags": [],
            "needs_background": "light"
          }
        },
        {
          "output_type": "display_data",
          "data": {
            "image/png": "[encoded data removed]",
            "text/plain": [
              "<Figure size 144x144 with 1 Axes>"
            ]
          },
          "metadata": {
            "tags": [],
            "needs_background": "light"
          }
        },
        {
          "output_type": "display_data",
          "data": {
            "image/png": "[encoded data removed]",
            "text/plain": [
              "<Figure size 144x144 with 1 Axes>"
            ]
          },
          "metadata": {
            "tags": [],
            "needs_background": "light"
          }
        },
        {
          "output_type": "display_data",
          "data": {
            "image/png": "[encoded data removed]",
            "text/plain": [
              "<Figure size 144x144 with 1 Axes>"
            ]
          },
          "metadata": {
            "tags": [],
            "needs_background": "light"
          }
        },
        {
          "output_type": "display_data",
          "data": {
            "image/png": "[encoded data removed]",
            "text/plain": [
              "<Figure size 144x144 with 1 Axes>"
            ]
          },
          "metadata": {
            "tags": [],
            "needs_background": "light"
          }
        },
        {
          "output_type": "display_data",
          "data": {
            "image/png": "[encoded data removed]",
            "text/plain": [
              "<Figure size 144x144 with 1 Axes>"
            ]
          },
          "metadata": {
            "tags": [],
            "needs_background": "light"
          }
        },
        {
          "output_type": "display_data",
          "data": {
            "image/png": "[encoded data removed]",
            "text/plain": [
              "<Figure size 144x144 with 1 Axes>"
            ]
          },
          "metadata": {
            "tags": [],
            "needs_background": "light"
          }
        }
      ]
    }
  ]
}