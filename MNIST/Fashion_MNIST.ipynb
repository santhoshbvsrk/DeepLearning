{
  "nbformat": 4,
  "nbformat_minor": 0,
  "metadata": {
    "colab": {
      "name": "Fashion_MNIST.ipynb",
      "provenance": [],
      "authorship_tag": "ABX9TyPs+4LiFeuUK+08SXM+Ddjv",
      "include_colab_link": true
    },
    "kernelspec": {
      "name": "python3",
      "display_name": "Python 3"
    },
    "language_info": {
      "name": "python"
    }
  },
  "cells": [
    {
      "cell_type": "markdown",
      "metadata": {
        "id": "view-in-github",
        "colab_type": "text"
      },
      "source": [
        "<a href=\"https://colab.research.google.com/github/santhoshbvsrk/DeepLearning/blob/main/MNIST/Fashion_MNIST.ipynb\" target=\"_parent\"><img src=\"https://colab.research.google.com/assets/colab-badge.svg\" alt=\"Open In Colab\"/></a>"
      ]
    },
    {
      "cell_type": "markdown",
      "metadata": {
        "id": "N-RHrK4jb6xC"
      },
      "source": [
        "* Importing tensorflow package and all relevant libraries."
      ]
    },
    {
      "cell_type": "code",
      "metadata": {
        "id": "0RqHSOxGbx-P"
      },
      "source": [
        "import tensorflow as tf                  #import Tensorflow library\n",
        "from tensorflow import keras             #import Keras api library for tensorflow\n",
        "from keras import datasets               #import datasets provided by Keras API \n",
        "\n",
        "import numpy as np                      \n",
        "import matplotlib.pyplot as plt              "
      ],
      "execution_count": 1,
      "outputs": []
    },
    {
      "cell_type": "code",
      "metadata": {
        "id": "vr-uEjM3ejdj"
      },
      "source": [
        "fashion=datasets.fashion_mnist          #instantiating Fashion dataset from MNIST under Keras"
      ],
      "execution_count": 2,
      "outputs": []
    },
    {
      "cell_type": "code",
      "metadata": {
        "id": "qN9SHCcXuuXy",
        "outputId": "9c0bf90a-b38b-4a99-a741-cc82292e9cc6",
        "colab": {
          "base_uri": "https://localhost:8080/"
        }
      },
      "source": [
        "(train_images,train_labels),(test_images,test_labels)=fashion.load_data()   #loading MNIST Fashion dataset which does train & test split internally and the default split is 0.2 i.e, 80% train & 20% test"
      ],
      "execution_count": 3,
      "outputs": [
        {
          "output_type": "stream",
          "text": [
            "Downloading data from https://storage.googleapis.com/tensorflow/tf-keras-datasets/train-labels-idx1-ubyte.gz\n",
            "32768/29515 [=================================] - 0s 0us/step\n",
            "Downloading data from https://storage.googleapis.com/tensorflow/tf-keras-datasets/train-images-idx3-ubyte.gz\n",
            "26427392/26421880 [==============================] - 1s 0us/step\n",
            "Downloading data from https://storage.googleapis.com/tensorflow/tf-keras-datasets/t10k-labels-idx1-ubyte.gz\n",
            "8192/5148 [===============================================] - 0s 0us/step\n",
            "Downloading data from https://storage.googleapis.com/tensorflow/tf-keras-datasets/t10k-images-idx3-ubyte.gz\n",
            "4423680/4422102 [==============================] - 0s 0us/step\n"
          ],
          "name": "stdout"
        }
      ]
    },
    {
      "cell_type": "code",
      "metadata": {
        "colab": {
          "base_uri": "https://localhost:8080/"
        },
        "id": "iKhP9uWfu9KZ",
        "outputId": "94db2e6e-3c11-4941-87cc-37eba10cd19d"
      },
      "source": [
        "# checking the shape of x_train, y_train, x_test & y_test variables\n",
        "print(train_images.shape)            \n",
        "print(train_labels.shape)\n",
        "print(test_images.shape)\n",
        "print(test_labels.shape)"
      ],
      "execution_count": 4,
      "outputs": [
        {
          "output_type": "stream",
          "text": [
            "(60000, 28, 28)\n",
            "(60000,)\n",
            "(10000, 28, 28)\n",
            "(10000,)\n"
          ],
          "name": "stdout"
        }
      ]
    },
    {
      "cell_type": "code",
      "metadata": {
        "colab": {
          "base_uri": "https://localhost:8080/"
        },
        "id": "WWwqw0XXvfH-",
        "outputId": "45b5e888-20fe-47f5-d2ec-97eb96bfc65c"
      },
      "source": [
        "train_images[0]    #checking the data present in first row of x_train"
      ],
      "execution_count": 5,
      "outputs": [
        {
          "output_type": "execute_result",
          "data": {
            "text/plain": [
              "array([[  0,   0,   0,   0,   0,   0,   0,   0,   0,   0,   0,   0,   0,\n",
              "          0,   0,   0,   0,   0,   0,   0,   0,   0,   0,   0,   0,   0,\n",
              "          0,   0],\n",
              "       [  0,   0,   0,   0,   0,   0,   0,   0,   0,   0,   0,   0,   0,\n",
              "          0,   0,   0,   0,   0,   0,   0,   0,   0,   0,   0,   0,   0,\n",
              "          0,   0],\n",
              "       [  0,   0,   0,   0,   0,   0,   0,   0,   0,   0,   0,   0,   0,\n",
              "          0,   0,   0,   0,   0,   0,   0,   0,   0,   0,   0,   0,   0,\n",
              "          0,   0],\n",
              "       [  0,   0,   0,   0,   0,   0,   0,   0,   0,   0,   0,   0,   1,\n",
              "          0,   0,  13,  73,   0,   0,   1,   4,   0,   0,   0,   0,   1,\n",
              "          1,   0],\n",
              "       [  0,   0,   0,   0,   0,   0,   0,   0,   0,   0,   0,   0,   3,\n",
              "          0,  36, 136, 127,  62,  54,   0,   0,   0,   1,   3,   4,   0,\n",
              "          0,   3],\n",
              "       [  0,   0,   0,   0,   0,   0,   0,   0,   0,   0,   0,   0,   6,\n",
              "          0, 102, 204, 176, 134, 144, 123,  23,   0,   0,   0,   0,  12,\n",
              "         10,   0],\n",
              "       [  0,   0,   0,   0,   0,   0,   0,   0,   0,   0,   0,   0,   0,\n",
              "          0, 155, 236, 207, 178, 107, 156, 161, 109,  64,  23,  77, 130,\n",
              "         72,  15],\n",
              "       [  0,   0,   0,   0,   0,   0,   0,   0,   0,   0,   0,   1,   0,\n",
              "         69, 207, 223, 218, 216, 216, 163, 127, 121, 122, 146, 141,  88,\n",
              "        172,  66],\n",
              "       [  0,   0,   0,   0,   0,   0,   0,   0,   0,   1,   1,   1,   0,\n",
              "        200, 232, 232, 233, 229, 223, 223, 215, 213, 164, 127, 123, 196,\n",
              "        229,   0],\n",
              "       [  0,   0,   0,   0,   0,   0,   0,   0,   0,   0,   0,   0,   0,\n",
              "        183, 225, 216, 223, 228, 235, 227, 224, 222, 224, 221, 223, 245,\n",
              "        173,   0],\n",
              "       [  0,   0,   0,   0,   0,   0,   0,   0,   0,   0,   0,   0,   0,\n",
              "        193, 228, 218, 213, 198, 180, 212, 210, 211, 213, 223, 220, 243,\n",
              "        202,   0],\n",
              "       [  0,   0,   0,   0,   0,   0,   0,   0,   0,   1,   3,   0,  12,\n",
              "        219, 220, 212, 218, 192, 169, 227, 208, 218, 224, 212, 226, 197,\n",
              "        209,  52],\n",
              "       [  0,   0,   0,   0,   0,   0,   0,   0,   0,   0,   6,   0,  99,\n",
              "        244, 222, 220, 218, 203, 198, 221, 215, 213, 222, 220, 245, 119,\n",
              "        167,  56],\n",
              "       [  0,   0,   0,   0,   0,   0,   0,   0,   0,   4,   0,   0,  55,\n",
              "        236, 228, 230, 228, 240, 232, 213, 218, 223, 234, 217, 217, 209,\n",
              "         92,   0],\n",
              "       [  0,   0,   1,   4,   6,   7,   2,   0,   0,   0,   0,   0, 237,\n",
              "        226, 217, 223, 222, 219, 222, 221, 216, 223, 229, 215, 218, 255,\n",
              "         77,   0],\n",
              "       [  0,   3,   0,   0,   0,   0,   0,   0,   0,  62, 145, 204, 228,\n",
              "        207, 213, 221, 218, 208, 211, 218, 224, 223, 219, 215, 224, 244,\n",
              "        159,   0],\n",
              "       [  0,   0,   0,   0,  18,  44,  82, 107, 189, 228, 220, 222, 217,\n",
              "        226, 200, 205, 211, 230, 224, 234, 176, 188, 250, 248, 233, 238,\n",
              "        215,   0],\n",
              "       [  0,  57, 187, 208, 224, 221, 224, 208, 204, 214, 208, 209, 200,\n",
              "        159, 245, 193, 206, 223, 255, 255, 221, 234, 221, 211, 220, 232,\n",
              "        246,   0],\n",
              "       [  3, 202, 228, 224, 221, 211, 211, 214, 205, 205, 205, 220, 240,\n",
              "         80, 150, 255, 229, 221, 188, 154, 191, 210, 204, 209, 222, 228,\n",
              "        225,   0],\n",
              "       [ 98, 233, 198, 210, 222, 229, 229, 234, 249, 220, 194, 215, 217,\n",
              "        241,  65,  73, 106, 117, 168, 219, 221, 215, 217, 223, 223, 224,\n",
              "        229,  29],\n",
              "       [ 75, 204, 212, 204, 193, 205, 211, 225, 216, 185, 197, 206, 198,\n",
              "        213, 240, 195, 227, 245, 239, 223, 218, 212, 209, 222, 220, 221,\n",
              "        230,  67],\n",
              "       [ 48, 203, 183, 194, 213, 197, 185, 190, 194, 192, 202, 214, 219,\n",
              "        221, 220, 236, 225, 216, 199, 206, 186, 181, 177, 172, 181, 205,\n",
              "        206, 115],\n",
              "       [  0, 122, 219, 193, 179, 171, 183, 196, 204, 210, 213, 207, 211,\n",
              "        210, 200, 196, 194, 191, 195, 191, 198, 192, 176, 156, 167, 177,\n",
              "        210,  92],\n",
              "       [  0,   0,  74, 189, 212, 191, 175, 172, 175, 181, 185, 188, 189,\n",
              "        188, 193, 198, 204, 209, 210, 210, 211, 188, 188, 194, 192, 216,\n",
              "        170,   0],\n",
              "       [  2,   0,   0,   0,  66, 200, 222, 237, 239, 242, 246, 243, 244,\n",
              "        221, 220, 193, 191, 179, 182, 182, 181, 176, 166, 168,  99,  58,\n",
              "          0,   0],\n",
              "       [  0,   0,   0,   0,   0,   0,   0,  40,  61,  44,  72,  41,  35,\n",
              "          0,   0,   0,   0,   0,   0,   0,   0,   0,   0,   0,   0,   0,\n",
              "          0,   0],\n",
              "       [  0,   0,   0,   0,   0,   0,   0,   0,   0,   0,   0,   0,   0,\n",
              "          0,   0,   0,   0,   0,   0,   0,   0,   0,   0,   0,   0,   0,\n",
              "          0,   0],\n",
              "       [  0,   0,   0,   0,   0,   0,   0,   0,   0,   0,   0,   0,   0,\n",
              "          0,   0,   0,   0,   0,   0,   0,   0,   0,   0,   0,   0,   0,\n",
              "          0,   0]], dtype=uint8)"
            ]
          },
          "metadata": {
            "tags": []
          },
          "execution_count": 5
        }
      ]
    },
    {
      "cell_type": "code",
      "metadata": {
        "colab": {
          "base_uri": "https://localhost:8080/"
        },
        "id": "RWL0SlBEyXkx",
        "outputId": "afd0fd23-64b4-4a91-951f-ed970a602fb2"
      },
      "source": [
        "train_labels[0]    #checking data present in first row of y_train "
      ],
      "execution_count": 6,
      "outputs": [
        {
          "output_type": "execute_result",
          "data": {
            "text/plain": [
              "9"
            ]
          },
          "metadata": {
            "tags": []
          },
          "execution_count": 6
        }
      ]
    },
    {
      "cell_type": "code",
      "metadata": {
        "id": "OYhX6KRt2_5y"
      },
      "source": [
        "class_names=['T-shirt/Top','Trouser','Pullover','Dress','Coat','Sandal','Shirt','Sneaker','Bag','Ankle Boot']  #creating a variable to hold name of the target variable values."
      ],
      "execution_count": 7,
      "outputs": []
    },
    {
      "cell_type": "code",
      "metadata": {
        "id": "0yMdHjH4x6D9"
      },
      "source": [
        "#creating a function to plot images from training dataset\n",
        "def plot_sample(X,y,index):\n",
        "  plt.figure(figsize = (5,2))\n",
        "  plt.imshow(X[index],cmap=plt.cm.binary)   #this function is used to print image & cmap=plt.cm.binary makes the color of image to black & white\n",
        "  plt.xlabel(class_names[y[index]])"
      ],
      "execution_count": 29,
      "outputs": []
    },
    {
      "cell_type": "code",
      "metadata": {
        "colab": {
          "base_uri": "https://localhost:8080/",
          "height": 485
        },
        "id": "OXkyY4YC2svL",
        "outputId": "6eff4907-d7cf-46e0-f865-e6520e70a5b9"
      },
      "source": [
        "#printing first 3 images from the training dataset by calling the above created function\n",
        "for index in range(0,3):\n",
        "  plot_sample(train_images,train_labels,index)"
      ],
      "execution_count": 30,
      "outputs": [
        {
          "output_type": "display_data",
          "data": {
            "image/png": "[encoded data removed]",
            "text/plain": [
              "<Figure size 360x144 with 1 Axes>"
            ]
          },
          "metadata": {
            "tags": [],
            "needs_background": "light"
          }
        },
        {
          "output_type": "display_data",
          "data": {
            "image/png": "[encoded data removed]",
            "text/plain": [
              "<Figure size 360x144 with 1 Axes>"
            ]
          },
          "metadata": {
            "tags": [],
            "needs_background": "light"
          }
        },
        {
          "output_type": "display_data",
          "data": {
            "image/png": "[encoded data removed]",
            "text/plain": [
              "<Figure size 360x144 with 1 Axes>"
            ]
          },
          "metadata": {
            "tags": [],
            "needs_background": "light"
          }
        }
      ]
    },
    {
      "cell_type": "code",
      "metadata": {
        "id": "MfHX4MOW59pS"
      },
      "source": [
        "#normalizing dataset i.e., the value in each and image has values from 0 to 255 which is nothing but the pixel, we'll normalize it to be between 0-1. \n",
        "#Normalizing will be done on the images from both training & testing datasets\n",
        "train_images = train_images / 255.0\n",
        "test_images = test_images / 255.0"
      ],
      "execution_count": 10,
      "outputs": []
    },
    {
      "cell_type": "code",
      "metadata": {
        "id": "59BJzpaM-cjA"
      },
      "source": [
        "from keras import models         #importing models package from Keras\n",
        "from keras import Sequential     #importing Sequential package from Keras to create a Sequential model\n",
        "from keras import layers         #importing layers package from Keras which will be used for adding Input Layers, Hidden Layers & Output Layers"
      ],
      "execution_count": 11,
      "outputs": []
    },
    {
      "cell_type": "markdown",
      "metadata": {
        "id": "wwaYhj09eg4g"
      },
      "source": [
        "### Model with Relu Activation and a single Hidden Layer"
      ]
    },
    {
      "cell_type": "code",
      "metadata": {
        "colab": {
          "base_uri": "https://localhost:8080/"
        },
        "id": "JT5WR2hn-q2Y",
        "outputId": "08c557d4-9a21-40fc-b4c2-39a50ef96ba2"
      },
      "source": [
        "model = Sequential([layers.Flatten(input_shape=(28,28)),  #we mention the input shape as the number of input pixels\n",
        "layers.Dense(100,activation='relu'),                      #This is Hidden Layer1 and 100 is the number of neurons to be created with activation function as 'relu'\n",
        "layers.Dense(10,activation='softmax')                     #This is Output Layer with 10 neurons in the output layer and here we've to mention the number of neurons as the number of output values in target variable and activation function ='softmax' for classifiction problem\n",
        "])\n",
        "\n",
        "model.compile(optimizer='adam',loss='sparse_categorical_crossentropy',metrics=['accuracy']) #compiling model. Here loss is 'sparse_categorical_crossentropy' as that gets the cell value directly rather than one hot encoding which categorical_cross entropy fetches\n",
        "\n",
        "model.summary()    #printing summary of the model"
      ],
      "execution_count": 12,
      "outputs": [
        {
          "output_type": "stream",
          "text": [
            "Model: \"sequential\"\n",
            "_________________________________________________________________\n",
            "Layer (type)                 Output Shape              Param #   \n",
            "=================================================================\n",
            "flatten (Flatten)            (None, 784)               0         \n",
            "_________________________________________________________________\n",
            "dense (Dense)                (None, 100)               78500     \n",
            "_________________________________________________________________\n",
            "dense_1 (Dense)              (None, 10)                1010      \n",
            "=================================================================\n",
            "Total params: 79,510\n",
            "Trainable params: 79,510\n",
            "Non-trainable params: 0\n",
            "_________________________________________________________________\n"
          ],
          "name": "stdout"
        }
      ]
    },
    {
      "cell_type": "code",
      "metadata": {
        "colab": {
          "base_uri": "https://localhost:8080/",
          "height": 590
        },
        "id": "hYX6uLUfAGrS",
        "outputId": "85591975-c73d-4a24-d094-6423bf9cb0f5"
      },
      "source": [
        "history = model.fit(x=train_images,y=train_labels,epochs=10,batch_size=200,verbose=1,validation_data=(test_images,test_labels)) #Fitting model on train & test data to see accuracy & loss of model\n",
        "\n",
        "#plot to see training & test loss\n",
        "plt.plot(history.history['loss'],label='train')\n",
        "plt.plot(history.history['val_loss'],label='test')\n",
        "plt.legend()\n",
        "plt.show()"
      ],
      "execution_count": 45,
      "outputs": [
        {
          "output_type": "stream",
          "text": [
            "Epoch 1/10\n",
            "300/300 [==============================] - 1s 4ms/step - loss: 0.1443 - accuracy: 0.9478 - val_loss: 0.3772 - val_accuracy: 0.8857\n",
            "Epoch 2/10\n",
            "300/300 [==============================] - 1s 4ms/step - loss: 0.1366 - accuracy: 0.9508 - val_loss: 0.3754 - val_accuracy: 0.8861\n",
            "Epoch 3/10\n",
            "300/300 [==============================] - 1s 4ms/step - loss: 0.1373 - accuracy: 0.9507 - val_loss: 0.3691 - val_accuracy: 0.8897\n",
            "Epoch 4/10\n",
            "300/300 [==============================] - 1s 4ms/step - loss: 0.1337 - accuracy: 0.9523 - val_loss: 0.3792 - val_accuracy: 0.8890\n",
            "Epoch 5/10\n",
            "300/300 [==============================] - 1s 4ms/step - loss: 0.1301 - accuracy: 0.9541 - val_loss: 0.3906 - val_accuracy: 0.8845\n",
            "Epoch 6/10\n",
            "300/300 [==============================] - 1s 4ms/step - loss: 0.1295 - accuracy: 0.9539 - val_loss: 0.3768 - val_accuracy: 0.8873\n",
            "Epoch 7/10\n",
            "300/300 [==============================] - 1s 4ms/step - loss: 0.1268 - accuracy: 0.9549 - val_loss: 0.3849 - val_accuracy: 0.8853\n",
            "Epoch 8/10\n",
            "300/300 [==============================] - 1s 4ms/step - loss: 0.1257 - accuracy: 0.9549 - val_loss: 0.3934 - val_accuracy: 0.8856\n",
            "Epoch 9/10\n",
            "300/300 [==============================] - 1s 4ms/step - loss: 0.1243 - accuracy: 0.9548 - val_loss: 0.3751 - val_accuracy: 0.8899\n",
            "Epoch 10/10\n",
            "300/300 [==============================] - 1s 4ms/step - loss: 0.1220 - accuracy: 0.9562 - val_loss: 0.4046 - val_accuracy: 0.8830\n"
          ],
          "name": "stdout"
        },
        {
          "output_type": "display_data",
          "data": {
            "image/png": "[encoded data removed]",
            "text/plain": [
              "<Figure size 432x288 with 1 Axes>"
            ]
          },
          "metadata": {
            "tags": [],
            "needs_background": "light"
          }
        }
      ]
    },
    {
      "cell_type": "markdown",
      "metadata": {
        "id": "ItXraWR5AxMM"
      },
      "source": [
        "* From the above we see that Accuracy of Training is 93.32% & Validation is 89.45% for 10 epochs.\n",
        "* Also the Loss on Training is 0.1838 & Validation is 0.3167 for 10 epochs.\n",
        "* The validation loss is not decreasing."
      ]
    },
    {
      "cell_type": "markdown",
      "metadata": {
        "id": "DxtqF0SiFJcW"
      },
      "source": [
        "* Let us perform regularization on data to remove overfit."
      ]
    },
    {
      "cell_type": "markdown",
      "metadata": {
        "id": "vwSAa3O4Xbs6"
      },
      "source": [
        "### L2 Regularizer"
      ]
    },
    {
      "cell_type": "code",
      "metadata": {
        "colab": {
          "base_uri": "https://localhost:8080/"
        },
        "id": "gVoiQU6gFXLR",
        "outputId": "55f9f99f-68f9-4d9e-9c9f-44f9ea81a030"
      },
      "source": [
        "from keras import regularizers\n",
        "\n",
        "model_l2reg = Sequential([layers.Flatten(input_shape=(28,28)),\n",
        "layers.Dense(100,activation='relu',kernel_regularizer=regularizers.l2(0.0001)),\n",
        "layers.Dense(10,activation='softmax')\n",
        "])\n",
        "\n",
        "model_l2reg.compile(optimizer='adam',loss='sparse_categorical_crossentropy',metrics=['accuracy'])\n",
        "\n",
        "model_l2reg.summary()"
      ],
      "execution_count": 14,
      "outputs": [
        {
          "output_type": "stream",
          "text": [
            "Model: \"sequential_1\"\n",
            "_________________________________________________________________\n",
            "Layer (type)                 Output Shape              Param #   \n",
            "=================================================================\n",
            "flatten_1 (Flatten)          (None, 784)               0         \n",
            "_________________________________________________________________\n",
            "dense_2 (Dense)              (None, 100)               78500     \n",
            "_________________________________________________________________\n",
            "dense_3 (Dense)              (None, 10)                1010      \n",
            "=================================================================\n",
            "Total params: 79,510\n",
            "Trainable params: 79,510\n",
            "Non-trainable params: 0\n",
            "_________________________________________________________________\n"
          ],
          "name": "stdout"
        }
      ]
    },
    {
      "cell_type": "code",
      "metadata": {
        "colab": {
          "base_uri": "https://localhost:8080/",
          "height": 590
        },
        "id": "hVp_t81SGeQI",
        "outputId": "ce1a7037-feb5-49e4-89af-26c6bc414ca3"
      },
      "source": [
        "history_l2reg = model_l2reg.fit(x=train_images,y=train_labels,epochs=10,batch_size=200,verbose=1,validation_data=(test_images,test_labels))\n",
        "\n",
        "#plot to see training & test loss\n",
        "plt.plot(history_l2reg.history['loss'],label='train')\n",
        "plt.plot(history_l2reg.history['val_loss'],label='test')\n",
        "plt.legend()\n",
        "plt.show()"
      ],
      "execution_count": 44,
      "outputs": [
        {
          "output_type": "stream",
          "text": [
            "Epoch 1/10\n",
            "300/300 [==============================] - 1s 5ms/step - loss: 0.2493 - accuracy: 0.9219 - val_loss: 0.3700 - val_accuracy: 0.8847\n",
            "Epoch 2/10\n",
            "300/300 [==============================] - 1s 4ms/step - loss: 0.2468 - accuracy: 0.9239 - val_loss: 0.3633 - val_accuracy: 0.8869\n",
            "Epoch 3/10\n",
            "300/300 [==============================] - 1s 4ms/step - loss: 0.2449 - accuracy: 0.9241 - val_loss: 0.3900 - val_accuracy: 0.8776\n",
            "Epoch 4/10\n",
            "300/300 [==============================] - 1s 4ms/step - loss: 0.2426 - accuracy: 0.9242 - val_loss: 0.3735 - val_accuracy: 0.8835\n",
            "Epoch 5/10\n",
            "300/300 [==============================] - 1s 4ms/step - loss: 0.2387 - accuracy: 0.9267 - val_loss: 0.3746 - val_accuracy: 0.8805\n",
            "Epoch 6/10\n",
            "300/300 [==============================] - 1s 4ms/step - loss: 0.2431 - accuracy: 0.9241 - val_loss: 0.3803 - val_accuracy: 0.8822\n",
            "Epoch 7/10\n",
            "300/300 [==============================] - 1s 4ms/step - loss: 0.2360 - accuracy: 0.9273 - val_loss: 0.3651 - val_accuracy: 0.8882\n",
            "Epoch 8/10\n",
            "300/300 [==============================] - 1s 4ms/step - loss: 0.2330 - accuracy: 0.9288 - val_loss: 0.3780 - val_accuracy: 0.8845\n",
            "Epoch 9/10\n",
            "300/300 [==============================] - 1s 4ms/step - loss: 0.2352 - accuracy: 0.9276 - val_loss: 0.3670 - val_accuracy: 0.8852\n",
            "Epoch 10/10\n",
            "300/300 [==============================] - 1s 4ms/step - loss: 0.2325 - accuracy: 0.9285 - val_loss: 0.3787 - val_accuracy: 0.8806\n"
          ],
          "name": "stdout"
        },
        {
          "output_type": "display_data",
          "data": {
            "image/png": "[encoded data removed]",
            "text/plain": [
              "<Figure size 432x288 with 1 Axes>"
            ]
          },
          "metadata": {
            "tags": [],
            "needs_background": "light"
          }
        }
      ]
    },
    {
      "cell_type": "markdown",
      "metadata": {
        "id": "ox4AS2fuWvuD"
      },
      "source": [
        "* From the above we see that Accuracy of Training is 89.82% & Validation is 87.5% for 10 epochs.\n",
        "* Also the Loss on Training is 0.3125 & Validation is 0.3804 for 10 epochs.\n",
        "* The Validation loss is fluctuating and there is a slight decrease."
      ]
    },
    {
      "cell_type": "markdown",
      "metadata": {
        "id": "STMPnUksXVGx"
      },
      "source": [
        "### L1 Regularizer"
      ]
    },
    {
      "cell_type": "code",
      "metadata": {
        "colab": {
          "base_uri": "https://localhost:8080/"
        },
        "id": "j1q1lnJHHX9S",
        "outputId": "d9600015-458d-445e-9e40-7209b61f44f5"
      },
      "source": [
        "from keras import regularizers\n",
        "\n",
        "model_l1reg = Sequential([layers.Flatten(input_shape=(28,28)),\n",
        "layers.Dense(100,activation='relu',kernel_regularizer=regularizers.l1(0.0001)),\n",
        "layers.Dense(10,activation='softmax')\n",
        "])\n",
        "\n",
        "model_l1reg.compile(optimizer='adam',loss='sparse_categorical_crossentropy',metrics=['accuracy'])\n",
        "\n",
        "model_l1reg.summary()"
      ],
      "execution_count": 16,
      "outputs": [
        {
          "output_type": "stream",
          "text": [
            "Model: \"sequential_2\"\n",
            "_________________________________________________________________\n",
            "Layer (type)                 Output Shape              Param #   \n",
            "=================================================================\n",
            "flatten_2 (Flatten)          (None, 784)               0         \n",
            "_________________________________________________________________\n",
            "dense_4 (Dense)              (None, 100)               78500     \n",
            "_________________________________________________________________\n",
            "dense_5 (Dense)              (None, 10)                1010      \n",
            "=================================================================\n",
            "Total params: 79,510\n",
            "Trainable params: 79,510\n",
            "Non-trainable params: 0\n",
            "_________________________________________________________________\n"
          ],
          "name": "stdout"
        }
      ]
    },
    {
      "cell_type": "code",
      "metadata": {
        "colab": {
          "base_uri": "https://localhost:8080/",
          "height": 593
        },
        "id": "NFuP0ii5Ht0v",
        "outputId": "92f9c436-fa55-45b3-f3fc-d75da3f60690"
      },
      "source": [
        "history_l1reg = model_l1reg.fit(x=train_images,y=train_labels,epochs=10,batch_size=200,verbose=1,validation_data=(test_images,test_labels))\n",
        "\n",
        "#plot to see training & test loss\n",
        "plt.plot(history_l1reg.history['loss'], label='train')\n",
        "plt.plot(history_l1reg.history['val_loss'],label='test')\n",
        "plt.legend()\n",
        "plt.show()"
      ],
      "execution_count": 48,
      "outputs": [
        {
          "output_type": "stream",
          "text": [
            "Epoch 1/10\n",
            "300/300 [==============================] - 1s 5ms/step - loss: 0.3533 - accuracy: 0.9018 - val_loss: 0.4153 - val_accuracy: 0.8809\n",
            "Epoch 2/10\n",
            "300/300 [==============================] - 1s 5ms/step - loss: 0.3532 - accuracy: 0.9004 - val_loss: 0.4249 - val_accuracy: 0.8782\n",
            "Epoch 3/10\n",
            "300/300 [==============================] - 1s 4ms/step - loss: 0.3532 - accuracy: 0.9011 - val_loss: 0.4102 - val_accuracy: 0.8824\n",
            "Epoch 4/10\n",
            "300/300 [==============================] - 1s 4ms/step - loss: 0.3489 - accuracy: 0.9022 - val_loss: 0.4167 - val_accuracy: 0.8825\n",
            "Epoch 5/10\n",
            "300/300 [==============================] - 1s 4ms/step - loss: 0.3482 - accuracy: 0.9033 - val_loss: 0.4333 - val_accuracy: 0.8746\n",
            "Epoch 6/10\n",
            "300/300 [==============================] - 1s 5ms/step - loss: 0.3502 - accuracy: 0.9015 - val_loss: 0.4235 - val_accuracy: 0.8767\n",
            "Epoch 7/10\n",
            "300/300 [==============================] - 1s 4ms/step - loss: 0.3497 - accuracy: 0.9022 - val_loss: 0.4149 - val_accuracy: 0.8822\n",
            "Epoch 8/10\n",
            "300/300 [==============================] - 1s 5ms/step - loss: 0.3451 - accuracy: 0.9042 - val_loss: 0.4333 - val_accuracy: 0.8751\n",
            "Epoch 9/10\n",
            "300/300 [==============================] - 1s 4ms/step - loss: 0.3452 - accuracy: 0.9035 - val_loss: 0.4326 - val_accuracy: 0.8747\n",
            "Epoch 10/10\n",
            "300/300 [==============================] - 1s 5ms/step - loss: 0.3459 - accuracy: 0.9034 - val_loss: 0.4358 - val_accuracy: 0.8704\n"
          ],
          "name": "stdout"
        },
        {
          "output_type": "display_data",
          "data": {
            "image/png": "[encoded data removed]",
            "text/plain": [
              "<Figure size 432x288 with 1 Axes>"
            ]
          },
          "metadata": {
            "tags": [],
            "needs_background": "light"
          }
        }
      ]
    },
    {
      "cell_type": "markdown",
      "metadata": {
        "id": "8baDSIu7Xz4i"
      },
      "source": [
        "* From the above we see that Accuracy of Training is 87.65% & Validation is 85.91% for 10 epochs.\n",
        "* Also the Loss on Training is 0.4476 & Validation is 0.4858 for 10 epochs.\n",
        "* Validation loss is fluctuating but decreased a bit when compared to previous models."
      ]
    },
    {
      "cell_type": "markdown",
      "metadata": {
        "id": "DOrnIgLmYHRt"
      },
      "source": [
        "### L1 Regularizer with 2 Hidden Layers"
      ]
    },
    {
      "cell_type": "code",
      "metadata": {
        "colab": {
          "base_uri": "https://localhost:8080/"
        },
        "id": "Uml94zaKKPQg",
        "outputId": "4d5dc03a-7935-4321-9a2d-079762abda73"
      },
      "source": [
        "from keras import regularizers\n",
        "\n",
        "model_l1reg_2layers = Sequential([layers.Flatten(input_shape=(28,28)),\n",
        "layers.Dense(100,activation='relu',kernel_regularizer=regularizers.l1(0.0001)),\n",
        "layers.Dense(80,activation='relu',kernel_regularizer=regularizers.l1(0.0001)),\n",
        "layers.Dense(10,activation='softmax')\n",
        "])\n",
        "\n",
        "model_l1reg_2layers.compile(optimizer='adam',loss='sparse_categorical_crossentropy',metrics=['accuracy'])\n",
        "\n",
        "model_l1reg_2layers.summary()"
      ],
      "execution_count": 18,
      "outputs": [
        {
          "output_type": "stream",
          "text": [
            "Model: \"sequential_3\"\n",
            "_________________________________________________________________\n",
            "Layer (type)                 Output Shape              Param #   \n",
            "=================================================================\n",
            "flatten_3 (Flatten)          (None, 784)               0         \n",
            "_________________________________________________________________\n",
            "dense_6 (Dense)              (None, 100)               78500     \n",
            "_________________________________________________________________\n",
            "dense_7 (Dense)              (None, 80)                8080      \n",
            "_________________________________________________________________\n",
            "dense_8 (Dense)              (None, 10)                810       \n",
            "=================================================================\n",
            "Total params: 87,390\n",
            "Trainable params: 87,390\n",
            "Non-trainable params: 0\n",
            "_________________________________________________________________\n"
          ],
          "name": "stdout"
        }
      ]
    },
    {
      "cell_type": "code",
      "metadata": {
        "colab": {
          "base_uri": "https://localhost:8080/",
          "height": 590
        },
        "id": "KkEtJ6sENhTr",
        "outputId": "f47c15fa-ac66-4d09-c530-aa83cc658c7f"
      },
      "source": [
        "history_l2reg_2lay = model_l1reg_2layers.fit(x=train_images,y=train_labels,epochs=10,batch_size=200,verbose=1,validation_data=(test_images,test_labels))\n",
        "\n",
        "#plot to see training & test loss\n",
        "plt.plot(history_l2reg_2lay.history['loss'], label='train')\n",
        "plt.plot(history_l2reg_2lay.history['val_loss'], label='test')\n",
        "plt.legend()\n",
        "plt.show()"
      ],
      "execution_count": 47,
      "outputs": [
        {
          "output_type": "stream",
          "text": [
            "Epoch 1/10\n",
            "300/300 [==============================] - 1s 5ms/step - loss: 0.3651 - accuracy: 0.9014 - val_loss: 0.4353 - val_accuracy: 0.8812\n",
            "Epoch 2/10\n",
            "300/300 [==============================] - 1s 5ms/step - loss: 0.3579 - accuracy: 0.9044 - val_loss: 0.4268 - val_accuracy: 0.8806\n",
            "Epoch 3/10\n",
            "300/300 [==============================] - 1s 5ms/step - loss: 0.3587 - accuracy: 0.9027 - val_loss: 0.4277 - val_accuracy: 0.8799\n",
            "Epoch 4/10\n",
            "300/300 [==============================] - 1s 5ms/step - loss: 0.3598 - accuracy: 0.9033 - val_loss: 0.4223 - val_accuracy: 0.8803\n",
            "Epoch 5/10\n",
            "300/300 [==============================] - 1s 5ms/step - loss: 0.3534 - accuracy: 0.9046 - val_loss: 0.4289 - val_accuracy: 0.8800\n",
            "Epoch 6/10\n",
            "300/300 [==============================] - 1s 5ms/step - loss: 0.3554 - accuracy: 0.9031 - val_loss: 0.4282 - val_accuracy: 0.8802\n",
            "Epoch 7/10\n",
            "300/300 [==============================] - 2s 5ms/step - loss: 0.3515 - accuracy: 0.9058 - val_loss: 0.4219 - val_accuracy: 0.8829\n",
            "Epoch 8/10\n",
            "300/300 [==============================] - 2s 5ms/step - loss: 0.3498 - accuracy: 0.9055 - val_loss: 0.4429 - val_accuracy: 0.8761\n",
            "Epoch 9/10\n",
            "300/300 [==============================] - 1s 5ms/step - loss: 0.3511 - accuracy: 0.9051 - val_loss: 0.4221 - val_accuracy: 0.8815\n",
            "Epoch 10/10\n",
            "300/300 [==============================] - 1s 5ms/step - loss: 0.3486 - accuracy: 0.9060 - val_loss: 0.4290 - val_accuracy: 0.8810\n"
          ],
          "name": "stdout"
        },
        {
          "output_type": "display_data",
          "data": {
            "image/png": "[encoded data removed]",
            "text/plain": [
              "<Figure size 432x288 with 1 Axes>"
            ]
          },
          "metadata": {
            "tags": [],
            "needs_background": "light"
          }
        }
      ]
    },
    {
      "cell_type": "markdown",
      "metadata": {
        "id": "abIBim1kYb0c"
      },
      "source": [
        "* From the above we see that Accuracy of Training is 88.61% & Validation is 87.08% for 10 epochs.\n",
        "* Also the Loss on Training is 0.4542 & Validation is 0.4975 for 10 epochs.\n",
        "* Validation loss is fluctuating but decreased a bit when compared to previous "
      ]
    },
    {
      "cell_type": "markdown",
      "metadata": {
        "id": "jztjoUkUYtLE"
      },
      "source": [
        "### 25% Dropout with 2 Hidden Layers\n",
        "\n",
        "\n",
        "* ***NOTE***: Dropouts are used to reduce overfitting i.e., it'll eliminate few neurons at each and every layer so that it doesn't train more on the train data leading to overfit."
      ]
    },
    {
      "cell_type": "code",
      "metadata": {
        "colab": {
          "base_uri": "https://localhost:8080/"
        },
        "id": "URmwh4goRqum",
        "outputId": "853b49a5-b8a2-4404-f277-34f0d6d60910"
      },
      "source": [
        "from keras.layers import Dense\n",
        "from keras.layers.core import Dropout\n",
        "\n",
        "model_2layers_do = Sequential()\n",
        "\n",
        "model_2layers_do.add(layers.Flatten(input_shape=(28,28)))\n",
        "model_2layers_do.add(Dense(100,activation='relu')), Dropout(0.25)  #using dropout of 25% to eliminate neurons from HL1, so that model won't learn too much from train data\n",
        "model_2layers_do.add(Dense(80,activation='relu')), Dropout(0.25)   #using dropout of 25% to eliminate neurons from HL2, so that model won't learn too much from train data\n",
        "model_2layers_do.add(Dense(10,activation='softmax'))\n",
        "\n",
        "model_2layers_do.compile(optimizer='adam',loss='sparse_categorical_crossentropy',metrics=['acc'])\n",
        "\n",
        "model_2layers_do.summary()"
      ],
      "execution_count": 20,
      "outputs": [
        {
          "output_type": "stream",
          "text": [
            "Model: \"sequential_4\"\n",
            "_________________________________________________________________\n",
            "Layer (type)                 Output Shape              Param #   \n",
            "=================================================================\n",
            "flatten_4 (Flatten)          (None, 784)               0         \n",
            "_________________________________________________________________\n",
            "dense_9 (Dense)              (None, 100)               78500     \n",
            "_________________________________________________________________\n",
            "dense_10 (Dense)             (None, 80)                8080      \n",
            "_________________________________________________________________\n",
            "dense_11 (Dense)             (None, 10)                810       \n",
            "=================================================================\n",
            "Total params: 87,390\n",
            "Trainable params: 87,390\n",
            "Non-trainable params: 0\n",
            "_________________________________________________________________\n"
          ],
          "name": "stdout"
        }
      ]
    },
    {
      "cell_type": "code",
      "metadata": {
        "colab": {
          "base_uri": "https://localhost:8080/",
          "height": 590
        },
        "id": "LDef9Zm8TQ-6",
        "outputId": "bb0f0d39-ae48-4fa0-f773-ef79394cfff3"
      },
      "source": [
        "history_2layers_do = model_2layers_do.fit(x=train_images,y=train_labels,epochs=10,batch_size=200,verbose=1,validation_data=(test_images,test_labels))\n",
        "\n",
        "#plot to see training & test loss\n",
        "plt.plot(history_2layers_do.history['loss'],label='train')\n",
        "plt.plot(history_2layers_do.history['val_loss'],label='test')\n",
        "plt.legend()\n",
        "plt.show()"
      ],
      "execution_count": 49,
      "outputs": [
        {
          "output_type": "stream",
          "text": [
            "Epoch 1/10\n",
            "300/300 [==============================] - 1s 5ms/step - loss: 0.2550 - acc: 0.9050 - val_loss: 0.3343 - val_acc: 0.8817\n",
            "Epoch 2/10\n",
            "300/300 [==============================] - 1s 4ms/step - loss: 0.2504 - acc: 0.9071 - val_loss: 0.3489 - val_acc: 0.8767\n",
            "Epoch 3/10\n",
            "300/300 [==============================] - 1s 4ms/step - loss: 0.2431 - acc: 0.9104 - val_loss: 0.3474 - val_acc: 0.8774\n",
            "Epoch 4/10\n",
            "300/300 [==============================] - 1s 4ms/step - loss: 0.2352 - acc: 0.9122 - val_loss: 0.3255 - val_acc: 0.8852\n",
            "Epoch 5/10\n",
            "300/300 [==============================] - 1s 4ms/step - loss: 0.2322 - acc: 0.9142 - val_loss: 0.3347 - val_acc: 0.8793\n",
            "Epoch 6/10\n",
            "300/300 [==============================] - 1s 4ms/step - loss: 0.2216 - acc: 0.9182 - val_loss: 0.3318 - val_acc: 0.8872\n",
            "Epoch 7/10\n",
            "300/300 [==============================] - 1s 4ms/step - loss: 0.2152 - acc: 0.9201 - val_loss: 0.3231 - val_acc: 0.8845\n",
            "Epoch 8/10\n",
            "300/300 [==============================] - 1s 5ms/step - loss: 0.2108 - acc: 0.9218 - val_loss: 0.3200 - val_acc: 0.8888\n",
            "Epoch 9/10\n",
            "300/300 [==============================] - 1s 5ms/step - loss: 0.2036 - acc: 0.9248 - val_loss: 0.3327 - val_acc: 0.8898\n",
            "Epoch 10/10\n",
            "300/300 [==============================] - 1s 4ms/step - loss: 0.2009 - acc: 0.9248 - val_loss: 0.3398 - val_acc: 0.8874\n"
          ],
          "name": "stdout"
        },
        {
          "output_type": "display_data",
          "data": {
            "image/png": "[encoded data removed]",
            "text/plain": [
              "<Figure size 432x288 with 1 Axes>"
            ]
          },
          "metadata": {
            "tags": [],
            "needs_background": "light"
          }
        }
      ]
    },
    {
      "cell_type": "markdown",
      "metadata": {
        "id": "ynEeloPMZSOG"
      },
      "source": [
        "* From the above we see that Accuracy of Training is 90.52% & Validation is 87.81% for 10 epochs.\n",
        "* Also the Loss on Training is 0.2577 & Validation is 0.3377 for 10 epochs.\n",
        "* Though the Validation loss is less when compared to other models, it has started to increase."
      ]
    },
    {
      "cell_type": "markdown",
      "metadata": {
        "id": "-hS9bKKNZgr_"
      },
      "source": [
        "### Early Stopping Callback with 2 Hidden Layers\n",
        "\n",
        "\n",
        "* NOTE: *We are using early stopping call back method to handle the problem from previous model i.e., validation loss increasing after a certain number of epochs.*\n",
        "* *In Early Stopping, before calculating Validation Loss of the next epoch it'll compare it with previous epochs validation loss and stops a step before if that has a less Validation Loss*.\n",
        "* *Sometimes it may so happen that validation loss starts decreasing from a minimum value after a certain number of epochs. This can be handled with a parameter 'patience'. It is better to give high value for patience so that it'll stop after a certain number of epochs.*"
      ]
    },
    {
      "cell_type": "code",
      "metadata": {
        "colab": {
          "base_uri": "https://localhost:8080/"
        },
        "id": "iPBqcrFDTguD",
        "outputId": "4777356e-e337-4aa0-90d1-ca5277e12b5d"
      },
      "source": [
        "from keras.callbacks import EarlyStopping  #importing EarlyStopping package from Keras Callbacks\n",
        "\n",
        "model_2layers_es = Sequential()\n",
        "\n",
        "model_2layers_es.add(layers.Flatten(input_shape=(28,28)))\n",
        "model_2layers_es.add(Dense(100,activation='relu'))\n",
        "model_2layers_es.add(Dense(80,activation='relu'))\n",
        "model_2layers_es.add(Dense(10,activation='softmax'))\n",
        "\n",
        "model_2layers_es.compile(optimizer='adam',loss='sparse_categorical_crossentropy',metrics=['acc'])\n",
        "\n",
        "model_2layers_es.summary()"
      ],
      "execution_count": 22,
      "outputs": [
        {
          "output_type": "stream",
          "text": [
            "Model: \"sequential_5\"\n",
            "_________________________________________________________________\n",
            "Layer (type)                 Output Shape              Param #   \n",
            "=================================================================\n",
            "flatten_5 (Flatten)          (None, 784)               0         \n",
            "_________________________________________________________________\n",
            "dense_12 (Dense)             (None, 100)               78500     \n",
            "_________________________________________________________________\n",
            "dense_13 (Dense)             (None, 80)                8080      \n",
            "_________________________________________________________________\n",
            "dense_14 (Dense)             (None, 10)                810       \n",
            "=================================================================\n",
            "Total params: 87,390\n",
            "Trainable params: 87,390\n",
            "Non-trainable params: 0\n",
            "_________________________________________________________________\n"
          ],
          "name": "stdout"
        }
      ]
    },
    {
      "cell_type": "code",
      "metadata": {
        "colab": {
          "base_uri": "https://localhost:8080/",
          "height": 476
        },
        "id": "Zk4hOy1xaEmZ",
        "outputId": "1f3160c5-1d97-4ac7-8a15-fcdc01e30fb9"
      },
      "source": [
        "history_es = model_2layers_es.fit(x=train_images,y=train_labels,epochs=10,validation_data=(test_images,test_labels),callbacks=[EarlyStopping(monitor='val_loss', patience=3,mode='min',verbose=1)])\n",
        "#Monitor='val_loss' is to tell the model to monitor val_loss value, with a patience of 3 i.e., after finding a min value on val_loss see 3 more epochs if at all the val_loss is further decreasing if not stop the model.\n",
        "\n",
        "\n",
        "#plot to see training & test loss\n",
        "plt.plot(history_es.history['loss'],label='train')\n",
        "plt.plot(history_es.history['val_loss'],label='test')\n",
        "plt.legend()\n",
        "plt.show()"
      ],
      "execution_count": 54,
      "outputs": [
        {
          "output_type": "stream",
          "text": [
            "Epoch 1/10\n",
            "1875/1875 [==============================] - 4s 2ms/step - loss: 0.1002 - acc: 0.9614 - val_loss: 0.5507 - val_acc: 0.8870\n",
            "Epoch 2/10\n",
            "1875/1875 [==============================] - 4s 2ms/step - loss: 0.1013 - acc: 0.9609 - val_loss: 0.5881 - val_acc: 0.8810\n",
            "Epoch 3/10\n",
            "1875/1875 [==============================] - 4s 2ms/step - loss: 0.0999 - acc: 0.9621 - val_loss: 0.5255 - val_acc: 0.8832\n",
            "Epoch 4/10\n",
            "1875/1875 [==============================] - 4s 2ms/step - loss: 0.0970 - acc: 0.9617 - val_loss: 0.5993 - val_acc: 0.8820\n",
            "Epoch 5/10\n",
            "1875/1875 [==============================] - 4s 2ms/step - loss: 0.0945 - acc: 0.9638 - val_loss: 0.5976 - val_acc: 0.8855\n",
            "Epoch 6/10\n",
            "1875/1875 [==============================] - 4s 2ms/step - loss: 0.0965 - acc: 0.9629 - val_loss: 0.5848 - val_acc: 0.8830\n",
            "Epoch 00006: early stopping\n"
          ],
          "name": "stdout"
        },
        {
          "output_type": "display_data",
          "data": {
            "image/png": "[encoded data removed]",
            "text/plain": [
              "<Figure size 432x288 with 1 Axes>"
            ]
          },
          "metadata": {
            "tags": [],
            "needs_background": "light"
          }
        }
      ]
    },
    {
      "cell_type": "markdown",
      "metadata": {
        "id": "t1kkl1DiaKBl"
      },
      "source": [
        "* From the above we see that Accuracy of Training is 94.99% & Validation is 88.42% for 10 epochs.\n",
        "* Also the Loss on Training is 0.1312 & Validation is 0.5255 for 10 epochs.\n",
        "* Here the model has stopped at epoch 6, because the minimum val_loss is at epoch3 and it did wait for 3 more epochs (patience=3) to see if the val_loss is decreasing further."
      ]
    },
    {
      "cell_type": "code",
      "metadata": {
        "id": "RF2PQbgSRQyg",
        "outputId": "b33adbf9-c43b-4851-b0ec-c01075fc1f5f",
        "colab": {
          "base_uri": "https://localhost:8080/",
          "height": 592
        }
      },
      "source": [
        "history_es = model_2layers_es.fit(x=train_images,y=train_labels,epochs=10,validation_data=(test_images,test_labels),callbacks=[EarlyStopping(monitor='val_loss', patience=200,mode='min',verbose=1)])\n",
        "#Monitor='val_loss' is to tell the model to monitor val_loss value, with a patience of 3 i.e., after finding a min value on val_loss see 3 more epochs if at all the val_loss is further decreasing if not stop the model.\n",
        "\n",
        "\n",
        "#plot to see training & test loss\n",
        "plt.plot(history_es.history['loss'],label='train')\n",
        "plt.plot(history_es.history['val_loss'],label='test')\n",
        "plt.legend()\n",
        "plt.show()"
      ],
      "execution_count": 55,
      "outputs": [
        {
          "output_type": "stream",
          "text": [
            "Epoch 1/10\n",
            "1875/1875 [==============================] - 4s 2ms/step - loss: 0.0939 - acc: 0.9646 - val_loss: 0.5571 - val_acc: 0.8862\n",
            "Epoch 2/10\n",
            "1875/1875 [==============================] - 4s 2ms/step - loss: 0.0910 - acc: 0.9656 - val_loss: 0.6181 - val_acc: 0.8899\n",
            "Epoch 3/10\n",
            "1875/1875 [==============================] - 4s 2ms/step - loss: 0.0908 - acc: 0.9660 - val_loss: 0.6422 - val_acc: 0.8872\n",
            "Epoch 4/10\n",
            "1875/1875 [==============================] - 4s 2ms/step - loss: 0.0882 - acc: 0.9661 - val_loss: 0.6344 - val_acc: 0.8867\n",
            "Epoch 5/10\n",
            "1875/1875 [==============================] - 4s 2ms/step - loss: 0.0884 - acc: 0.9665 - val_loss: 0.6050 - val_acc: 0.8908\n",
            "Epoch 6/10\n",
            "1875/1875 [==============================] - 4s 2ms/step - loss: 0.0860 - acc: 0.9672 - val_loss: 0.6018 - val_acc: 0.8868\n",
            "Epoch 7/10\n",
            "1875/1875 [==============================] - 4s 2ms/step - loss: 0.0877 - acc: 0.9667 - val_loss: 0.6083 - val_acc: 0.8859\n",
            "Epoch 8/10\n",
            "1875/1875 [==============================] - 4s 2ms/step - loss: 0.0840 - acc: 0.9680 - val_loss: 0.5953 - val_acc: 0.8862\n",
            "Epoch 9/10\n",
            "1875/1875 [==============================] - 4s 2ms/step - loss: 0.0837 - acc: 0.9682 - val_loss: 0.6068 - val_acc: 0.8872\n",
            "Epoch 10/10\n",
            "1875/1875 [==============================] - 4s 2ms/step - loss: 0.0804 - acc: 0.9695 - val_loss: 0.6755 - val_acc: 0.8842\n"
          ],
          "name": "stdout"
        },
        {
          "output_type": "display_data",
          "data": {
            "image/png": "[encoded data removed]",
            "text/plain": [
              "<Figure size 432x288 with 1 Axes>"
            ]
          },
          "metadata": {
            "tags": [],
            "needs_background": "light"
          }
        }
      ]
    },
    {
      "cell_type": "markdown",
      "metadata": {
        "id": "DRmi-9OZRdwm"
      },
      "source": [
        "* As we gave a high patience value of 300 the model did not stop even after it the validation loss started to increase."
      ]
    },
    {
      "cell_type": "markdown",
      "metadata": {
        "id": "MAncs5fOR3Tt"
      },
      "source": [
        "### Early Stopping & Model Check Point callbacks with 2 Hidden Layers"
      ]
    },
    {
      "cell_type": "markdown",
      "metadata": {
        "id": "fpNJtsoMR_v2"
      },
      "source": [
        "* NOTE: *In the previous model it did not stop even when val_loss is less at a specific point as the patience is high and if we give a less patience value then it'll miss the epoch where the val_loss may further decrease after the patience. To encounter this problem we'll be using ModelCheckPoint, where we store the minimum val_loss in a variable and will overwrite it with the next min val_loss only.*"
      ]
    },
    {
      "cell_type": "code",
      "metadata": {
        "id": "Z5lj9_x4Rlu4",
        "outputId": "16d7675c-986c-4821-d781-90e09471ab50",
        "colab": {
          "base_uri": "https://localhost:8080/"
        }
      },
      "source": [
        "from keras.callbacks import EarlyStopping\n",
        "from keras.callbacks import ModelCheckpoint   #importing ModelCheckPoint library from keras.callback\n",
        "\n",
        "model_2layers_es_cp = Sequential()\n",
        "\n",
        "model_2layers_es_cp.add(layers.Flatten(input_shape=(28,28)))\n",
        "model_2layers_es_cp.add(Dense(100,activation='relu'))\n",
        "model_2layers_es_cp.add(Dense(80,activation='relu'))\n",
        "model_2layers_es_cp.add(Dense(10,activation='softmax'))\n",
        "\n",
        "model_2layers_es_cp.compile(optimizer='sgd',loss='sparse_categorical_crossentropy',metrics=['acc'])\n",
        "\n",
        "model_2layers_es_cp.summary()"
      ],
      "execution_count": 70,
      "outputs": [
        {
          "output_type": "stream",
          "text": [
            "Model: \"sequential_8\"\n",
            "_________________________________________________________________\n",
            "Layer (type)                 Output Shape              Param #   \n",
            "=================================================================\n",
            "flatten_8 (Flatten)          (None, 784)               0         \n",
            "_________________________________________________________________\n",
            "dense_21 (Dense)             (None, 100)               78500     \n",
            "_________________________________________________________________\n",
            "dense_22 (Dense)             (None, 80)                8080      \n",
            "_________________________________________________________________\n",
            "dense_23 (Dense)             (None, 10)                810       \n",
            "=================================================================\n",
            "Total params: 87,390\n",
            "Trainable params: 87,390\n",
            "Non-trainable params: 0\n",
            "_________________________________________________________________\n"
          ],
          "name": "stdout"
        }
      ]
    },
    {
      "cell_type": "markdown",
      "metadata": {
        "id": "E26vY93JZ_Fb"
      },
      "source": [
        "* NOTE: *Advantage of using 2 Callbacks is one can take care of loss (ES in our case) and one can take care of accuracy (CP in our case)*"
      ]
    },
    {
      "cell_type": "code",
      "metadata": {
        "id": "pE431SzkSx38",
        "outputId": "f879c667-f467-427d-ff1f-5cebd1eaceef",
        "colab": {
          "base_uri": "https://localhost:8080/",
          "height": 963
        }
      },
      "source": [
        "from keras.models import load_model\n",
        "\n",
        "es = EarlyStopping(monitor='val_loss',patience=200,mode='min',verbose=1)\n",
        "cp = ModelCheckpoint('best_model.h5',monitor='val_acc',mode='max',verbose=1,save_best_only=True) #the best model will be stored in best_model.h5 file which will be created in the instance which we are saving\n",
        "\n",
        "history_2layers_es_cp = model_2layers_es_cp.fit(x=train_images,y=train_labels,epochs=10,validation_data=(test_images,test_labels),callbacks=[es,cp])\n",
        "#Monitor='val_loss' is to tell the model to monitor val_loss value, with a patience of 3 i.e., after finding a min value on val_loss see 3 more epochs if at all the val_loss is further decreasing if not stop the model.\n",
        "\n",
        "saved_model = load_model('best_model.h5')\n",
        "\n",
        "_, train_acc = saved_model.evaluate(train_images,train_labels,verbose=0)\n",
        "_, test_acc = saved_model.evaluate(test_images,test_labels,verbose=0)\n",
        "\n",
        "print('Train: %3f, Test: %3f' % (train_acc,test_acc))\n",
        "print('\\n')\n",
        "#plot to see training & test loss\n",
        "plt.plot(history_2layers_es_cp.history['loss'],label='train')\n",
        "plt.plot(history_2layers_es_cp.history['val_loss'],label='test')\n",
        "plt.legend()\n",
        "plt.show()"
      ],
      "execution_count": 71,
      "outputs": [
        {
          "output_type": "stream",
          "text": [
            "Epoch 1/10\n",
            "1875/1875 [==============================] - 3s 2ms/step - loss: 1.0414 - acc: 0.6730 - val_loss: 0.5531 - val_acc: 0.8066\n",
            "\n",
            "Epoch 00001: val_acc improved from -inf to 0.80660, saving model to best_model.h5\n",
            "Epoch 2/10\n",
            "1875/1875 [==============================] - 3s 2ms/step - loss: 0.5144 - acc: 0.8207 - val_loss: 0.4935 - val_acc: 0.8260\n",
            "\n",
            "Epoch 00002: val_acc improved from 0.80660 to 0.82600, saving model to best_model.h5\n",
            "Epoch 3/10\n",
            "1875/1875 [==============================] - 3s 2ms/step - loss: 0.4637 - acc: 0.8377 - val_loss: 0.4664 - val_acc: 0.8347\n",
            "\n",
            "Epoch 00003: val_acc improved from 0.82600 to 0.83470, saving model to best_model.h5\n",
            "Epoch 4/10\n",
            "1875/1875 [==============================] - 3s 2ms/step - loss: 0.4335 - acc: 0.8478 - val_loss: 0.4447 - val_acc: 0.8410\n",
            "\n",
            "Epoch 00004: val_acc improved from 0.83470 to 0.84100, saving model to best_model.h5\n",
            "Epoch 5/10\n",
            "1875/1875 [==============================] - 3s 2ms/step - loss: 0.4130 - acc: 0.8546 - val_loss: 0.4346 - val_acc: 0.8481\n",
            "\n",
            "Epoch 00005: val_acc improved from 0.84100 to 0.84810, saving model to best_model.h5\n",
            "Epoch 6/10\n",
            "1875/1875 [==============================] - 3s 2ms/step - loss: 0.3967 - acc: 0.8611 - val_loss: 0.4200 - val_acc: 0.8491\n",
            "\n",
            "Epoch 00006: val_acc improved from 0.84810 to 0.84910, saving model to best_model.h5\n",
            "Epoch 7/10\n",
            "1875/1875 [==============================] - 3s 2ms/step - loss: 0.3861 - acc: 0.8634 - val_loss: 0.4216 - val_acc: 0.8513\n",
            "\n",
            "Epoch 00007: val_acc improved from 0.84910 to 0.85130, saving model to best_model.h5\n",
            "Epoch 8/10\n",
            "1875/1875 [==============================] - 3s 2ms/step - loss: 0.3745 - acc: 0.8679 - val_loss: 0.4177 - val_acc: 0.8517\n",
            "\n",
            "Epoch 00008: val_acc improved from 0.85130 to 0.85170, saving model to best_model.h5\n",
            "Epoch 9/10\n",
            "1875/1875 [==============================] - 3s 2ms/step - loss: 0.3608 - acc: 0.8717 - val_loss: 0.4052 - val_acc: 0.8539\n",
            "\n",
            "Epoch 00009: val_acc improved from 0.85170 to 0.85390, saving model to best_model.h5\n",
            "Epoch 10/10\n",
            "1875/1875 [==============================] - 3s 2ms/step - loss: 0.3539 - acc: 0.8730 - val_loss: 0.3869 - val_acc: 0.8625\n",
            "\n",
            "Epoch 00010: val_acc improved from 0.85390 to 0.86250, saving model to best_model.h5\n",
            "Train: 0.881900, Test: 0.862500\n",
            "\n",
            "\n"
          ],
          "name": "stdout"
        },
        {
          "output_type": "display_data",
          "data": {
            "image/png": "[encoded data removed]",
            "text/plain": [
              "<Figure size 432x288 with 1 Axes>"
            ]
          },
          "metadata": {
            "tags": [],
            "needs_background": "light"
          }
        }
      ]
    },
    {
      "cell_type": "markdown",
      "metadata": {
        "id": "PKnbZ2d-UKLF"
      },
      "source": [
        "* The best model has an accuracy of 87.17% & 85.39% on Training & Test data respectively with Stocastic Gradient Descent optimizer.\n",
        "* The loss on Test has come down."
      ]
    },
    {
      "cell_type": "markdown",
      "metadata": {
        "id": "Kfq9Y_mfhNTh"
      },
      "source": [
        "### Predicting the target values"
      ]
    },
    {
      "cell_type": "code",
      "metadata": {
        "id": "GjBSwJRlhURP"
      },
      "source": [
        "predictions_es_cp = model_2layers_es_cp.predict(test_images) #predicting value using the Early Stopping model."
      ],
      "execution_count": 64,
      "outputs": []
    },
    {
      "cell_type": "code",
      "metadata": {
        "colab": {
          "base_uri": "https://localhost:8080/",
          "height": 205
        },
        "id": "_eolC8xxhppC",
        "outputId": "33227673-01ba-4167-f5d1-1e86bcc669fb"
      },
      "source": [
        "predictions_es_cp[0] # this gives the one hot encoding value of the target variable for the provided index.\n",
        "print(\"Predicted Value of {} image from Test Data is: {}\".format(0,np.argmax(predictions_es_cp[0]))) #this gives the value of prediction.\n",
        "print(\"Actual value of {} image is: {}\".format(0,test_labels[0])) #this gives the actual value\n",
        "\n",
        "plot_sample(test_images,test_labels,0)   #calling function created above to print the image. Here image is from our prediction & Label on x-axis is actual value."
      ],
      "execution_count": 66,
      "outputs": [
        {
          "output_type": "stream",
          "text": [
            "Predicted Value of 0 image from Test Data is: 9\n",
            "Actual value of 0 image is: 9\n"
          ],
          "name": "stdout"
        },
        {
          "output_type": "display_data",
          "data": {
            "image/png": "[encoded data removed]",
            "text/plain": [
              "<Figure size 360x144 with 1 Axes>"
            ]
          },
          "metadata": {
            "tags": [],
            "needs_background": "light"
          }
        }
      ]
    },
    {
      "cell_type": "markdown",
      "metadata": {
        "id": "GxEnqF4FkcHa"
      },
      "source": [
        "* ***NOTE***: For now, I'm using validation data as Test data."
      ]
    },
    {
      "cell_type": "markdown",
      "metadata": {
        "id": "Bke7s8fqjS9h"
      },
      "source": [
        "### Conclusion\n",
        "\n",
        "* This shows that actual & predicted value for a particular index '0' are same and our prediction is correct.\n",
        "\n",
        "* We can repeat this process by choosing a model where the validation accuracy is less."
      ]
    }
  ]
}