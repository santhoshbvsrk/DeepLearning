{
  "nbformat": 4,
  "nbformat_minor": 0,
  "metadata": {
    "colab": {
      "name": "Fashion_MNIST.ipynb",
      "provenance": [],
      "authorship_tag": "ABX9TyNX7Hed/euG+A6uKqgimbqN",
      "include_colab_link": true
    },
    "kernelspec": {
      "name": "python3",
      "display_name": "Python 3"
    },
    "language_info": {
      "name": "python"
    }
  },
  "cells": [
    {
      "cell_type": "markdown",
      "metadata": {
        "id": "view-in-github",
        "colab_type": "text"
      },
      "source": [
        "<a href=\"https://colab.research.google.com/github/santhoshbvsrk/DeepLearning/blob/main/MNIST/Fashion_MNIST.ipynb\" target=\"_parent\"><img src=\"https://colab.research.google.com/assets/colab-badge.svg\" alt=\"Open In Colab\"/></a>"
      ]
    },
    {
      "cell_type": "markdown",
      "metadata": {
        "id": "N-RHrK4jb6xC"
      },
      "source": [
        "* Importing tensorflow package and all relevant libraries."
      ]
    },
    {
      "cell_type": "code",
      "metadata": {
        "id": "0RqHSOxGbx-P"
      },
      "source": [
        "import tensorflow as tf                  #import Tensorflow library\n",
        "from tensorflow import keras             #import Keras api library for tensorflow\n",
        "from keras import datasets               #import datasets provided by Keras API \n",
        "\n",
        "import numpy as np                      \n",
        "import matplotlib.pyplot as plt              "
      ],
      "execution_count": 175,
      "outputs": []
    },
    {
      "cell_type": "code",
      "metadata": {
        "id": "vr-uEjM3ejdj"
      },
      "source": [
        "fashion=datasets.fashion_mnist          #instantiating Fashion dataset from MNIST under Keras"
      ],
      "execution_count": 176,
      "outputs": []
    },
    {
      "cell_type": "code",
      "metadata": {
        "id": "qN9SHCcXuuXy"
      },
      "source": [
        "(train_images,train_labels),(test_images,test_labels)=fashion.load_data()   #loading MNIST Fashion dataset which does train & test split internally "
      ],
      "execution_count": 177,
      "outputs": []
    },
    {
      "cell_type": "code",
      "metadata": {
        "colab": {
          "base_uri": "https://localhost:8080/"
        },
        "id": "iKhP9uWfu9KZ",
        "outputId": "c6bebe0c-63aa-4ed2-fbc1-ddec75dabe75"
      },
      "source": [
        "# checking the shape of x_train, y_train, x_test & y_test variables\n",
        "print(train_images.shape)            \n",
        "print(train_labels.shape)\n",
        "print(test_images.shape)\n",
        "print(test_labels.shape)"
      ],
      "execution_count": 178,
      "outputs": [
        {
          "output_type": "stream",
          "text": [
            "(60000, 28, 28)\n",
            "(60000,)\n",
            "(10000, 28, 28)\n",
            "(10000,)\n"
          ],
          "name": "stdout"
        }
      ]
    },
    {
      "cell_type": "code",
      "metadata": {
        "colab": {
          "base_uri": "https://localhost:8080/"
        },
        "id": "WWwqw0XXvfH-",
        "outputId": "aa732a63-4d1c-4ed6-c306-7d3a2066bd45"
      },
      "source": [
        "train_images[0]    #checking the data present in first row of x_train"
      ],
      "execution_count": 122,
      "outputs": [
        {
          "output_type": "execute_result",
          "data": {
            "text/plain": [
              "array([[  0,   0,   0,   0,   0,   0,   0,   0,   0,   0,   0,   0,   0,\n",
              "          0,   0,   0,   0,   0,   0,   0,   0,   0,   0,   0,   0,   0,\n",
              "          0,   0],\n",
              "       [  0,   0,   0,   0,   0,   0,   0,   0,   0,   0,   0,   0,   0,\n",
              "          0,   0,   0,   0,   0,   0,   0,   0,   0,   0,   0,   0,   0,\n",
              "          0,   0],\n",
              "       [  0,   0,   0,   0,   0,   0,   0,   0,   0,   0,   0,   0,   0,\n",
              "          0,   0,   0,   0,   0,   0,   0,   0,   0,   0,   0,   0,   0,\n",
              "          0,   0],\n",
              "       [  0,   0,   0,   0,   0,   0,   0,   0,   0,   0,   0,   0,   1,\n",
              "          0,   0,  13,  73,   0,   0,   1,   4,   0,   0,   0,   0,   1,\n",
              "          1,   0],\n",
              "       [  0,   0,   0,   0,   0,   0,   0,   0,   0,   0,   0,   0,   3,\n",
              "          0,  36, 136, 127,  62,  54,   0,   0,   0,   1,   3,   4,   0,\n",
              "          0,   3],\n",
              "       [  0,   0,   0,   0,   0,   0,   0,   0,   0,   0,   0,   0,   6,\n",
              "          0, 102, 204, 176, 134, 144, 123,  23,   0,   0,   0,   0,  12,\n",
              "         10,   0],\n",
              "       [  0,   0,   0,   0,   0,   0,   0,   0,   0,   0,   0,   0,   0,\n",
              "          0, 155, 236, 207, 178, 107, 156, 161, 109,  64,  23,  77, 130,\n",
              "         72,  15],\n",
              "       [  0,   0,   0,   0,   0,   0,   0,   0,   0,   0,   0,   1,   0,\n",
              "         69, 207, 223, 218, 216, 216, 163, 127, 121, 122, 146, 141,  88,\n",
              "        172,  66],\n",
              "       [  0,   0,   0,   0,   0,   0,   0,   0,   0,   1,   1,   1,   0,\n",
              "        200, 232, 232, 233, 229, 223, 223, 215, 213, 164, 127, 123, 196,\n",
              "        229,   0],\n",
              "       [  0,   0,   0,   0,   0,   0,   0,   0,   0,   0,   0,   0,   0,\n",
              "        183, 225, 216, 223, 228, 235, 227, 224, 222, 224, 221, 223, 245,\n",
              "        173,   0],\n",
              "       [  0,   0,   0,   0,   0,   0,   0,   0,   0,   0,   0,   0,   0,\n",
              "        193, 228, 218, 213, 198, 180, 212, 210, 211, 213, 223, 220, 243,\n",
              "        202,   0],\n",
              "       [  0,   0,   0,   0,   0,   0,   0,   0,   0,   1,   3,   0,  12,\n",
              "        219, 220, 212, 218, 192, 169, 227, 208, 218, 224, 212, 226, 197,\n",
              "        209,  52],\n",
              "       [  0,   0,   0,   0,   0,   0,   0,   0,   0,   0,   6,   0,  99,\n",
              "        244, 222, 220, 218, 203, 198, 221, 215, 213, 222, 220, 245, 119,\n",
              "        167,  56],\n",
              "       [  0,   0,   0,   0,   0,   0,   0,   0,   0,   4,   0,   0,  55,\n",
              "        236, 228, 230, 228, 240, 232, 213, 218, 223, 234, 217, 217, 209,\n",
              "         92,   0],\n",
              "       [  0,   0,   1,   4,   6,   7,   2,   0,   0,   0,   0,   0, 237,\n",
              "        226, 217, 223, 222, 219, 222, 221, 216, 223, 229, 215, 218, 255,\n",
              "         77,   0],\n",
              "       [  0,   3,   0,   0,   0,   0,   0,   0,   0,  62, 145, 204, 228,\n",
              "        207, 213, 221, 218, 208, 211, 218, 224, 223, 219, 215, 224, 244,\n",
              "        159,   0],\n",
              "       [  0,   0,   0,   0,  18,  44,  82, 107, 189, 228, 220, 222, 217,\n",
              "        226, 200, 205, 211, 230, 224, 234, 176, 188, 250, 248, 233, 238,\n",
              "        215,   0],\n",
              "       [  0,  57, 187, 208, 224, 221, 224, 208, 204, 214, 208, 209, 200,\n",
              "        159, 245, 193, 206, 223, 255, 255, 221, 234, 221, 211, 220, 232,\n",
              "        246,   0],\n",
              "       [  3, 202, 228, 224, 221, 211, 211, 214, 205, 205, 205, 220, 240,\n",
              "         80, 150, 255, 229, 221, 188, 154, 191, 210, 204, 209, 222, 228,\n",
              "        225,   0],\n",
              "       [ 98, 233, 198, 210, 222, 229, 229, 234, 249, 220, 194, 215, 217,\n",
              "        241,  65,  73, 106, 117, 168, 219, 221, 215, 217, 223, 223, 224,\n",
              "        229,  29],\n",
              "       [ 75, 204, 212, 204, 193, 205, 211, 225, 216, 185, 197, 206, 198,\n",
              "        213, 240, 195, 227, 245, 239, 223, 218, 212, 209, 222, 220, 221,\n",
              "        230,  67],\n",
              "       [ 48, 203, 183, 194, 213, 197, 185, 190, 194, 192, 202, 214, 219,\n",
              "        221, 220, 236, 225, 216, 199, 206, 186, 181, 177, 172, 181, 205,\n",
              "        206, 115],\n",
              "       [  0, 122, 219, 193, 179, 171, 183, 196, 204, 210, 213, 207, 211,\n",
              "        210, 200, 196, 194, 191, 195, 191, 198, 192, 176, 156, 167, 177,\n",
              "        210,  92],\n",
              "       [  0,   0,  74, 189, 212, 191, 175, 172, 175, 181, 185, 188, 189,\n",
              "        188, 193, 198, 204, 209, 210, 210, 211, 188, 188, 194, 192, 216,\n",
              "        170,   0],\n",
              "       [  2,   0,   0,   0,  66, 200, 222, 237, 239, 242, 246, 243, 244,\n",
              "        221, 220, 193, 191, 179, 182, 182, 181, 176, 166, 168,  99,  58,\n",
              "          0,   0],\n",
              "       [  0,   0,   0,   0,   0,   0,   0,  40,  61,  44,  72,  41,  35,\n",
              "          0,   0,   0,   0,   0,   0,   0,   0,   0,   0,   0,   0,   0,\n",
              "          0,   0],\n",
              "       [  0,   0,   0,   0,   0,   0,   0,   0,   0,   0,   0,   0,   0,\n",
              "          0,   0,   0,   0,   0,   0,   0,   0,   0,   0,   0,   0,   0,\n",
              "          0,   0],\n",
              "       [  0,   0,   0,   0,   0,   0,   0,   0,   0,   0,   0,   0,   0,\n",
              "          0,   0,   0,   0,   0,   0,   0,   0,   0,   0,   0,   0,   0,\n",
              "          0,   0]], dtype=uint8)"
            ]
          },
          "metadata": {
            "tags": []
          },
          "execution_count": 122
        }
      ]
    },
    {
      "cell_type": "code",
      "metadata": {
        "colab": {
          "base_uri": "https://localhost:8080/"
        },
        "id": "RWL0SlBEyXkx",
        "outputId": "0ff481db-fdea-4534-f34d-4310ada38aa6"
      },
      "source": [
        "train_labels[0]    #checking data present in first row of y_train "
      ],
      "execution_count": 123,
      "outputs": [
        {
          "output_type": "execute_result",
          "data": {
            "text/plain": [
              "9"
            ]
          },
          "metadata": {
            "tags": []
          },
          "execution_count": 123
        }
      ]
    },
    {
      "cell_type": "code",
      "metadata": {
        "id": "OYhX6KRt2_5y"
      },
      "source": [
        "class_names=['T-shirt/Top','Trouser','Pullover','Dress','Coat','Sandal','Shirt','Sneaker','Bag','Ankle Boot']  #creating a variable to hold name of the target variable values."
      ],
      "execution_count": 124,
      "outputs": []
    },
    {
      "cell_type": "code",
      "metadata": {
        "id": "0yMdHjH4x6D9"
      },
      "source": [
        "#creating a function to plot images from training dataset\n",
        "def plot_sample(X,y,index):\n",
        "  plt.figure(figsize = (5,2))\n",
        "  plt.imshow(X[index])   #this function is used to print image\n",
        "  plt.xlabel(class_names[y[index]])"
      ],
      "execution_count": 125,
      "outputs": []
    },
    {
      "cell_type": "code",
      "metadata": {
        "colab": {
          "base_uri": "https://localhost:8080/",
          "height": 485
        },
        "id": "OXkyY4YC2svL",
        "outputId": "dfb3c127-34e7-433f-8c71-91abd31811b7"
      },
      "source": [
        "#printing first 3 images from the training dataset by calling the above created function\n",
        "for index in range(0,3):\n",
        "  plot_sample(train_images,train_labels,index)"
      ],
      "execution_count": 126,
      "outputs": [
        {
          "output_type": "display_data",
          "data": {
            "image/png": "[encoded data removed]",
            "text/plain": [
              "<Figure size 360x144 with 1 Axes>"
            ]
          },
          "metadata": {
            "tags": [],
            "needs_background": "light"
          }
        },
        {
          "output_type": "display_data",
          "data": {
            "image/png": "[encoded data removed]",
            "text/plain": [
              "<Figure size 360x144 with 1 Axes>"
            ]
          },
          "metadata": {
            "tags": [],
            "needs_background": "light"
          }
        },
        {
          "output_type": "display_data",
          "data": {
            "image/png": "[encoded data removed]",
            "text/plain": [
              "<Figure size 360x144 with 1 Axes>"
            ]
          },
          "metadata": {
            "tags": [],
            "needs_background": "light"
          }
        }
      ]
    },
    {
      "cell_type": "code",
      "metadata": {
        "id": "MfHX4MOW59pS"
      },
      "source": [
        "#normalizing dataset i.e., the value in each and image has values from 0 to 255 which is nothing but the pixel, we'll normalize it to be between 0-1. \n",
        "#Normalizing will be done on the images from both training & testing datasets\n",
        "train_images = train_images / 255.0\n",
        "test_images = test_images / 255.0"
      ],
      "execution_count": 127,
      "outputs": []
    },
    {
      "cell_type": "code",
      "metadata": {
        "id": "59BJzpaM-cjA"
      },
      "source": [
        "from keras import models         #importing models package from Keras\n",
        "from keras import Sequential     #importing Sequential package from Keras to create a Sequential model\n",
        "from keras import layers         #importing layers package from Keras which will be used for adding Input Layers, Hidden Layers & Output Layers"
      ],
      "execution_count": 129,
      "outputs": []
    },
    {
      "cell_type": "markdown",
      "metadata": {
        "id": "wwaYhj09eg4g"
      },
      "source": [
        "### Model with Relu Activation and a single Hidden Layer"
      ]
    },
    {
      "cell_type": "code",
      "metadata": {
        "colab": {
          "base_uri": "https://localhost:8080/"
        },
        "id": "JT5WR2hn-q2Y",
        "outputId": "b4e50dad-8d07-4348-f97b-1b4fd43f7777"
      },
      "source": [
        "model = Sequential([layers.Flatten(input_shape=(28,28)),  #we mention the input shape as the number of input pixels\n",
        "layers.Dense(100,activation='relu'),                      #This is Hidden Layer1 and 100 is the number of neurons to be created with activation function as 'relu'\n",
        "layers.Dense(10,activation='softmax')                     #This is Output Layer with 10 neurons in the output layer and here we've to mention the number of neurons as the number of output values in target variable and activation function ='softmax' for classifiction problem\n",
        "])\n",
        "\n",
        "model.compile(optimizer='adam',loss='sparse_categorical_crossentropy',metrics=['accuracy']) #compiling model. Here loss is 'sparse_categorical_crossentropy' as it is multi class classification problem\n",
        "\n",
        "model.summary()    #printing summary of the model"
      ],
      "execution_count": 155,
      "outputs": [
        {
          "output_type": "stream",
          "text": [
            "Model: \"sequential_18\"\n",
            "_________________________________________________________________\n",
            "Layer (type)                 Output Shape              Param #   \n",
            "=================================================================\n",
            "flatten_17 (Flatten)         (None, 784)               0         \n",
            "_________________________________________________________________\n",
            "dense_33 (Dense)             (None, 100)               78500     \n",
            "_________________________________________________________________\n",
            "dense_34 (Dense)             (None, 10)                1010      \n",
            "=================================================================\n",
            "Total params: 79,510\n",
            "Trainable params: 79,510\n",
            "Non-trainable params: 0\n",
            "_________________________________________________________________\n"
          ],
          "name": "stdout"
        }
      ]
    },
    {
      "cell_type": "code",
      "metadata": {
        "colab": {
          "base_uri": "https://localhost:8080/"
        },
        "id": "hYX6uLUfAGrS",
        "outputId": "d32972c4-8869-478b-ddaf-81c5d33053a2"
      },
      "source": [
        "model.fit(x=train_images,y=train_labels,epochs=10,batch_size=200,verbose=1,validation_data=(test_images,test_labels)) #Fitting model on train & test data to see accuracy & loss of model"
      ],
      "execution_count": 157,
      "outputs": [
        {
          "output_type": "stream",
          "text": [
            "Epoch 1/10\n",
            "300/300 [==============================] - 1s 4ms/step - loss: 0.2078 - accuracy: 0.9237 - val_loss: 0.3163 - val_accuracy: 0.8904\n",
            "Epoch 2/10\n",
            "300/300 [==============================] - 1s 4ms/step - loss: 0.2021 - accuracy: 0.9255 - val_loss: 0.3179 - val_accuracy: 0.8903\n",
            "Epoch 3/10\n",
            "300/300 [==============================] - 1s 4ms/step - loss: 0.1991 - accuracy: 0.9269 - val_loss: 0.3173 - val_accuracy: 0.8923\n",
            "Epoch 4/10\n",
            "300/300 [==============================] - 1s 4ms/step - loss: 0.1971 - accuracy: 0.9278 - val_loss: 0.3179 - val_accuracy: 0.8906\n",
            "Epoch 5/10\n",
            "300/300 [==============================] - 1s 4ms/step - loss: 0.1962 - accuracy: 0.9280 - val_loss: 0.3188 - val_accuracy: 0.8904\n",
            "Epoch 6/10\n",
            "300/300 [==============================] - 1s 4ms/step - loss: 0.1938 - accuracy: 0.9294 - val_loss: 0.3195 - val_accuracy: 0.8916\n",
            "Epoch 7/10\n",
            "300/300 [==============================] - 1s 4ms/step - loss: 0.1910 - accuracy: 0.9308 - val_loss: 0.3200 - val_accuracy: 0.8931\n",
            "Epoch 8/10\n",
            "300/300 [==============================] - 1s 4ms/step - loss: 0.1891 - accuracy: 0.9303 - val_loss: 0.3209 - val_accuracy: 0.8911\n",
            "Epoch 9/10\n",
            "300/300 [==============================] - 1s 4ms/step - loss: 0.1871 - accuracy: 0.9314 - val_loss: 0.3208 - val_accuracy: 0.8927\n",
            "Epoch 10/10\n",
            "300/300 [==============================] - 1s 4ms/step - loss: 0.1838 - accuracy: 0.9332 - val_loss: 0.3167 - val_accuracy: 0.8945\n"
          ],
          "name": "stdout"
        },
        {
          "output_type": "execute_result",
          "data": {
            "text/plain": [
              "<tensorflow.python.keras.callbacks.History at 0x7f200a80c310>"
            ]
          },
          "metadata": {
            "tags": []
          },
          "execution_count": 157
        }
      ]
    },
    {
      "cell_type": "markdown",
      "metadata": {
        "id": "ItXraWR5AxMM"
      },
      "source": [
        "* From the above we see that Accuracy of Training is 93.32% & Validation is 89.45% for 10 epochs.\n",
        "* Also the Loss on Training is 0.1838 & Validation is 0.3167 for 10 epochs."
      ]
    },
    {
      "cell_type": "markdown",
      "metadata": {
        "id": "DxtqF0SiFJcW"
      },
      "source": [
        "* Let us perform regularization on data to remove overfit."
      ]
    },
    {
      "cell_type": "markdown",
      "metadata": {
        "id": "vwSAa3O4Xbs6"
      },
      "source": [
        "### L2 Regularizer"
      ]
    },
    {
      "cell_type": "code",
      "metadata": {
        "colab": {
          "base_uri": "https://localhost:8080/"
        },
        "id": "gVoiQU6gFXLR",
        "outputId": "63daf233-7821-4230-b6fd-b521da376be4"
      },
      "source": [
        "from keras import regularizers\n",
        "\n",
        "model_l2reg = Sequential([layers.Flatten(input_shape=(28,28)),\n",
        "layers.Dense(100,activation='relu',kernel_regularizer=regularizers.l2(0.0001)),\n",
        "layers.Dense(10,activation='softmax')\n",
        "])\n",
        "\n",
        "model_l2reg.compile(optimizer='adam',loss='sparse_categorical_crossentropy',metrics=['accuracy'])\n",
        "\n",
        "model_l2reg.summary()"
      ],
      "execution_count": 158,
      "outputs": [
        {
          "output_type": "stream",
          "text": [
            "Model: \"sequential_19\"\n",
            "_________________________________________________________________\n",
            "Layer (type)                 Output Shape              Param #   \n",
            "=================================================================\n",
            "flatten_18 (Flatten)         (None, 784)               0         \n",
            "_________________________________________________________________\n",
            "dense_35 (Dense)             (None, 100)               78500     \n",
            "_________________________________________________________________\n",
            "dense_36 (Dense)             (None, 10)                1010      \n",
            "=================================================================\n",
            "Total params: 79,510\n",
            "Trainable params: 79,510\n",
            "Non-trainable params: 0\n",
            "_________________________________________________________________\n"
          ],
          "name": "stdout"
        }
      ]
    },
    {
      "cell_type": "code",
      "metadata": {
        "colab": {
          "base_uri": "https://localhost:8080/"
        },
        "id": "hVp_t81SGeQI",
        "outputId": "9e03f955-6c3d-4e17-a9aa-8080bcf25dcf"
      },
      "source": [
        "model_l2reg.fit(x=train_images,y=train_labels,epochs=10,batch_size=200,verbose=1,validation_data=(test_images,test_labels))"
      ],
      "execution_count": 159,
      "outputs": [
        {
          "output_type": "stream",
          "text": [
            "Epoch 1/10\n",
            "300/300 [==============================] - 2s 4ms/step - loss: 0.8395 - accuracy: 0.7216 - val_loss: 0.5022 - val_accuracy: 0.8301\n",
            "Epoch 2/10\n",
            "300/300 [==============================] - 1s 4ms/step - loss: 0.4518 - accuracy: 0.8502 - val_loss: 0.4546 - val_accuracy: 0.8506\n",
            "Epoch 3/10\n",
            "300/300 [==============================] - 1s 4ms/step - loss: 0.4132 - accuracy: 0.8639 - val_loss: 0.4275 - val_accuracy: 0.8567\n",
            "Epoch 4/10\n",
            "300/300 [==============================] - 1s 4ms/step - loss: 0.3872 - accuracy: 0.8719 - val_loss: 0.4299 - val_accuracy: 0.8576\n",
            "Epoch 5/10\n",
            "300/300 [==============================] - 1s 4ms/step - loss: 0.3660 - accuracy: 0.8796 - val_loss: 0.4077 - val_accuracy: 0.8616\n",
            "Epoch 6/10\n",
            "300/300 [==============================] - 1s 3ms/step - loss: 0.3558 - accuracy: 0.8814 - val_loss: 0.3998 - val_accuracy: 0.8663\n",
            "Epoch 7/10\n",
            "300/300 [==============================] - 1s 4ms/step - loss: 0.3418 - accuracy: 0.8871 - val_loss: 0.3993 - val_accuracy: 0.8686\n",
            "Epoch 8/10\n",
            "300/300 [==============================] - 1s 4ms/step - loss: 0.3346 - accuracy: 0.8906 - val_loss: 0.3873 - val_accuracy: 0.8728\n",
            "Epoch 9/10\n",
            "300/300 [==============================] - 1s 4ms/step - loss: 0.3259 - accuracy: 0.8931 - val_loss: 0.3760 - val_accuracy: 0.8742\n",
            "Epoch 10/10\n",
            "300/300 [==============================] - 1s 3ms/step - loss: 0.3125 - accuracy: 0.8982 - val_loss: 0.3804 - val_accuracy: 0.8750\n"
          ],
          "name": "stdout"
        },
        {
          "output_type": "execute_result",
          "data": {
            "text/plain": [
              "<tensorflow.python.keras.callbacks.History at 0x7f2007624dd0>"
            ]
          },
          "metadata": {
            "tags": []
          },
          "execution_count": 159
        }
      ]
    },
    {
      "cell_type": "markdown",
      "metadata": {
        "id": "ox4AS2fuWvuD"
      },
      "source": [
        "* From the above we see that Accuracy of Training is 89.82% & Validation is 87.5% for 10 epochs.\n",
        "* Also the Loss on Training is 0.3125 & Validation is 0.3804 for 10 epochs."
      ]
    },
    {
      "cell_type": "markdown",
      "metadata": {
        "id": "STMPnUksXVGx"
      },
      "source": [
        "### L1 Regularizer"
      ]
    },
    {
      "cell_type": "code",
      "metadata": {
        "colab": {
          "base_uri": "https://localhost:8080/"
        },
        "id": "j1q1lnJHHX9S",
        "outputId": "2a01a673-65b6-40be-ae5d-64144677c0e9"
      },
      "source": [
        "from keras import regularizers\n",
        "\n",
        "model_l1reg = Sequential([layers.Flatten(input_shape=(28,28)),\n",
        "layers.Dense(100,activation='relu',kernel_regularizer=regularizers.l1(0.0001)),\n",
        "layers.Dense(10,activation='softmax')\n",
        "])\n",
        "\n",
        "model_l1reg.compile(optimizer='adam',loss='sparse_categorical_crossentropy',metrics=['accuracy'])\n",
        "\n",
        "model_l1reg.summary()"
      ],
      "execution_count": 160,
      "outputs": [
        {
          "output_type": "stream",
          "text": [
            "Model: \"sequential_20\"\n",
            "_________________________________________________________________\n",
            "Layer (type)                 Output Shape              Param #   \n",
            "=================================================================\n",
            "flatten_19 (Flatten)         (None, 784)               0         \n",
            "_________________________________________________________________\n",
            "dense_37 (Dense)             (None, 100)               78500     \n",
            "_________________________________________________________________\n",
            "dense_38 (Dense)             (None, 10)                1010      \n",
            "=================================================================\n",
            "Total params: 79,510\n",
            "Trainable params: 79,510\n",
            "Non-trainable params: 0\n",
            "_________________________________________________________________\n"
          ],
          "name": "stdout"
        }
      ]
    },
    {
      "cell_type": "code",
      "metadata": {
        "colab": {
          "base_uri": "https://localhost:8080/"
        },
        "id": "NFuP0ii5Ht0v",
        "outputId": "23a99e3b-3c8f-45fc-eb23-80e5c0c5e2f9"
      },
      "source": [
        "model_l1reg.fit(x=train_images,y=train_labels,epochs=10,batch_size=200,verbose=1,validation_data=(test_images,test_labels))"
      ],
      "execution_count": 161,
      "outputs": [
        {
          "output_type": "stream",
          "text": [
            "Epoch 1/10\n",
            "300/300 [==============================] - 2s 4ms/step - loss: 1.1274 - accuracy: 0.7197 - val_loss: 0.7052 - val_accuracy: 0.8283\n",
            "Epoch 2/10\n",
            "300/300 [==============================] - 1s 4ms/step - loss: 0.6543 - accuracy: 0.8435 - val_loss: 0.6265 - val_accuracy: 0.8420\n",
            "Epoch 3/10\n",
            "300/300 [==============================] - 1s 4ms/step - loss: 0.5797 - accuracy: 0.8568 - val_loss: 0.5924 - val_accuracy: 0.8479\n",
            "Epoch 4/10\n",
            "300/300 [==============================] - 1s 4ms/step - loss: 0.5527 - accuracy: 0.8585 - val_loss: 0.5658 - val_accuracy: 0.8471\n",
            "Epoch 5/10\n",
            "300/300 [==============================] - 1s 4ms/step - loss: 0.5140 - accuracy: 0.8677 - val_loss: 0.5288 - val_accuracy: 0.8575\n",
            "Epoch 6/10\n",
            "300/300 [==============================] - 1s 4ms/step - loss: 0.4953 - accuracy: 0.8710 - val_loss: 0.5367 - val_accuracy: 0.8549\n",
            "Epoch 7/10\n",
            "300/300 [==============================] - 1s 4ms/step - loss: 0.4797 - accuracy: 0.8721 - val_loss: 0.5150 - val_accuracy: 0.8596\n",
            "Epoch 8/10\n",
            "300/300 [==============================] - 1s 4ms/step - loss: 0.4680 - accuracy: 0.8746 - val_loss: 0.4908 - val_accuracy: 0.8626\n",
            "Epoch 9/10\n",
            "300/300 [==============================] - 1s 4ms/step - loss: 0.4579 - accuracy: 0.8739 - val_loss: 0.5041 - val_accuracy: 0.8532\n",
            "Epoch 10/10\n",
            "300/300 [==============================] - 1s 4ms/step - loss: 0.4476 - accuracy: 0.8765 - val_loss: 0.4858 - val_accuracy: 0.8591\n"
          ],
          "name": "stdout"
        },
        {
          "output_type": "execute_result",
          "data": {
            "text/plain": [
              "<tensorflow.python.keras.callbacks.History at 0x7f20085e35d0>"
            ]
          },
          "metadata": {
            "tags": []
          },
          "execution_count": 161
        }
      ]
    },
    {
      "cell_type": "markdown",
      "metadata": {
        "id": "8baDSIu7Xz4i"
      },
      "source": [
        "* From the above we see that Accuracy of Training is 87.65% & Validation is 85.91% for 10 epochs.\n",
        "* Also the Loss on Training is 0.4476 & Validation is 0.4858 for 10 epochs."
      ]
    },
    {
      "cell_type": "markdown",
      "metadata": {
        "id": "DOrnIgLmYHRt"
      },
      "source": [
        "### L1 Regularizer with 2 Hidden Layers"
      ]
    },
    {
      "cell_type": "code",
      "metadata": {
        "colab": {
          "base_uri": "https://localhost:8080/"
        },
        "id": "Uml94zaKKPQg",
        "outputId": "5205838f-1629-4277-ae44-e8abb1566a1e"
      },
      "source": [
        "from keras import regularizers\n",
        "\n",
        "model_l1reg_2layers = Sequential([layers.Flatten(input_shape=(28,28)),\n",
        "layers.Dense(100,activation='relu',kernel_regularizer=regularizers.l1(0.0001)),\n",
        "layers.Dense(80,activation='relu',kernel_regularizer=regularizers.l1(0.0001)),\n",
        "layers.Dense(10,activation='softmax')\n",
        "])\n",
        "\n",
        "model_l1reg_2layers.compile(optimizer='adam',loss='sparse_categorical_crossentropy',metrics=['accuracy'])\n",
        "\n",
        "model_l1reg_2layers.summary()"
      ],
      "execution_count": 163,
      "outputs": [
        {
          "output_type": "stream",
          "text": [
            "Model: \"sequential_21\"\n",
            "_________________________________________________________________\n",
            "Layer (type)                 Output Shape              Param #   \n",
            "=================================================================\n",
            "flatten_20 (Flatten)         (None, 784)               0         \n",
            "_________________________________________________________________\n",
            "dense_39 (Dense)             (None, 100)               78500     \n",
            "_________________________________________________________________\n",
            "dense_40 (Dense)             (None, 80)                8080      \n",
            "_________________________________________________________________\n",
            "dense_41 (Dense)             (None, 10)                810       \n",
            "=================================================================\n",
            "Total params: 87,390\n",
            "Trainable params: 87,390\n",
            "Non-trainable params: 0\n",
            "_________________________________________________________________\n"
          ],
          "name": "stdout"
        }
      ]
    },
    {
      "cell_type": "code",
      "metadata": {
        "colab": {
          "base_uri": "https://localhost:8080/"
        },
        "id": "KkEtJ6sENhTr",
        "outputId": "9f6eb3ff-7d68-43af-f00a-60b0b2e6bf66"
      },
      "source": [
        "model_l1reg_2layers.fit(x=train_images,y=train_labels,epochs=10,batch_size=200,verbose=1,validation_data=(test_images,test_labels))"
      ],
      "execution_count": 164,
      "outputs": [
        {
          "output_type": "stream",
          "text": [
            "Epoch 1/10\n",
            "300/300 [==============================] - 2s 5ms/step - loss: 1.2046 - accuracy: 0.7167 - val_loss: 0.7375 - val_accuracy: 0.8318\n",
            "Epoch 2/10\n",
            "300/300 [==============================] - 1s 4ms/step - loss: 0.6878 - accuracy: 0.8496 - val_loss: 0.6455 - val_accuracy: 0.8506\n",
            "Epoch 3/10\n",
            "300/300 [==============================] - 1s 4ms/step - loss: 0.6157 - accuracy: 0.8635 - val_loss: 0.6070 - val_accuracy: 0.8542\n",
            "Epoch 4/10\n",
            "300/300 [==============================] - 1s 4ms/step - loss: 0.5752 - accuracy: 0.8661 - val_loss: 0.5981 - val_accuracy: 0.8513\n",
            "Epoch 5/10\n",
            "300/300 [==============================] - 1s 4ms/step - loss: 0.5365 - accuracy: 0.8726 - val_loss: 0.5697 - val_accuracy: 0.8554\n",
            "Epoch 6/10\n",
            "300/300 [==============================] - 1s 4ms/step - loss: 0.5090 - accuracy: 0.8777 - val_loss: 0.5435 - val_accuracy: 0.8643\n",
            "Epoch 7/10\n",
            "300/300 [==============================] - 1s 4ms/step - loss: 0.4986 - accuracy: 0.8771 - val_loss: 0.5549 - val_accuracy: 0.8556\n",
            "Epoch 8/10\n",
            "300/300 [==============================] - 1s 5ms/step - loss: 0.4826 - accuracy: 0.8809 - val_loss: 0.5226 - val_accuracy: 0.8628\n",
            "Epoch 9/10\n",
            "300/300 [==============================] - 1s 4ms/step - loss: 0.4664 - accuracy: 0.8828 - val_loss: 0.5069 - val_accuracy: 0.8667\n",
            "Epoch 10/10\n",
            "300/300 [==============================] - 1s 4ms/step - loss: 0.4542 - accuracy: 0.8861 - val_loss: 0.4975 - val_accuracy: 0.8708\n"
          ],
          "name": "stdout"
        },
        {
          "output_type": "execute_result",
          "data": {
            "text/plain": [
              "<tensorflow.python.keras.callbacks.History at 0x7f2007ba9690>"
            ]
          },
          "metadata": {
            "tags": []
          },
          "execution_count": 164
        }
      ]
    },
    {
      "cell_type": "markdown",
      "metadata": {
        "id": "abIBim1kYb0c"
      },
      "source": [
        "* From the above we see that Accuracy of Training is 88.61% & Validation is 87.08% for 10 epochs.\n",
        "* Also the Loss on Training is 0.4542 & Validation is 0.4975 for 10 epochs."
      ]
    },
    {
      "cell_type": "markdown",
      "metadata": {
        "id": "jztjoUkUYtLE"
      },
      "source": [
        "### 25% Dropout with 2 Hidden Layers"
      ]
    },
    {
      "cell_type": "code",
      "metadata": {
        "colab": {
          "base_uri": "https://localhost:8080/"
        },
        "id": "URmwh4goRqum",
        "outputId": "25dbd3a0-0c8e-4f16-bc59-83c832381159"
      },
      "source": [
        "from keras.layers import Dense\n",
        "from keras.layers.core import Dropout\n",
        "\n",
        "model_2layers_do = Sequential()\n",
        "\n",
        "model_2layers_do.add(layers.Flatten(input_shape=(28,28)))\n",
        "model_2layers_do.add(Dense(100,activation='relu')), Dropout(0.25)\n",
        "model_2layers_do.add(Dense(80,activation='relu')), Dropout(0.25)\n",
        "model_2layers_do.add(Dense(10,activation='softmax'))\n",
        "\n",
        "model_2layers_do.compile(optimizer='adam',loss='sparse_categorical_crossentropy',metrics=['acc'])\n",
        "\n",
        "model_2layers_do.summary()"
      ],
      "execution_count": 166,
      "outputs": [
        {
          "output_type": "stream",
          "text": [
            "Model: \"sequential_23\"\n",
            "_________________________________________________________________\n",
            "Layer (type)                 Output Shape              Param #   \n",
            "=================================================================\n",
            "flatten_22 (Flatten)         (None, 784)               0         \n",
            "_________________________________________________________________\n",
            "dense_45 (Dense)             (None, 100)               78500     \n",
            "_________________________________________________________________\n",
            "dense_46 (Dense)             (None, 80)                8080      \n",
            "_________________________________________________________________\n",
            "dense_47 (Dense)             (None, 10)                810       \n",
            "=================================================================\n",
            "Total params: 87,390\n",
            "Trainable params: 87,390\n",
            "Non-trainable params: 0\n",
            "_________________________________________________________________\n"
          ],
          "name": "stdout"
        }
      ]
    },
    {
      "cell_type": "code",
      "metadata": {
        "colab": {
          "base_uri": "https://localhost:8080/"
        },
        "id": "LDef9Zm8TQ-6",
        "outputId": "7e929286-4bee-43b4-d5ee-ee253a968d58"
      },
      "source": [
        "model_2layers_do.fit(x=train_images,y=train_labels,epochs=10,batch_size=200,verbose=1,validation_data=(test_images,test_labels))"
      ],
      "execution_count": 168,
      "outputs": [
        {
          "output_type": "stream",
          "text": [
            "Epoch 1/10\n",
            "300/300 [==============================] - 2s 5ms/step - loss: 0.8541 - acc: 0.7109 - val_loss: 0.4540 - val_acc: 0.8367\n",
            "Epoch 2/10\n",
            "300/300 [==============================] - 1s 4ms/step - loss: 0.4169 - acc: 0.8526 - val_loss: 0.4068 - val_acc: 0.8551\n",
            "Epoch 3/10\n",
            "300/300 [==============================] - 1s 4ms/step - loss: 0.3668 - acc: 0.8658 - val_loss: 0.4329 - val_acc: 0.8443\n",
            "Epoch 4/10\n",
            "300/300 [==============================] - 1s 4ms/step - loss: 0.3402 - acc: 0.8768 - val_loss: 0.3770 - val_acc: 0.8670\n",
            "Epoch 5/10\n",
            "300/300 [==============================] - 1s 4ms/step - loss: 0.3240 - acc: 0.8818 - val_loss: 0.3540 - val_acc: 0.8743\n",
            "Epoch 6/10\n",
            "300/300 [==============================] - 1s 4ms/step - loss: 0.2932 - acc: 0.8928 - val_loss: 0.3522 - val_acc: 0.8732\n",
            "Epoch 7/10\n",
            "300/300 [==============================] - 1s 4ms/step - loss: 0.2865 - acc: 0.8947 - val_loss: 0.3430 - val_acc: 0.8760\n",
            "Epoch 8/10\n",
            "300/300 [==============================] - 1s 4ms/step - loss: 0.2706 - acc: 0.9002 - val_loss: 0.3428 - val_acc: 0.8754\n",
            "Epoch 9/10\n",
            "300/300 [==============================] - 1s 4ms/step - loss: 0.2651 - acc: 0.9029 - val_loss: 0.3386 - val_acc: 0.8752\n",
            "Epoch 10/10\n",
            "300/300 [==============================] - 1s 4ms/step - loss: 0.2577 - acc: 0.9052 - val_loss: 0.3377 - val_acc: 0.8781\n"
          ],
          "name": "stdout"
        },
        {
          "output_type": "execute_result",
          "data": {
            "text/plain": [
              "<tensorflow.python.keras.callbacks.History at 0x7f20196d5810>"
            ]
          },
          "metadata": {
            "tags": []
          },
          "execution_count": 168
        }
      ]
    },
    {
      "cell_type": "markdown",
      "metadata": {
        "id": "ynEeloPMZSOG"
      },
      "source": [
        "* From the above we see that Accuracy of Training is 90.52% & Validation is 87.81% for 10 epochs.\n",
        "* Also the Loss on Training is 0.2577 & Validation is 0.3377 for 10 epochs."
      ]
    },
    {
      "cell_type": "markdown",
      "metadata": {
        "id": "-hS9bKKNZgr_"
      },
      "source": [
        "### Early Stopping Callback with 2 Hidden Layers"
      ]
    },
    {
      "cell_type": "code",
      "metadata": {
        "colab": {
          "base_uri": "https://localhost:8080/"
        },
        "id": "iPBqcrFDTguD",
        "outputId": "9ce9dad3-fa71-4ee8-9f27-ea6f4dd739b7"
      },
      "source": [
        "from keras.callbacks import EarlyStopping\n",
        "\n",
        "model_2layers_es = Sequential()\n",
        "\n",
        "model_2layers_es.add(layers.Flatten(input_shape=(28,28)))\n",
        "model_2layers_es.add(Dense(100,activation='relu'))\n",
        "model_2layers_es.add(Dense(80,activation='relu'))\n",
        "model_2layers_es.add(Dense(10,activation='softmax'))\n",
        "\n",
        "model_2layers_es.compile(optimizer='adam',loss='sparse_categorical_crossentropy',metrics=['acc'])\n",
        "\n",
        "model_2layers_es.summary()"
      ],
      "execution_count": 170,
      "outputs": [
        {
          "output_type": "stream",
          "text": [
            "Model: \"sequential_25\"\n",
            "_________________________________________________________________\n",
            "Layer (type)                 Output Shape              Param #   \n",
            "=================================================================\n",
            "flatten_24 (Flatten)         (None, 784)               0         \n",
            "_________________________________________________________________\n",
            "dense_51 (Dense)             (None, 100)               78500     \n",
            "_________________________________________________________________\n",
            "dense_52 (Dense)             (None, 80)                8080      \n",
            "_________________________________________________________________\n",
            "dense_53 (Dense)             (None, 10)                810       \n",
            "=================================================================\n",
            "Total params: 87,390\n",
            "Trainable params: 87,390\n",
            "Non-trainable params: 0\n",
            "_________________________________________________________________\n"
          ],
          "name": "stdout"
        }
      ]
    },
    {
      "cell_type": "code",
      "metadata": {
        "colab": {
          "base_uri": "https://localhost:8080/"
        },
        "id": "Zk4hOy1xaEmZ",
        "outputId": "7ee0e552-54eb-4336-bf4d-22b96f126d53"
      },
      "source": [
        "model_2layers_es.fit(x=train_images,y=train_labels,epochs=10,validation_data=(test_images,test_labels),callbacks=[EarlyStopping(monitor='val_acc', patience=2)])"
      ],
      "execution_count": 174,
      "outputs": [
        {
          "output_type": "stream",
          "text": [
            "Epoch 1/10\n",
            "1875/1875 [==============================] - 4s 2ms/step - loss: 0.1377 - acc: 0.9476 - val_loss: 0.4283 - val_acc: 0.8890\n",
            "Epoch 2/10\n",
            "1875/1875 [==============================] - 4s 2ms/step - loss: 0.1338 - acc: 0.9481 - val_loss: 0.4398 - val_acc: 0.8874\n",
            "Epoch 3/10\n",
            "1875/1875 [==============================] - 4s 2ms/step - loss: 0.1312 - acc: 0.9499 - val_loss: 0.4517 - val_acc: 0.8842\n"
          ],
          "name": "stdout"
        },
        {
          "output_type": "execute_result",
          "data": {
            "text/plain": [
              "<tensorflow.python.keras.callbacks.History at 0x7f2007799e50>"
            ]
          },
          "metadata": {
            "tags": []
          },
          "execution_count": 174
        }
      ]
    },
    {
      "cell_type": "markdown",
      "metadata": {
        "id": "t1kkl1DiaKBl"
      },
      "source": [
        "* From the above we see that Accuracy of Training is 94.99% & Validation is 88.42% for 10 epochs.\n",
        "* Also the Loss on Training is 0.1312 & Validation is 0.4517 for 10 epochs."
      ]
    },
    {
      "cell_type": "markdown",
      "metadata": {
        "id": "Kfq9Y_mfhNTh"
      },
      "source": [
        "### Predicting the target values"
      ]
    },
    {
      "cell_type": "code",
      "metadata": {
        "id": "GjBSwJRlhURP"
      },
      "source": [
        "predictions_es = model_2layers_es.predict(test_images) #predicting value using the Early Stopping model."
      ],
      "execution_count": 180,
      "outputs": []
    },
    {
      "cell_type": "code",
      "metadata": {
        "colab": {
          "base_uri": "https://localhost:8080/"
        },
        "id": "_eolC8xxhppC",
        "outputId": "5878d610-6fc2-40a4-e87d-a3ab37c833fe"
      },
      "source": [
        "print(\"Predicted Value of {} image from Test Data is: {}\".format(0,predictions_es[0])) # this gives the one hot encoding value of the target variable for the provided index.\n",
        "print(\"Predicted Value of {} image from Test Data is: {}\".format(0,np.argmax(predictions_es[0]))) #this gives the value of prediction.\n",
        "print(\"Actual value of {} image is: {}\".format(0,test_labels[0])) #this gives the actual value"
      ],
      "execution_count": 184,
      "outputs": [
        {
          "output_type": "stream",
          "text": [
            "Predicted Value of 0 image from Test Data is: [0. 0. 0. 0. 0. 0. 0. 0. 0. 1.]\n",
            "Predicted Value of 0 image from Test Data is: 9\n",
            "Actual value of 0 image is: 9\n"
          ],
          "name": "stdout"
        }
      ]
    },
    {
      "cell_type": "markdown",
      "metadata": {
        "id": "Bke7s8fqjS9h"
      },
      "source": [
        "### Conclusion\n",
        "\n",
        "* This shows that actual & predicted value for a particular index '0' are same and our prediction is correct.\n",
        "\n",
        "* We can repeat this process by choosing a model where the validation accuracy is less."
      ]
    }
  ]
}