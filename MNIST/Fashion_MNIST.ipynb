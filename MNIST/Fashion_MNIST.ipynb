{
  "nbformat": 4,
  "nbformat_minor": 0,
  "metadata": {
    "colab": {
      "name": "Fashion_MNIST.ipynb",
      "provenance": [],
      "authorship_tag": "ABX9TyNNZFwDtpWLRiJPNkDBEsNw",
      "include_colab_link": true
    },
    "kernelspec": {
      "name": "python3",
      "display_name": "Python 3"
    },
    "language_info": {
      "name": "python"
    }
  },
  "cells": [
    {
      "cell_type": "markdown",
      "metadata": {
        "id": "view-in-github",
        "colab_type": "text"
      },
      "source": [
        "<a href=\"https://colab.research.google.com/github/santhoshbvsrk/DeepLearning/blob/main/MNIST/Fashion_MNIST.ipynb\" target=\"_parent\"><img src=\"https://colab.research.google.com/assets/colab-badge.svg\" alt=\"Open In Colab\"/></a>"
      ]
    },
    {
      "cell_type": "markdown",
      "metadata": {
        "id": "N-RHrK4jb6xC"
      },
      "source": [
        "* Importing tensorflow package and all relevant libraries."
      ]
    },
    {
      "cell_type": "code",
      "metadata": {
        "id": "0RqHSOxGbx-P"
      },
      "source": [
        "import tensorflow as tf                  #import Tensorflow library\n",
        "from tensorflow import keras             #import Keras api library for tensorflow\n",
        "from keras import datasets               #import datasets provided by Keras API \n",
        "\n",
        "import numpy as np                      \n",
        "import matplotlib.pyplot as plt              "
      ],
      "execution_count": 4,
      "outputs": []
    },
    {
      "cell_type": "code",
      "metadata": {
        "id": "vr-uEjM3ejdj"
      },
      "source": [
        "fashion=datasets.fashion_mnist          #instantiating Fashion dataset from MNIST under Keras"
      ],
      "execution_count": 5,
      "outputs": []
    },
    {
      "cell_type": "code",
      "metadata": {
        "id": "qN9SHCcXuuXy"
      },
      "source": [
        "(train_images,train_labels),(test_images,test_labels)=fashion.load_data()   #loading MNIST Fashion dataset which does train & test split internally and the default split is 0.2 i.e, 80% train & 20% test"
      ],
      "execution_count": 10,
      "outputs": []
    },
    {
      "cell_type": "code",
      "metadata": {
        "colab": {
          "base_uri": "https://localhost:8080/"
        },
        "id": "iKhP9uWfu9KZ",
        "outputId": "11bd27bf-55c2-4eb5-c143-dcdc1ac3b0c2"
      },
      "source": [
        "# checking the shape of x_train, y_train, x_test & y_test variables\n",
        "print(train_images.shape)            \n",
        "print(train_labels.shape)\n",
        "print(test_images.shape)\n",
        "print(test_labels.shape)"
      ],
      "execution_count": 7,
      "outputs": [
        {
          "output_type": "stream",
          "text": [
            "(60000, 28, 28)\n",
            "(60000,)\n",
            "(10000, 28, 28)\n",
            "(10000,)\n"
          ],
          "name": "stdout"
        }
      ]
    },
    {
      "cell_type": "code",
      "metadata": {
        "id": "sg__3mlQuwxt",
        "outputId": "c6857dcf-50d3-483e-e077-663cac34aeb0",
        "colab": {
          "base_uri": "https://localhost:8080/"
        }
      },
      "source": [
        "from sklearn.model_selection import train_test_split\n",
        "\n",
        "np.random.seed=1000\n",
        "\n",
        "validation_images,test_images,validation_labels,test_labels = train_test_split(test_images,test_labels, train_size=0.5)\n",
        "\n",
        "print(train_images.shape)            \n",
        "print(train_labels.shape)\n",
        "print(validation_images.shape)\n",
        "print(validation_labels.shape)\n",
        "print(test_images.shape)\n",
        "print(test_labels.shape)"
      ],
      "execution_count": 11,
      "outputs": [
        {
          "output_type": "stream",
          "text": [
            "(60000, 28, 28)\n",
            "(60000,)\n",
            "(5000, 28, 28)\n",
            "(5000,)\n",
            "(5000, 28, 28)\n",
            "(5000,)\n"
          ],
          "name": "stdout"
        }
      ]
    },
    {
      "cell_type": "code",
      "metadata": {
        "colab": {
          "base_uri": "https://localhost:8080/"
        },
        "id": "WWwqw0XXvfH-",
        "outputId": "45b5e888-20fe-47f5-d2ec-97eb96bfc65c"
      },
      "source": [
        "train_images[0]    #checking the data present in first row of x_train"
      ],
      "execution_count": null,
      "outputs": [
        {
          "output_type": "execute_result",
          "data": {
            "text/plain": [
              "array([[  0,   0,   0,   0,   0,   0,   0,   0,   0,   0,   0,   0,   0,\n",
              "          0,   0,   0,   0,   0,   0,   0,   0,   0,   0,   0,   0,   0,\n",
              "          0,   0],\n",
              "       [  0,   0,   0,   0,   0,   0,   0,   0,   0,   0,   0,   0,   0,\n",
              "          0,   0,   0,   0,   0,   0,   0,   0,   0,   0,   0,   0,   0,\n",
              "          0,   0],\n",
              "       [  0,   0,   0,   0,   0,   0,   0,   0,   0,   0,   0,   0,   0,\n",
              "          0,   0,   0,   0,   0,   0,   0,   0,   0,   0,   0,   0,   0,\n",
              "          0,   0],\n",
              "       [  0,   0,   0,   0,   0,   0,   0,   0,   0,   0,   0,   0,   1,\n",
              "          0,   0,  13,  73,   0,   0,   1,   4,   0,   0,   0,   0,   1,\n",
              "          1,   0],\n",
              "       [  0,   0,   0,   0,   0,   0,   0,   0,   0,   0,   0,   0,   3,\n",
              "          0,  36, 136, 127,  62,  54,   0,   0,   0,   1,   3,   4,   0,\n",
              "          0,   3],\n",
              "       [  0,   0,   0,   0,   0,   0,   0,   0,   0,   0,   0,   0,   6,\n",
              "          0, 102, 204, 176, 134, 144, 123,  23,   0,   0,   0,   0,  12,\n",
              "         10,   0],\n",
              "       [  0,   0,   0,   0,   0,   0,   0,   0,   0,   0,   0,   0,   0,\n",
              "          0, 155, 236, 207, 178, 107, 156, 161, 109,  64,  23,  77, 130,\n",
              "         72,  15],\n",
              "       [  0,   0,   0,   0,   0,   0,   0,   0,   0,   0,   0,   1,   0,\n",
              "         69, 207, 223, 218, 216, 216, 163, 127, 121, 122, 146, 141,  88,\n",
              "        172,  66],\n",
              "       [  0,   0,   0,   0,   0,   0,   0,   0,   0,   1,   1,   1,   0,\n",
              "        200, 232, 232, 233, 229, 223, 223, 215, 213, 164, 127, 123, 196,\n",
              "        229,   0],\n",
              "       [  0,   0,   0,   0,   0,   0,   0,   0,   0,   0,   0,   0,   0,\n",
              "        183, 225, 216, 223, 228, 235, 227, 224, 222, 224, 221, 223, 245,\n",
              "        173,   0],\n",
              "       [  0,   0,   0,   0,   0,   0,   0,   0,   0,   0,   0,   0,   0,\n",
              "        193, 228, 218, 213, 198, 180, 212, 210, 211, 213, 223, 220, 243,\n",
              "        202,   0],\n",
              "       [  0,   0,   0,   0,   0,   0,   0,   0,   0,   1,   3,   0,  12,\n",
              "        219, 220, 212, 218, 192, 169, 227, 208, 218, 224, 212, 226, 197,\n",
              "        209,  52],\n",
              "       [  0,   0,   0,   0,   0,   0,   0,   0,   0,   0,   6,   0,  99,\n",
              "        244, 222, 220, 218, 203, 198, 221, 215, 213, 222, 220, 245, 119,\n",
              "        167,  56],\n",
              "       [  0,   0,   0,   0,   0,   0,   0,   0,   0,   4,   0,   0,  55,\n",
              "        236, 228, 230, 228, 240, 232, 213, 218, 223, 234, 217, 217, 209,\n",
              "         92,   0],\n",
              "       [  0,   0,   1,   4,   6,   7,   2,   0,   0,   0,   0,   0, 237,\n",
              "        226, 217, 223, 222, 219, 222, 221, 216, 223, 229, 215, 218, 255,\n",
              "         77,   0],\n",
              "       [  0,   3,   0,   0,   0,   0,   0,   0,   0,  62, 145, 204, 228,\n",
              "        207, 213, 221, 218, 208, 211, 218, 224, 223, 219, 215, 224, 244,\n",
              "        159,   0],\n",
              "       [  0,   0,   0,   0,  18,  44,  82, 107, 189, 228, 220, 222, 217,\n",
              "        226, 200, 205, 211, 230, 224, 234, 176, 188, 250, 248, 233, 238,\n",
              "        215,   0],\n",
              "       [  0,  57, 187, 208, 224, 221, 224, 208, 204, 214, 208, 209, 200,\n",
              "        159, 245, 193, 206, 223, 255, 255, 221, 234, 221, 211, 220, 232,\n",
              "        246,   0],\n",
              "       [  3, 202, 228, 224, 221, 211, 211, 214, 205, 205, 205, 220, 240,\n",
              "         80, 150, 255, 229, 221, 188, 154, 191, 210, 204, 209, 222, 228,\n",
              "        225,   0],\n",
              "       [ 98, 233, 198, 210, 222, 229, 229, 234, 249, 220, 194, 215, 217,\n",
              "        241,  65,  73, 106, 117, 168, 219, 221, 215, 217, 223, 223, 224,\n",
              "        229,  29],\n",
              "       [ 75, 204, 212, 204, 193, 205, 211, 225, 216, 185, 197, 206, 198,\n",
              "        213, 240, 195, 227, 245, 239, 223, 218, 212, 209, 222, 220, 221,\n",
              "        230,  67],\n",
              "       [ 48, 203, 183, 194, 213, 197, 185, 190, 194, 192, 202, 214, 219,\n",
              "        221, 220, 236, 225, 216, 199, 206, 186, 181, 177, 172, 181, 205,\n",
              "        206, 115],\n",
              "       [  0, 122, 219, 193, 179, 171, 183, 196, 204, 210, 213, 207, 211,\n",
              "        210, 200, 196, 194, 191, 195, 191, 198, 192, 176, 156, 167, 177,\n",
              "        210,  92],\n",
              "       [  0,   0,  74, 189, 212, 191, 175, 172, 175, 181, 185, 188, 189,\n",
              "        188, 193, 198, 204, 209, 210, 210, 211, 188, 188, 194, 192, 216,\n",
              "        170,   0],\n",
              "       [  2,   0,   0,   0,  66, 200, 222, 237, 239, 242, 246, 243, 244,\n",
              "        221, 220, 193, 191, 179, 182, 182, 181, 176, 166, 168,  99,  58,\n",
              "          0,   0],\n",
              "       [  0,   0,   0,   0,   0,   0,   0,  40,  61,  44,  72,  41,  35,\n",
              "          0,   0,   0,   0,   0,   0,   0,   0,   0,   0,   0,   0,   0,\n",
              "          0,   0],\n",
              "       [  0,   0,   0,   0,   0,   0,   0,   0,   0,   0,   0,   0,   0,\n",
              "          0,   0,   0,   0,   0,   0,   0,   0,   0,   0,   0,   0,   0,\n",
              "          0,   0],\n",
              "       [  0,   0,   0,   0,   0,   0,   0,   0,   0,   0,   0,   0,   0,\n",
              "          0,   0,   0,   0,   0,   0,   0,   0,   0,   0,   0,   0,   0,\n",
              "          0,   0]], dtype=uint8)"
            ]
          },
          "metadata": {
            "tags": []
          },
          "execution_count": 5
        }
      ]
    },
    {
      "cell_type": "code",
      "metadata": {
        "colab": {
          "base_uri": "https://localhost:8080/"
        },
        "id": "RWL0SlBEyXkx",
        "outputId": "afd0fd23-64b4-4a91-951f-ed970a602fb2"
      },
      "source": [
        "train_labels[0]    #checking data present in first row of y_train "
      ],
      "execution_count": null,
      "outputs": [
        {
          "output_type": "execute_result",
          "data": {
            "text/plain": [
              "9"
            ]
          },
          "metadata": {
            "tags": []
          },
          "execution_count": 6
        }
      ]
    },
    {
      "cell_type": "code",
      "metadata": {
        "id": "OYhX6KRt2_5y"
      },
      "source": [
        "class_names=['T-shirt/Top','Trouser','Pullover','Dress','Coat','Sandal','Shirt','Sneaker','Bag','Ankle Boot']  #creating a variable to hold name of the target variable values."
      ],
      "execution_count": 35,
      "outputs": []
    },
    {
      "cell_type": "code",
      "metadata": {
        "id": "0yMdHjH4x6D9"
      },
      "source": [
        "#creating a function to plot images from training dataset\n",
        "def plot_sample(X,y,index):\n",
        "  plt.figure(figsize = (5,2))\n",
        "  plt.imshow(X[index],cmap=plt.cm.binary)   #this function is used to print image & cmap=plt.cm.binary makes the color of image to black & white\n",
        "  plt.xlabel(class_names[y[index]])"
      ],
      "execution_count": 2,
      "outputs": []
    },
    {
      "cell_type": "code",
      "metadata": {
        "colab": {
          "base_uri": "https://localhost:8080/",
          "height": 485
        },
        "id": "OXkyY4YC2svL",
        "outputId": "6eff4907-d7cf-46e0-f865-e6520e70a5b9"
      },
      "source": [
        "#printing first 3 images from the training dataset by calling the above created function\n",
        "for index in range(0,3):\n",
        "  plot_sample(train_images,train_labels,index)"
      ],
      "execution_count": null,
      "outputs": [
        {
          "output_type": "display_data",
          "data": {
            "image/png": "[encoded data removed]",
            "text/plain": [
              "<Figure size 360x144 with 1 Axes>"
            ]
          },
          "metadata": {
            "tags": [],
            "needs_background": "light"
          }
        },
        {
          "output_type": "display_data",
          "data": {
            "image/png": "[encoded data removed]",
            "text/plain": [
              "<Figure size 360x144 with 1 Axes>"
            ]
          },
          "metadata": {
            "tags": [],
            "needs_background": "light"
          }
        },
        {
          "output_type": "display_data",
          "data": {
            "image/png": "[encoded data removed]",
            "text/plain": [
              "<Figure size 360x144 with 1 Axes>"
            ]
          },
          "metadata": {
            "tags": [],
            "needs_background": "light"
          }
        }
      ]
    },
    {
      "cell_type": "code",
      "metadata": {
        "id": "MfHX4MOW59pS"
      },
      "source": [
        "#normalizing dataset i.e., the value in each and image has values from 0 to 255 which is nothing but the pixel, we'll normalize it to be between 0-1. \n",
        "#Normalizing will be done on the images from both training & testing datasets\n",
        "train_images = train_images / 255.0\n",
        "validation_images = validation_images / 255.0\n",
        "test_images = test_images / 255.0"
      ],
      "execution_count": 12,
      "outputs": []
    },
    {
      "cell_type": "code",
      "metadata": {
        "id": "59BJzpaM-cjA"
      },
      "source": [
        "from keras import models         #importing models package from Keras\n",
        "from keras import Sequential     #importing Sequential package from Keras to create a Sequential model\n",
        "from keras import layers         #importing layers package from Keras which will be used for adding Input Layers, Hidden Layers & Output Layers"
      ],
      "execution_count": 13,
      "outputs": []
    },
    {
      "cell_type": "markdown",
      "metadata": {
        "id": "wwaYhj09eg4g"
      },
      "source": [
        "### Model with Relu Activation and a single Hidden Layer"
      ]
    },
    {
      "cell_type": "code",
      "metadata": {
        "colab": {
          "base_uri": "https://localhost:8080/"
        },
        "id": "JT5WR2hn-q2Y",
        "outputId": "f78c9777-b30d-4c83-e34d-62f8c374fc16"
      },
      "source": [
        "model = Sequential([layers.Flatten(input_shape=(28,28)),  #we mention the input shape as the number of input pixels\n",
        "layers.Dense(100,activation='relu'),                      #This is Hidden Layer1 and 100 is the number of neurons to be created with activation function as 'relu'\n",
        "layers.Dense(10,activation='softmax')                     #This is Output Layer with 10 neurons in the output layer and here we've to mention the number of neurons as the number of output values in target variable and activation function ='softmax' for classifiction problem\n",
        "])\n",
        "\n",
        "model.compile(optimizer='adam',loss='sparse_categorical_crossentropy',metrics=['accuracy']) #compiling model. Here loss is 'sparse_categorical_crossentropy' as that gets the cell value directly rather than one hot encoding which categorical_cross entropy fetches\n",
        "\n",
        "model.summary()    #printing summary of the model"
      ],
      "execution_count": 14,
      "outputs": [
        {
          "output_type": "stream",
          "text": [
            "Model: \"sequential\"\n",
            "_________________________________________________________________\n",
            "Layer (type)                 Output Shape              Param #   \n",
            "=================================================================\n",
            "flatten (Flatten)            (None, 784)               0         \n",
            "_________________________________________________________________\n",
            "dense (Dense)                (None, 100)               78500     \n",
            "_________________________________________________________________\n",
            "dense_1 (Dense)              (None, 10)                1010      \n",
            "=================================================================\n",
            "Total params: 79,510\n",
            "Trainable params: 79,510\n",
            "Non-trainable params: 0\n",
            "_________________________________________________________________\n"
          ],
          "name": "stdout"
        }
      ]
    },
    {
      "cell_type": "code",
      "metadata": {
        "colab": {
          "base_uri": "https://localhost:8080/",
          "height": 590
        },
        "id": "hYX6uLUfAGrS",
        "outputId": "5cc005bd-e744-4cce-a992-7db4f0a12afb"
      },
      "source": [
        "history = model.fit(x=train_images,y=train_labels,epochs=10,batch_size=200,verbose=1,validation_data=(validation_images,validation_labels)) #Fitting model on train & validation data to see accuracy & loss of model\n",
        "\n",
        "#plot to see training & validation loss\n",
        "plt.plot(history.history['loss'],label='train')\n",
        "plt.plot(history.history['val_loss'],label='validation')\n",
        "plt.legend()\n",
        "plt.show()"
      ],
      "execution_count": 16,
      "outputs": [
        {
          "output_type": "stream",
          "text": [
            "Epoch 1/10\n",
            "300/300 [==============================] - 1s 4ms/step - loss: 0.2797 - accuracy: 0.8986 - val_loss: 0.3440 - val_accuracy: 0.8776\n",
            "Epoch 2/10\n",
            "300/300 [==============================] - 1s 4ms/step - loss: 0.2699 - accuracy: 0.9015 - val_loss: 0.3364 - val_accuracy: 0.8828\n",
            "Epoch 3/10\n",
            "300/300 [==============================] - 1s 4ms/step - loss: 0.2651 - accuracy: 0.9030 - val_loss: 0.3348 - val_accuracy: 0.8782\n",
            "Epoch 4/10\n",
            "300/300 [==============================] - 1s 4ms/step - loss: 0.2587 - accuracy: 0.9050 - val_loss: 0.3436 - val_accuracy: 0.8736\n",
            "Epoch 5/10\n",
            "300/300 [==============================] - 1s 4ms/step - loss: 0.2525 - accuracy: 0.9079 - val_loss: 0.3230 - val_accuracy: 0.8842\n",
            "Epoch 6/10\n",
            "300/300 [==============================] - 1s 4ms/step - loss: 0.2475 - accuracy: 0.9095 - val_loss: 0.3239 - val_accuracy: 0.8850\n",
            "Epoch 7/10\n",
            "300/300 [==============================] - 1s 4ms/step - loss: 0.2411 - accuracy: 0.9129 - val_loss: 0.3448 - val_accuracy: 0.8796\n",
            "Epoch 8/10\n",
            "300/300 [==============================] - 1s 4ms/step - loss: 0.2350 - accuracy: 0.9135 - val_loss: 0.3250 - val_accuracy: 0.8848\n",
            "Epoch 9/10\n",
            "300/300 [==============================] - 1s 4ms/step - loss: 0.2330 - accuracy: 0.9149 - val_loss: 0.3221 - val_accuracy: 0.8882\n",
            "Epoch 10/10\n",
            "300/300 [==============================] - 1s 4ms/step - loss: 0.2282 - accuracy: 0.9164 - val_loss: 0.3249 - val_accuracy: 0.8830\n"
          ],
          "name": "stdout"
        },
        {
          "output_type": "display_data",
          "data": {
            "image/png": "[encoded data removed]",
            "text/plain": [
              "<Figure size 432x288 with 1 Axes>"
            ]
          },
          "metadata": {
            "tags": [],
            "needs_background": "light"
          }
        }
      ]
    },
    {
      "cell_type": "markdown",
      "metadata": {
        "id": "ItXraWR5AxMM"
      },
      "source": [
        "* From the above we see that Accuracy of Training is 93.32% & Validation is 89.45% for 10 epochs.\n",
        "* Also the Loss on Training is 0.1838 & Validation is 0.3167 for 10 epochs.\n",
        "* The validation loss is not decreasing."
      ]
    },
    {
      "cell_type": "markdown",
      "metadata": {
        "id": "DxtqF0SiFJcW"
      },
      "source": [
        "* Let us perform regularization on data to remove overfit."
      ]
    },
    {
      "cell_type": "markdown",
      "metadata": {
        "id": "vwSAa3O4Xbs6"
      },
      "source": [
        "### L2 Regularizer"
      ]
    },
    {
      "cell_type": "code",
      "metadata": {
        "colab": {
          "base_uri": "https://localhost:8080/"
        },
        "id": "gVoiQU6gFXLR",
        "outputId": "f69ec00a-62eb-49de-c622-4b7c7a58ce13"
      },
      "source": [
        "from keras import regularizers\n",
        "\n",
        "model_l2reg = Sequential([layers.Flatten(input_shape=(28,28)),\n",
        "layers.Dense(100,activation='relu',kernel_regularizer=regularizers.l2(0.0001)),\n",
        "layers.Dense(10,activation='softmax')\n",
        "])\n",
        "\n",
        "model_l2reg.compile(optimizer='adam',loss='sparse_categorical_crossentropy',metrics=['accuracy'])\n",
        "\n",
        "model_l2reg.summary()"
      ],
      "execution_count": 18,
      "outputs": [
        {
          "output_type": "stream",
          "text": [
            "Model: \"sequential_1\"\n",
            "_________________________________________________________________\n",
            "Layer (type)                 Output Shape              Param #   \n",
            "=================================================================\n",
            "flatten_1 (Flatten)          (None, 784)               0         \n",
            "_________________________________________________________________\n",
            "dense_2 (Dense)              (None, 100)               78500     \n",
            "_________________________________________________________________\n",
            "dense_3 (Dense)              (None, 10)                1010      \n",
            "=================================================================\n",
            "Total params: 79,510\n",
            "Trainable params: 79,510\n",
            "Non-trainable params: 0\n",
            "_________________________________________________________________\n"
          ],
          "name": "stdout"
        }
      ]
    },
    {
      "cell_type": "code",
      "metadata": {
        "colab": {
          "base_uri": "https://localhost:8080/",
          "height": 590
        },
        "id": "hVp_t81SGeQI",
        "outputId": "031500fa-9152-4d81-f175-33c3639fcedd"
      },
      "source": [
        "history_l2reg = model_l2reg.fit(x=train_images,y=train_labels,epochs=10,batch_size=200,verbose=1,validation_data=(validation_images,validation_labels))\n",
        "\n",
        "#plot to see training & validation loss\n",
        "plt.plot(history_l2reg.history['loss'],label='train')\n",
        "plt.plot(history_l2reg.history['val_loss'],label='validation')\n",
        "plt.legend()\n",
        "plt.show()"
      ],
      "execution_count": 19,
      "outputs": [
        {
          "output_type": "stream",
          "text": [
            "Epoch 1/10\n",
            "300/300 [==============================] - 2s 5ms/step - loss: 0.8409 - accuracy: 0.7263 - val_loss: 0.5091 - val_accuracy: 0.8332\n",
            "Epoch 2/10\n",
            "300/300 [==============================] - 2s 5ms/step - loss: 0.4671 - accuracy: 0.8458 - val_loss: 0.4542 - val_accuracy: 0.8462\n",
            "Epoch 3/10\n",
            "300/300 [==============================] - 1s 5ms/step - loss: 0.4133 - accuracy: 0.8623 - val_loss: 0.4438 - val_accuracy: 0.8512\n",
            "Epoch 4/10\n",
            "300/300 [==============================] - 1s 5ms/step - loss: 0.3942 - accuracy: 0.8672 - val_loss: 0.4312 - val_accuracy: 0.8534\n",
            "Epoch 5/10\n",
            "300/300 [==============================] - 1s 5ms/step - loss: 0.3749 - accuracy: 0.8761 - val_loss: 0.4191 - val_accuracy: 0.8592\n",
            "Epoch 6/10\n",
            "300/300 [==============================] - 1s 5ms/step - loss: 0.3592 - accuracy: 0.8818 - val_loss: 0.4022 - val_accuracy: 0.8618\n",
            "Epoch 7/10\n",
            "300/300 [==============================] - 1s 5ms/step - loss: 0.3473 - accuracy: 0.8842 - val_loss: 0.3988 - val_accuracy: 0.8640\n",
            "Epoch 8/10\n",
            "300/300 [==============================] - 1s 5ms/step - loss: 0.3421 - accuracy: 0.8863 - val_loss: 0.4152 - val_accuracy: 0.8578\n",
            "Epoch 9/10\n",
            "300/300 [==============================] - 2s 5ms/step - loss: 0.3367 - accuracy: 0.8890 - val_loss: 0.3919 - val_accuracy: 0.8674\n",
            "Epoch 10/10\n",
            "300/300 [==============================] - 1s 5ms/step - loss: 0.3219 - accuracy: 0.8937 - val_loss: 0.3770 - val_accuracy: 0.8716\n"
          ],
          "name": "stdout"
        },
        {
          "output_type": "display_data",
          "data": {
            "image/png": "[encoded data removed]",
            "text/plain": [
              "<Figure size 432x288 with 1 Axes>"
            ]
          },
          "metadata": {
            "tags": [],
            "needs_background": "light"
          }
        }
      ]
    },
    {
      "cell_type": "markdown",
      "metadata": {
        "id": "ox4AS2fuWvuD"
      },
      "source": [
        "* From the above we see that Accuracy of Training is 89.82% & Validation is 87.5% for 10 epochs.\n",
        "* Also the Loss on Training is 0.3125 & Validation is 0.3804 for 10 epochs."
      ]
    },
    {
      "cell_type": "markdown",
      "metadata": {
        "id": "STMPnUksXVGx"
      },
      "source": [
        "### L1 Regularizer"
      ]
    },
    {
      "cell_type": "code",
      "metadata": {
        "colab": {
          "base_uri": "https://localhost:8080/"
        },
        "id": "j1q1lnJHHX9S",
        "outputId": "455b1531-f57b-418d-c1da-0a9d0f5d2445"
      },
      "source": [
        "from keras import regularizers\n",
        "\n",
        "model_l1reg = Sequential([layers.Flatten(input_shape=(28,28)),\n",
        "layers.Dense(100,activation='relu',kernel_regularizer=regularizers.l1(0.0001)),\n",
        "layers.Dense(10,activation='softmax')\n",
        "])\n",
        "\n",
        "model_l1reg.compile(optimizer='adam',loss='sparse_categorical_crossentropy',metrics=['accuracy'])\n",
        "\n",
        "model_l1reg.summary()"
      ],
      "execution_count": 22,
      "outputs": [
        {
          "output_type": "stream",
          "text": [
            "Model: \"sequential_3\"\n",
            "_________________________________________________________________\n",
            "Layer (type)                 Output Shape              Param #   \n",
            "=================================================================\n",
            "flatten_3 (Flatten)          (None, 784)               0         \n",
            "_________________________________________________________________\n",
            "dense_6 (Dense)              (None, 100)               78500     \n",
            "_________________________________________________________________\n",
            "dense_7 (Dense)              (None, 10)                1010      \n",
            "=================================================================\n",
            "Total params: 79,510\n",
            "Trainable params: 79,510\n",
            "Non-trainable params: 0\n",
            "_________________________________________________________________\n"
          ],
          "name": "stdout"
        }
      ]
    },
    {
      "cell_type": "code",
      "metadata": {
        "colab": {
          "base_uri": "https://localhost:8080/",
          "height": 590
        },
        "id": "NFuP0ii5Ht0v",
        "outputId": "13b3e9a9-e632-4149-dcd8-c2a350e7dbde"
      },
      "source": [
        "history_l1reg = model_l1reg.fit(x=train_images,y=train_labels,epochs=10,batch_size=200,verbose=1,validation_data=(validation_images,validation_labels))\n",
        "\n",
        "#plot to see training & validation loss\n",
        "plt.plot(history_l1reg.history['loss'], label='train')\n",
        "plt.plot(history_l1reg.history['val_loss'],label='validation')\n",
        "plt.legend()\n",
        "plt.show()"
      ],
      "execution_count": 21,
      "outputs": [
        {
          "output_type": "stream",
          "text": [
            "Epoch 1/10\n",
            "300/300 [==============================] - 2s 5ms/step - loss: 1.1090 - accuracy: 0.7217 - val_loss: 0.7136 - val_accuracy: 0.8250\n",
            "Epoch 2/10\n",
            "300/300 [==============================] - 1s 5ms/step - loss: 0.6571 - accuracy: 0.8425 - val_loss: 0.6543 - val_accuracy: 0.8290\n",
            "Epoch 3/10\n",
            "300/300 [==============================] - 1s 4ms/step - loss: 0.5828 - accuracy: 0.8567 - val_loss: 0.5891 - val_accuracy: 0.8508\n",
            "Epoch 4/10\n",
            "300/300 [==============================] - 1s 4ms/step - loss: 0.5452 - accuracy: 0.8631 - val_loss: 0.5692 - val_accuracy: 0.8448\n",
            "Epoch 5/10\n",
            "300/300 [==============================] - 1s 4ms/step - loss: 0.5251 - accuracy: 0.8632 - val_loss: 0.5522 - val_accuracy: 0.8494\n",
            "Epoch 6/10\n",
            "300/300 [==============================] - 1s 4ms/step - loss: 0.4972 - accuracy: 0.8690 - val_loss: 0.5323 - val_accuracy: 0.8512\n",
            "Epoch 7/10\n",
            "300/300 [==============================] - 1s 5ms/step - loss: 0.4843 - accuracy: 0.8716 - val_loss: 0.5212 - val_accuracy: 0.8548\n",
            "Epoch 8/10\n",
            "300/300 [==============================] - 1s 4ms/step - loss: 0.4601 - accuracy: 0.8768 - val_loss: 0.5111 - val_accuracy: 0.8596\n",
            "Epoch 9/10\n",
            "300/300 [==============================] - 1s 4ms/step - loss: 0.4563 - accuracy: 0.8774 - val_loss: 0.4878 - val_accuracy: 0.8634\n",
            "Epoch 10/10\n",
            "300/300 [==============================] - 1s 4ms/step - loss: 0.4499 - accuracy: 0.8776 - val_loss: 0.4985 - val_accuracy: 0.8606\n"
          ],
          "name": "stdout"
        },
        {
          "output_type": "display_data",
          "data": {
            "image/png": "[encoded data removed]",
            "text/plain": [
              "<Figure size 432x288 with 1 Axes>"
            ]
          },
          "metadata": {
            "tags": [],
            "needs_background": "light"
          }
        }
      ]
    },
    {
      "cell_type": "markdown",
      "metadata": {
        "id": "8baDSIu7Xz4i"
      },
      "source": [
        "* From the above we see that Accuracy of Training is 87.65% & Validation is 85.91% for 10 epochs.\n",
        "* Also the Loss on Training is 0.4476 & Validation is 0.4858 for 10 epochs."
      ]
    },
    {
      "cell_type": "markdown",
      "metadata": {
        "id": "DOrnIgLmYHRt"
      },
      "source": [
        "### L1 Regularizer with 2 Hidden Layers"
      ]
    },
    {
      "cell_type": "code",
      "metadata": {
        "colab": {
          "base_uri": "https://localhost:8080/"
        },
        "id": "Uml94zaKKPQg",
        "outputId": "d5b1ae89-b290-412d-e204-2b6e6495fe21"
      },
      "source": [
        "from keras import regularizers\n",
        "\n",
        "model_l1reg_2layers = Sequential([layers.Flatten(input_shape=(28,28)),\n",
        "layers.Dense(100,activation='relu',kernel_regularizer=regularizers.l1(0.0001)),\n",
        "layers.Dense(80,activation='relu',kernel_regularizer=regularizers.l1(0.0001)),\n",
        "layers.Dense(10,activation='softmax')\n",
        "])\n",
        "\n",
        "model_l1reg_2layers.compile(optimizer='adam',loss='sparse_categorical_crossentropy',metrics=['accuracy'])\n",
        "\n",
        "model_l1reg_2layers.summary()"
      ],
      "execution_count": 23,
      "outputs": [
        {
          "output_type": "stream",
          "text": [
            "Model: \"sequential_4\"\n",
            "_________________________________________________________________\n",
            "Layer (type)                 Output Shape              Param #   \n",
            "=================================================================\n",
            "flatten_4 (Flatten)          (None, 784)               0         \n",
            "_________________________________________________________________\n",
            "dense_8 (Dense)              (None, 100)               78500     \n",
            "_________________________________________________________________\n",
            "dense_9 (Dense)              (None, 80)                8080      \n",
            "_________________________________________________________________\n",
            "dense_10 (Dense)             (None, 10)                810       \n",
            "=================================================================\n",
            "Total params: 87,390\n",
            "Trainable params: 87,390\n",
            "Non-trainable params: 0\n",
            "_________________________________________________________________\n"
          ],
          "name": "stdout"
        }
      ]
    },
    {
      "cell_type": "code",
      "metadata": {
        "colab": {
          "base_uri": "https://localhost:8080/",
          "height": 590
        },
        "id": "KkEtJ6sENhTr",
        "outputId": "bc0dbfca-088d-4781-ccfe-5a8763b511ad"
      },
      "source": [
        "history_l2reg_2lay = model_l1reg_2layers.fit(x=train_images,y=train_labels,epochs=10,batch_size=200,verbose=1,validation_data=(validation_images,validation_labels))\n",
        "\n",
        "#plot to see training & validation loss\n",
        "plt.plot(history_l2reg_2lay.history['loss'], label='train')\n",
        "plt.plot(history_l2reg_2lay.history['val_loss'], label='validation')\n",
        "plt.legend()\n",
        "plt.show()"
      ],
      "execution_count": 24,
      "outputs": [
        {
          "output_type": "stream",
          "text": [
            "Epoch 1/10\n",
            "300/300 [==============================] - 2s 5ms/step - loss: 1.2220 - accuracy: 0.7027 - val_loss: 0.7650 - val_accuracy: 0.8236\n",
            "Epoch 2/10\n",
            "300/300 [==============================] - 1s 5ms/step - loss: 0.6769 - accuracy: 0.8495 - val_loss: 0.6670 - val_accuracy: 0.8452\n",
            "Epoch 3/10\n",
            "300/300 [==============================] - 1s 5ms/step - loss: 0.6111 - accuracy: 0.8562 - val_loss: 0.6060 - val_accuracy: 0.8538\n",
            "Epoch 4/10\n",
            "300/300 [==============================] - 1s 5ms/step - loss: 0.5668 - accuracy: 0.8667 - val_loss: 0.5884 - val_accuracy: 0.8514\n",
            "Epoch 5/10\n",
            "300/300 [==============================] - 1s 5ms/step - loss: 0.5361 - accuracy: 0.8677 - val_loss: 0.5576 - val_accuracy: 0.8606\n",
            "Epoch 6/10\n",
            "300/300 [==============================] - 1s 5ms/step - loss: 0.5145 - accuracy: 0.8739 - val_loss: 0.5657 - val_accuracy: 0.8490\n",
            "Epoch 7/10\n",
            "300/300 [==============================] - 1s 5ms/step - loss: 0.4987 - accuracy: 0.8750 - val_loss: 0.5271 - val_accuracy: 0.8584\n",
            "Epoch 8/10\n",
            "300/300 [==============================] - 1s 5ms/step - loss: 0.4777 - accuracy: 0.8805 - val_loss: 0.5207 - val_accuracy: 0.8640\n",
            "Epoch 9/10\n",
            "300/300 [==============================] - 1s 5ms/step - loss: 0.4694 - accuracy: 0.8811 - val_loss: 0.5252 - val_accuracy: 0.8606\n",
            "Epoch 10/10\n",
            "300/300 [==============================] - 1s 5ms/step - loss: 0.4613 - accuracy: 0.8829 - val_loss: 0.5134 - val_accuracy: 0.8622\n"
          ],
          "name": "stdout"
        },
        {
          "output_type": "display_data",
          "data": {
            "image/png": "[encoded data removed]",
            "text/plain": [
              "<Figure size 432x288 with 1 Axes>"
            ]
          },
          "metadata": {
            "tags": [],
            "needs_background": "light"
          }
        }
      ]
    },
    {
      "cell_type": "markdown",
      "metadata": {
        "id": "abIBim1kYb0c"
      },
      "source": [
        "* From the above we see that Accuracy of Training is 88.61% & Validation is 87.08% for 10 epochs.\n",
        "* Also the Loss on Training is 0.4542 & Validation is 0.4975 for 10 epochs."
      ]
    },
    {
      "cell_type": "markdown",
      "metadata": {
        "id": "jztjoUkUYtLE"
      },
      "source": [
        "### 25% Dropout with 2 Hidden Layers\n",
        "\n",
        "\n",
        "* ***NOTE***: Dropouts are used to reduce overfitting i.e., it'll eliminate few neurons at each and every layer so that it doesn't train more on the train data leading to overfit."
      ]
    },
    {
      "cell_type": "code",
      "metadata": {
        "colab": {
          "base_uri": "https://localhost:8080/"
        },
        "id": "URmwh4goRqum",
        "outputId": "9b8c6c6f-7885-477b-82e4-f0991496d61b"
      },
      "source": [
        "from keras.layers import Dense\n",
        "from keras.layers.core import Dropout\n",
        "\n",
        "model_2layers_do = Sequential()\n",
        "\n",
        "model_2layers_do.add(layers.Flatten(input_shape=(28,28)))\n",
        "model_2layers_do.add(Dense(100,activation='relu')), Dropout(0.25)  #using dropout of 25% to eliminate neurons from HL1, so that model won't learn too much from train data\n",
        "model_2layers_do.add(Dense(80,activation='relu')), Dropout(0.25)   #using dropout of 25% to eliminate neurons from HL2, so that model won't learn too much from train data\n",
        "model_2layers_do.add(Dense(10,activation='softmax'))\n",
        "\n",
        "model_2layers_do.compile(optimizer='adam',loss='sparse_categorical_crossentropy',metrics=['acc'])\n",
        "\n",
        "model_2layers_do.summary()"
      ],
      "execution_count": 26,
      "outputs": [
        {
          "output_type": "stream",
          "text": [
            "Model: \"sequential_5\"\n",
            "_________________________________________________________________\n",
            "Layer (type)                 Output Shape              Param #   \n",
            "=================================================================\n",
            "flatten_5 (Flatten)          (None, 784)               0         \n",
            "_________________________________________________________________\n",
            "dense_11 (Dense)             (None, 100)               78500     \n",
            "_________________________________________________________________\n",
            "dense_12 (Dense)             (None, 80)                8080      \n",
            "_________________________________________________________________\n",
            "dense_13 (Dense)             (None, 10)                810       \n",
            "=================================================================\n",
            "Total params: 87,390\n",
            "Trainable params: 87,390\n",
            "Non-trainable params: 0\n",
            "_________________________________________________________________\n"
          ],
          "name": "stdout"
        }
      ]
    },
    {
      "cell_type": "code",
      "metadata": {
        "colab": {
          "base_uri": "https://localhost:8080/",
          "height": 590
        },
        "id": "LDef9Zm8TQ-6",
        "outputId": "0031c1de-f818-474d-c6c1-31dec4c32918"
      },
      "source": [
        "history_2layers_do = model_2layers_do.fit(x=train_images,y=train_labels,epochs=10,batch_size=200,verbose=1,validation_data=(validation_images,validation_labels))\n",
        "\n",
        "#plot to see training & validation loss\n",
        "plt.plot(history_2layers_do.history['loss'],label='train')\n",
        "plt.plot(history_2layers_do.history['val_loss'],label='validation')\n",
        "plt.legend()\n",
        "plt.show()"
      ],
      "execution_count": 27,
      "outputs": [
        {
          "output_type": "stream",
          "text": [
            "Epoch 1/10\n",
            "300/300 [==============================] - 2s 5ms/step - loss: 0.8783 - acc: 0.7049 - val_loss: 0.4691 - val_acc: 0.8388\n",
            "Epoch 2/10\n",
            "300/300 [==============================] - 1s 4ms/step - loss: 0.4194 - acc: 0.8553 - val_loss: 0.4118 - val_acc: 0.8488\n",
            "Epoch 3/10\n",
            "300/300 [==============================] - 1s 4ms/step - loss: 0.3655 - acc: 0.8684 - val_loss: 0.3867 - val_acc: 0.8598\n",
            "Epoch 4/10\n",
            "300/300 [==============================] - 1s 4ms/step - loss: 0.3371 - acc: 0.8787 - val_loss: 0.3796 - val_acc: 0.8632\n",
            "Epoch 5/10\n",
            "300/300 [==============================] - 1s 4ms/step - loss: 0.3207 - acc: 0.8844 - val_loss: 0.3698 - val_acc: 0.8694\n",
            "Epoch 6/10\n",
            "300/300 [==============================] - 1s 4ms/step - loss: 0.3068 - acc: 0.8867 - val_loss: 0.3602 - val_acc: 0.8738\n",
            "Epoch 7/10\n",
            "300/300 [==============================] - 1s 4ms/step - loss: 0.2885 - acc: 0.8934 - val_loss: 0.3429 - val_acc: 0.8758\n",
            "Epoch 8/10\n",
            "300/300 [==============================] - 1s 4ms/step - loss: 0.2768 - acc: 0.8978 - val_loss: 0.3389 - val_acc: 0.8796\n",
            "Epoch 9/10\n",
            "300/300 [==============================] - 1s 4ms/step - loss: 0.2657 - acc: 0.9009 - val_loss: 0.3267 - val_acc: 0.8838\n",
            "Epoch 10/10\n",
            "300/300 [==============================] - 1s 4ms/step - loss: 0.2592 - acc: 0.9047 - val_loss: 0.3444 - val_acc: 0.8730\n"
          ],
          "name": "stdout"
        },
        {
          "output_type": "display_data",
          "data": {
            "image/png": "[encoded data removed]",
            "text/plain": [
              "<Figure size 432x288 with 1 Axes>"
            ]
          },
          "metadata": {
            "tags": [],
            "needs_background": "light"
          }
        }
      ]
    },
    {
      "cell_type": "markdown",
      "metadata": {
        "id": "ynEeloPMZSOG"
      },
      "source": [
        "* From the above we see that Accuracy of Training is 90.52% & Validation is 87.81% for 10 epochs.\n",
        "* Also the Loss on Training is 0.2577 & Validation is 0.3377 for 10 epochs.\n",
        "* Though the Validation loss is less when compared to other models, it has started to increase."
      ]
    },
    {
      "cell_type": "markdown",
      "metadata": {
        "id": "-hS9bKKNZgr_"
      },
      "source": [
        "### Early Stopping Callback with 2 Hidden Layers\n",
        "\n",
        "\n",
        "* NOTE: *We are using early stopping call back method to handle the problem from previous model i.e., validation loss increasing after a certain number of epochs.*\n",
        "* *In Early Stopping, before calculating Validation Loss of the next epoch it'll compare it with previous epochs validation loss and stops a step before if that has a less Validation Loss*.\n",
        "* *Sometimes it may so happen that validation loss starts decreasing from a minimum value after a certain number of epochs. This can be handled with a parameter 'patience'. It is better to give high value for patience so that it'll stop after a certain number of epochs.*"
      ]
    },
    {
      "cell_type": "code",
      "metadata": {
        "colab": {
          "base_uri": "https://localhost:8080/"
        },
        "id": "iPBqcrFDTguD",
        "outputId": "d3910916-dc70-4dfe-ec90-88e33a62f6d2"
      },
      "source": [
        "from keras.callbacks import EarlyStopping  #importing EarlyStopping package from Keras Callbacks\n",
        "\n",
        "model_2layers_es = Sequential()\n",
        "\n",
        "model_2layers_es.add(layers.Flatten(input_shape=(28,28)))\n",
        "model_2layers_es.add(Dense(100,activation='relu'))\n",
        "model_2layers_es.add(Dense(80,activation='relu'))\n",
        "model_2layers_es.add(Dense(10,activation='softmax'))\n",
        "\n",
        "model_2layers_es.compile(optimizer='adam',loss='sparse_categorical_crossentropy',metrics=['acc'])\n",
        "\n",
        "model_2layers_es.summary()"
      ],
      "execution_count": 28,
      "outputs": [
        {
          "output_type": "stream",
          "text": [
            "Model: \"sequential_6\"\n",
            "_________________________________________________________________\n",
            "Layer (type)                 Output Shape              Param #   \n",
            "=================================================================\n",
            "flatten_6 (Flatten)          (None, 784)               0         \n",
            "_________________________________________________________________\n",
            "dense_14 (Dense)             (None, 100)               78500     \n",
            "_________________________________________________________________\n",
            "dense_15 (Dense)             (None, 80)                8080      \n",
            "_________________________________________________________________\n",
            "dense_16 (Dense)             (None, 10)                810       \n",
            "=================================================================\n",
            "Total params: 87,390\n",
            "Trainable params: 87,390\n",
            "Non-trainable params: 0\n",
            "_________________________________________________________________\n"
          ],
          "name": "stdout"
        }
      ]
    },
    {
      "cell_type": "code",
      "metadata": {
        "colab": {
          "base_uri": "https://localhost:8080/",
          "height": 590
        },
        "id": "Zk4hOy1xaEmZ",
        "outputId": "d43b6a33-d5ba-43fd-f9c3-fb27fcdbdad5"
      },
      "source": [
        "history_es = model_2layers_es.fit(x=train_images,y=train_labels,epochs=10,validation_data=(validation_images,validation_labels),callbacks=[EarlyStopping(monitor='val_loss', patience=3,mode='min',verbose=1)])\n",
        "#Monitor='val_loss' is to tell the model to monitor val_loss value, with a patience of 3 i.e., after finding a min value on val_loss see 3 more epochs if at all the val_loss is further decreasing if not stop the model.\n",
        "\n",
        "\n",
        "#plot to see training & validation loss\n",
        "plt.plot(history_es.history['loss'],label='train')\n",
        "plt.plot(history_es.history['val_loss'],label='validation')\n",
        "plt.legend()\n",
        "plt.show()"
      ],
      "execution_count": 29,
      "outputs": [
        {
          "output_type": "stream",
          "text": [
            "Epoch 1/10\n",
            "1875/1875 [==============================] - 4s 2ms/step - loss: 0.6317 - acc: 0.7801 - val_loss: 0.4279 - val_acc: 0.8444\n",
            "Epoch 2/10\n",
            "1875/1875 [==============================] - 4s 2ms/step - loss: 0.3743 - acc: 0.8626 - val_loss: 0.4355 - val_acc: 0.8346\n",
            "Epoch 3/10\n",
            "1875/1875 [==============================] - 4s 2ms/step - loss: 0.3291 - acc: 0.8790 - val_loss: 0.3683 - val_acc: 0.8634\n",
            "Epoch 4/10\n",
            "1875/1875 [==============================] - 4s 2ms/step - loss: 0.3102 - acc: 0.8825 - val_loss: 0.3827 - val_acc: 0.8666\n",
            "Epoch 5/10\n",
            "1875/1875 [==============================] - 4s 2ms/step - loss: 0.2917 - acc: 0.8918 - val_loss: 0.3418 - val_acc: 0.8736\n",
            "Epoch 6/10\n",
            "1875/1875 [==============================] - 4s 2ms/step - loss: 0.2764 - acc: 0.8973 - val_loss: 0.3671 - val_acc: 0.8690\n",
            "Epoch 7/10\n",
            "1875/1875 [==============================] - 4s 2ms/step - loss: 0.2684 - acc: 0.9001 - val_loss: 0.3551 - val_acc: 0.8738\n",
            "Epoch 8/10\n",
            "1875/1875 [==============================] - 4s 2ms/step - loss: 0.2529 - acc: 0.9060 - val_loss: 0.3257 - val_acc: 0.8828\n",
            "Epoch 9/10\n",
            "1875/1875 [==============================] - 4s 2ms/step - loss: 0.2457 - acc: 0.9089 - val_loss: 0.3375 - val_acc: 0.8766\n",
            "Epoch 10/10\n",
            "1875/1875 [==============================] - 4s 2ms/step - loss: 0.2367 - acc: 0.9100 - val_loss: 0.3439 - val_acc: 0.8824\n"
          ],
          "name": "stdout"
        },
        {
          "output_type": "display_data",
          "data": {
            "image/png": "[encoded data removed]",
            "text/plain": [
              "<Figure size 432x288 with 1 Axes>"
            ]
          },
          "metadata": {
            "tags": [],
            "needs_background": "light"
          }
        }
      ]
    },
    {
      "cell_type": "markdown",
      "metadata": {
        "id": "t1kkl1DiaKBl"
      },
      "source": [
        "* From the above we see that Accuracy of Training is 94.99% & Validation is 88.42% for 10 epochs.\n",
        "* Also the Loss on Training is 0.1312 & Validation is 0.5255 for 10 epochs.\n",
        "* Here the model has stopped at epoch 6, because the minimum val_loss is at epoch3 and it did wait for 3 more epochs (patience=3) to see if the val_loss is decreasing further."
      ]
    },
    {
      "cell_type": "code",
      "metadata": {
        "id": "RF2PQbgSRQyg",
        "colab": {
          "base_uri": "https://localhost:8080/",
          "height": 592
        },
        "outputId": "b33adbf9-c43b-4851-b0ec-c01075fc1f5f"
      },
      "source": [
        "history_es = model_2layers_es.fit(x=train_images,y=train_labels,epochs=10,validation_data=(validation_images,validation_labels),callbacks=[EarlyStopping(monitor='val_loss', patience=200,mode='min',verbose=1)])\n",
        "#Monitor='val_loss' is to tell the model to monitor val_loss value, with a patience of 3 i.e., after finding a min value on val_loss see 3 more epochs if at all the val_loss is further decreasing if not stop the model.\n",
        "\n",
        "\n",
        "#plot to see training & validation loss\n",
        "plt.plot(history_es.history['loss'],label='train')\n",
        "plt.plot(history_es.history['val_loss'],label='validation')\n",
        "plt.legend()\n",
        "plt.show()"
      ],
      "execution_count": null,
      "outputs": [
        {
          "output_type": "stream",
          "text": [
            "Epoch 1/10\n",
            "1875/1875 [==============================] - 4s 2ms/step - loss: 0.0939 - acc: 0.9646 - val_loss: 0.5571 - val_acc: 0.8862\n",
            "Epoch 2/10\n",
            "1875/1875 [==============================] - 4s 2ms/step - loss: 0.0910 - acc: 0.9656 - val_loss: 0.6181 - val_acc: 0.8899\n",
            "Epoch 3/10\n",
            "1875/1875 [==============================] - 4s 2ms/step - loss: 0.0908 - acc: 0.9660 - val_loss: 0.6422 - val_acc: 0.8872\n",
            "Epoch 4/10\n",
            "1875/1875 [==============================] - 4s 2ms/step - loss: 0.0882 - acc: 0.9661 - val_loss: 0.6344 - val_acc: 0.8867\n",
            "Epoch 5/10\n",
            "1875/1875 [==============================] - 4s 2ms/step - loss: 0.0884 - acc: 0.9665 - val_loss: 0.6050 - val_acc: 0.8908\n",
            "Epoch 6/10\n",
            "1875/1875 [==============================] - 4s 2ms/step - loss: 0.0860 - acc: 0.9672 - val_loss: 0.6018 - val_acc: 0.8868\n",
            "Epoch 7/10\n",
            "1875/1875 [==============================] - 4s 2ms/step - loss: 0.0877 - acc: 0.9667 - val_loss: 0.6083 - val_acc: 0.8859\n",
            "Epoch 8/10\n",
            "1875/1875 [==============================] - 4s 2ms/step - loss: 0.0840 - acc: 0.9680 - val_loss: 0.5953 - val_acc: 0.8862\n",
            "Epoch 9/10\n",
            "1875/1875 [==============================] - 4s 2ms/step - loss: 0.0837 - acc: 0.9682 - val_loss: 0.6068 - val_acc: 0.8872\n",
            "Epoch 10/10\n",
            "1875/1875 [==============================] - 4s 2ms/step - loss: 0.0804 - acc: 0.9695 - val_loss: 0.6755 - val_acc: 0.8842\n"
          ],
          "name": "stdout"
        },
        {
          "output_type": "display_data",
          "data": {
            "image/png": "[encoded data removed]",
            "text/plain": [
              "<Figure size 432x288 with 1 Axes>"
            ]
          },
          "metadata": {
            "tags": [],
            "needs_background": "light"
          }
        }
      ]
    },
    {
      "cell_type": "markdown",
      "metadata": {
        "id": "DRmi-9OZRdwm"
      },
      "source": [
        "* As we gave a high patience value of 300 the model did not stop even after it the validation loss started to increase."
      ]
    },
    {
      "cell_type": "markdown",
      "metadata": {
        "id": "MAncs5fOR3Tt"
      },
      "source": [
        "### Early Stopping & Model Check Point callbacks with 2 Hidden Layers"
      ]
    },
    {
      "cell_type": "markdown",
      "metadata": {
        "id": "fpNJtsoMR_v2"
      },
      "source": [
        "* NOTE: *In the previous model it did not stop even when val_loss is less at a specific point as the patience is high and if we give a less patience value then it'll miss the epoch where the val_loss may further decrease after the patience. To encounter this problem we'll be using ModelCheckPoint, where we store the minimum val_loss in a variable and will overwrite it with the next min val_loss only.*"
      ]
    },
    {
      "cell_type": "code",
      "metadata": {
        "id": "Z5lj9_x4Rlu4",
        "colab": {
          "base_uri": "https://localhost:8080/"
        },
        "outputId": "20c2aead-360e-4c8d-9b1d-be9706a1c28c"
      },
      "source": [
        "from keras.callbacks import EarlyStopping\n",
        "from keras.callbacks import ModelCheckpoint   #importing ModelCheckPoint library from keras.callback\n",
        "\n",
        "model_2layers_es_cp = Sequential()\n",
        "\n",
        "model_2layers_es_cp.add(layers.Flatten(input_shape=(28,28)))\n",
        "model_2layers_es_cp.add(Dense(100,activation='relu'))\n",
        "model_2layers_es_cp.add(Dense(80,activation='relu'))\n",
        "model_2layers_es_cp.add(Dense(10,activation='softmax'))\n",
        "\n",
        "model_2layers_es_cp.compile(optimizer='sgd',loss='sparse_categorical_crossentropy',metrics=['acc'])\n",
        "\n",
        "model_2layers_es_cp.summary()"
      ],
      "execution_count": 30,
      "outputs": [
        {
          "output_type": "stream",
          "text": [
            "Model: \"sequential_7\"\n",
            "_________________________________________________________________\n",
            "Layer (type)                 Output Shape              Param #   \n",
            "=================================================================\n",
            "flatten_7 (Flatten)          (None, 784)               0         \n",
            "_________________________________________________________________\n",
            "dense_17 (Dense)             (None, 100)               78500     \n",
            "_________________________________________________________________\n",
            "dense_18 (Dense)             (None, 80)                8080      \n",
            "_________________________________________________________________\n",
            "dense_19 (Dense)             (None, 10)                810       \n",
            "=================================================================\n",
            "Total params: 87,390\n",
            "Trainable params: 87,390\n",
            "Non-trainable params: 0\n",
            "_________________________________________________________________\n"
          ],
          "name": "stdout"
        }
      ]
    },
    {
      "cell_type": "markdown",
      "metadata": {
        "id": "E26vY93JZ_Fb"
      },
      "source": [
        "* NOTE: *Advantage of using 2 Callbacks is one can take care of loss (ES in our case) and one can take care of accuracy (CP in our case)*"
      ]
    },
    {
      "cell_type": "code",
      "metadata": {
        "id": "pE431SzkSx38",
        "colab": {
          "base_uri": "https://localhost:8080/",
          "height": 963
        },
        "outputId": "6d965b22-c898-4d4d-e6e0-bcec7c180881"
      },
      "source": [
        "from keras.models import load_model\n",
        "\n",
        "es = EarlyStopping(monitor='val_loss',patience=200,mode='min',verbose=1)\n",
        "cp = ModelCheckpoint('best_model.h5',monitor='val_acc',mode='max',verbose=1,save_best_only=True) #the best model will be stored in best_model.h5 file which will be created in the instance which we are saving\n",
        "\n",
        "history_2layers_es_cp = model_2layers_es_cp.fit(x=train_images,y=train_labels,epochs=10,validation_data=(validation_images,validation_labels),callbacks=[es,cp])\n",
        "#Monitor='val_loss' is to tell the model to monitor val_loss value, with a patience of 3 i.e., after finding a min value on val_loss see 3 more epochs if at all the val_loss is further decreasing if not stop the model.\n",
        "\n",
        "saved_model = load_model('best_model.h5')\n",
        "\n",
        "_, train_acc = saved_model.evaluate(train_images,train_labels,verbose=0)\n",
        "_, validation_acc = saved_model.evaluate(validation_images,validation_labels,verbose=0)\n",
        "\n",
        "print('Train: %3f, Validation: %3f' % (train_acc,validation_acc))\n",
        "print('\\n')\n",
        "#plot to see training & Validation loss\n",
        "plt.plot(history_2layers_es_cp.history['loss'],label='train')\n",
        "plt.plot(history_2layers_es_cp.history['val_loss'],label='Validation')\n",
        "plt.legend()\n",
        "plt.show()"
      ],
      "execution_count": 31,
      "outputs": [
        {
          "output_type": "stream",
          "text": [
            "Epoch 1/10\n",
            "1875/1875 [==============================] - 4s 2ms/step - loss: 1.0460 - acc: 0.6678 - val_loss: 0.5733 - val_acc: 0.8018\n",
            "\n",
            "Epoch 00001: val_acc improved from -inf to 0.80180, saving model to best_model.h5\n",
            "Epoch 2/10\n",
            "1875/1875 [==============================] - 3s 2ms/step - loss: 0.5137 - acc: 0.8228 - val_loss: 0.4788 - val_acc: 0.8314\n",
            "\n",
            "Epoch 00002: val_acc improved from 0.80180 to 0.83140, saving model to best_model.h5\n",
            "Epoch 3/10\n",
            "1875/1875 [==============================] - 3s 2ms/step - loss: 0.4541 - acc: 0.8415 - val_loss: 0.4720 - val_acc: 0.8344\n",
            "\n",
            "Epoch 00003: val_acc improved from 0.83140 to 0.83440, saving model to best_model.h5\n",
            "Epoch 4/10\n",
            "1875/1875 [==============================] - 3s 2ms/step - loss: 0.4254 - acc: 0.8519 - val_loss: 0.4463 - val_acc: 0.8422\n",
            "\n",
            "Epoch 00004: val_acc improved from 0.83440 to 0.84220, saving model to best_model.h5\n",
            "Epoch 5/10\n",
            "1875/1875 [==============================] - 3s 2ms/step - loss: 0.4017 - acc: 0.8593 - val_loss: 0.4341 - val_acc: 0.8438\n",
            "\n",
            "Epoch 00005: val_acc improved from 0.84220 to 0.84380, saving model to best_model.h5\n",
            "Epoch 6/10\n",
            "1875/1875 [==============================] - 3s 2ms/step - loss: 0.3800 - acc: 0.8657 - val_loss: 0.4324 - val_acc: 0.8436\n",
            "\n",
            "Epoch 00006: val_acc did not improve from 0.84380\n",
            "Epoch 7/10\n",
            "1875/1875 [==============================] - 3s 2ms/step - loss: 0.3737 - acc: 0.8657 - val_loss: 0.4061 - val_acc: 0.8578\n",
            "\n",
            "Epoch 00007: val_acc improved from 0.84380 to 0.85780, saving model to best_model.h5\n",
            "Epoch 8/10\n",
            "1875/1875 [==============================] - 3s 2ms/step - loss: 0.3618 - acc: 0.8725 - val_loss: 0.4083 - val_acc: 0.8550\n",
            "\n",
            "Epoch 00008: val_acc did not improve from 0.85780\n",
            "Epoch 9/10\n",
            "1875/1875 [==============================] - 3s 2ms/step - loss: 0.3520 - acc: 0.8769 - val_loss: 0.4036 - val_acc: 0.8512\n",
            "\n",
            "Epoch 00009: val_acc did not improve from 0.85780\n",
            "Epoch 10/10\n",
            "1875/1875 [==============================] - 3s 2ms/step - loss: 0.3402 - acc: 0.8804 - val_loss: 0.3837 - val_acc: 0.8608\n",
            "\n",
            "Epoch 00010: val_acc improved from 0.85780 to 0.86080, saving model to best_model.h5\n",
            "Train: 0.883617, Validation: 0.860800\n",
            "\n",
            "\n"
          ],
          "name": "stdout"
        },
        {
          "output_type": "display_data",
          "data": {
            "image/png": "[encoded data removed]",
            "text/plain": [
              "<Figure size 432x288 with 1 Axes>"
            ]
          },
          "metadata": {
            "tags": [],
            "needs_background": "light"
          }
        }
      ]
    },
    {
      "cell_type": "markdown",
      "metadata": {
        "id": "PKnbZ2d-UKLF"
      },
      "source": [
        "* The best model has an accuracy of 87.17% & 85.39% on Training & Test data respectively with Stocastic Gradient Descent optimizer.\n",
        "* The loss on Test has come down."
      ]
    },
    {
      "cell_type": "markdown",
      "metadata": {
        "id": "Kfq9Y_mfhNTh"
      },
      "source": [
        "### Predicting the target values"
      ]
    },
    {
      "cell_type": "code",
      "metadata": {
        "id": "GjBSwJRlhURP"
      },
      "source": [
        "predictions_es_cp = model_2layers_es_cp.predict(test_images) #predicting value using the Early Stopping model."
      ],
      "execution_count": 33,
      "outputs": []
    },
    {
      "cell_type": "code",
      "metadata": {
        "colab": {
          "base_uri": "https://localhost:8080/"
        },
        "id": "_eolC8xxhppC",
        "outputId": "06e1edcf-b3e9-46de-8a8d-27b0fa678a30"
      },
      "source": [
        "predictions_es_cp[0] # this gives the one hot encoding value of the target variable for the provided index.\n",
        "print(\"Predicted Value of {} image from Test Data is: {}\".format(0,np.argmax(predictions_es_cp[0]))) #this gives the value of prediction.\n",
        "print(\"Actual value of {} image is: {}\".format(0,test_labels[0])) #this gives the actual value"
      ],
      "execution_count": 40,
      "outputs": [
        {
          "output_type": "stream",
          "text": [
            "Predicted Value of 0 image from Test Data is: 4\n",
            "Actual value of 0 image is: 4\n"
          ],
          "name": "stdout"
        }
      ]
    },
    {
      "cell_type": "code",
      "metadata": {
        "id": "5O9qZLnIxyO5",
        "outputId": "6acb3372-8db9-4f7b-a040-ba6b660e5e93",
        "colab": {
          "base_uri": "https://localhost:8080/"
        }
      },
      "source": [
        "_, test_acc = saved_model.evaluate(test_images,test_labels,verbose=0)\n",
        "print('Test Accuracy is: %3f' % (test_acc))"
      ],
      "execution_count": 37,
      "outputs": [
        {
          "output_type": "stream",
          "text": [
            "Test Accuracy is: 0.865600\n"
          ],
          "name": "stdout"
        }
      ]
    },
    {
      "cell_type": "code",
      "metadata": {
        "id": "WV2sHENGyx5W",
        "outputId": "1659671e-30b4-4b4b-8186-68ffedd08e3e",
        "colab": {
          "base_uri": "https://localhost:8080/",
          "height": 1000
        }
      },
      "source": [
        "#printing first 3 images from the training dataset by calling the above created function. Here image is from our prediction & Label on X-axis is actual value.\n",
        "for index in range(0,9):\n",
        "  plot_sample(test_images,test_labels,index)"
      ],
      "execution_count": 41,
      "outputs": [
        {
          "output_type": "display_data",
          "data": {
            "image/png": "[encoded data removed]",
            "text/plain": [
              "<Figure size 360x144 with 1 Axes>"
            ]
          },
          "metadata": {
            "tags": [],
            "needs_background": "light"
          }
        },
        {
          "output_type": "display_data",
          "data": {
            "image/png": "[encoded data removed]",
            "text/plain": [
              "<Figure size 360x144 with 1 Axes>"
            ]
          },
          "metadata": {
            "tags": [],
            "needs_background": "light"
          }
        },
        {
          "output_type": "display_data",
          "data": {
            "image/png": "[encoded data removed]",
            "text/plain": [
              "<Figure size 360x144 with 1 Axes>"
            ]
          },
          "metadata": {
            "tags": [],
            "needs_background": "light"
          }
        },
        {
          "output_type": "display_data",
          "data": {
            "image/png": "[encoded data removed]",
            "text/plain": [
              "<Figure size 360x144 with 1 Axes>"
            ]
          },
          "metadata": {
            "tags": [],
            "needs_background": "light"
          }
        },
        {
          "output_type": "display_data",
          "data": {
            "image/png": "[encoded data removed]",
            "text/plain": [
              "<Figure size 360x144 with 1 Axes>"
            ]
          },
          "metadata": {
            "tags": [],
            "needs_background": "light"
          }
        },
        {
          "output_type": "display_data",
          "data": {
            "image/png": "[encoded data removed]",
            "text/plain": [
              "<Figure size 360x144 with 1 Axes>"
            ]
          },
          "metadata": {
            "tags": [],
            "needs_background": "light"
          }
        },
        {
          "output_type": "display_data",
          "data": {
            "image/png": "[encoded data removed]",
            "text/plain": [
              "<Figure size 360x144 with 1 Axes>"
            ]
          },
          "metadata": {
            "tags": [],
            "needs_background": "light"
          }
        },
        {
          "output_type": "display_data",
          "data": {
            "image/png": "[encoded data removed]",
            "text/plain": [
              "<Figure size 360x144 with 1 Axes>"
            ]
          },
          "metadata": {
            "tags": [],
            "needs_background": "light"
          }
        },
        {
          "output_type": "display_data",
          "data": {
            "image/png": "[encoded data removed]",
            "text/plain": [
              "<Figure size 360x144 with 1 Axes>"
            ]
          },
          "metadata": {
            "tags": [],
            "needs_background": "light"
          }
        }
      ]
    },
    {
      "cell_type": "markdown",
      "metadata": {
        "id": "Bke7s8fqjS9h"
      },
      "source": [
        "### Conclusion\n",
        "\n",
        "* This shows that actual & predicted value for a particular index '0' are same and our prediction is correct.\n",
        "\n",
        "* We can repeat this process by choosing a model where the validation accuracy is less."
      ]
    }
  ]
}