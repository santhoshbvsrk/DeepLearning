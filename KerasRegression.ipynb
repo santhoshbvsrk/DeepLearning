{
  "nbformat": 4,
  "nbformat_minor": 0,
  "metadata": {
    "colab": {
      "name": "KerasRegression.ipynb",
      "provenance": [],
      "authorship_tag": "ABX9TyPoqdehwCqtTKIDUicSwrXR",
      "include_colab_link": true
    },
    "kernelspec": {
      "name": "python3",
      "display_name": "Python 3"
    }
  },
  "cells": [
    {
      "cell_type": "markdown",
      "metadata": {
        "id": "view-in-github",
        "colab_type": "text"
      },
      "source": [
        "<a href=\"https://colab.research.google.com/github/santhoshbvsrk/DeepLearning/blob/main/KerasRegression.ipynb\" target=\"_parent\"><img src=\"https://colab.research.google.com/assets/colab-badge.svg\" alt=\"Open In Colab\"/></a>"
      ]
    },
    {
      "cell_type": "markdown",
      "metadata": {
        "id": "sdPLLN54B20c"
      },
      "source": [
        "\r\n",
        "\r\n",
        "\r\n",
        "*   Tensorflow is the backend and Keras is the API in that.\r\n",
        "*   Now, from Keras API we'll use models which contains the different types of models of which we'll use Sequential Model for now.\r\n",
        "\r\n",
        "*   Layers class is nothing but type of Layer we want to add to our model. For now we'll use Dense Layer which is a fully connected layer i.e., each neuron is connected to every other neuron.\r\n",
        "\r\n",
        "\r\n",
        "\r\n"
      ]
    },
    {
      "cell_type": "code",
      "metadata": {
        "id": "sIBUdagqBOf7"
      },
      "source": [
        "import tensorflow\r\n",
        "from tensorflow.keras.models import Sequential\r\n",
        "from tensorflow.keras.layers import Dense"
      ],
      "execution_count": 3,
      "outputs": []
    },
    {
      "cell_type": "markdown",
      "metadata": {
        "id": "A8IpgLJADfiN"
      },
      "source": [
        "\r\n",
        "\r\n",
        "*   Now, will import numpy and matplot lib for visualizations\r\n",
        "\r\n"
      ]
    },
    {
      "cell_type": "code",
      "metadata": {
        "id": "X0OqucgjDWP8"
      },
      "source": [
        "import numpy as np\r\n",
        "import matplotlib.pyplot as plt\r\n",
        "%matplotlib inline"
      ],
      "execution_count": 5,
      "outputs": []
    },
    {
      "cell_type": "markdown",
      "metadata": {
        "id": "zoopc0n7D2is"
      },
      "source": [
        "Random numbers are random in nature and every time kernel restart happens the value stored. So, we'll use seed with a location so that our data will be stored in that particular location on Kernel even if Kernel restarts data can be retrieved from that seed.\r\n",
        "\r\n",
        "*  Generating random data in Linear Regression format y=mx+c\r\n",
        "\r\n"
      ]
    },
    {
      "cell_type": "code",
      "metadata": {
        "id": "YWJftgG6DrvU"
      },
      "source": [
        "np.random.seed(1337)\r\n",
        "X=np.linspace(-1,1,200)\r\n",
        "np.random.shuffle(X)\r\n",
        "y=2*X+np.random.randn(*X.shape)*0.33"
      ],
      "execution_count": 8,
      "outputs": []
    },
    {
      "cell_type": "markdown",
      "metadata": {
        "id": "RsXVrOEtE6Zo"
      },
      "source": [
        "Plotting the data which should look like a Linear Regression plot as we've used y=mx+c"
      ]
    },
    {
      "cell_type": "code",
      "metadata": {
        "colab": {
          "base_uri": "https://localhost:8080/",
          "height": 278
        },
        "collapsed": true,
        "id": "YnE0n2vPDvA0",
        "outputId": "87f0b5cf-add2-4eb1-9852-01b781b89cb8"
      },
      "source": [
        "plt.scatter(X,y)\r\n",
        "plt.xlabel('X')\r\n",
        "plt.ylabel('Y')\r\n",
        "plt.show()"
      ],
      "execution_count": 13,
      "outputs": [
        {
          "output_type": "display_data",
          "data": {
            "image/png": "[encoded data removed]",
            "text/plain": [
              "<Figure size 432x288 with 1 Axes>"
            ]
          },
          "metadata": {
            "tags": [],
            "needs_background": "light"
          }
        }
      ]
    },
    {
      "cell_type": "code",
      "metadata": {
        "id": "n84RE9hjFoIv"
      },
      "source": [
        "X_train,y_train=X[:160],y[:160]\r\n",
        "X_test,y_test=X[160:],y[160:]"
      ],
      "execution_count": 14,
      "outputs": []
    },
    {
      "cell_type": "markdown",
      "metadata": {
        "id": "ngrPOmbMGvO7"
      },
      "source": [
        "#### * We are adding Dense layer with input dimension as 1, units=1 and initializing kernel to uniform because we want weights to be uniform and activation function to be linear.\r\n",
        "#### * Once we are done with adding layer, we've to compile it and we've to pass 2 parameters to compile loss & optimizer.\r\n"
      ]
    },
    {
      "cell_type": "code",
      "metadata": {
        "id": "UzT0yMB_GGTB"
      },
      "source": [
        "model=Sequential()\r\n",
        "model.add(Dense(input_dim=1,units=1,kernel_initializer='uniform',activation='linear'))\r\n",
        "model.compile(loss='mse',optimizer='sgd')"
      ],
      "execution_count": 19,
      "outputs": []
    },
    {
      "cell_type": "code",
      "metadata": {
        "colab": {
          "base_uri": "https://localhost:8080/"
        },
        "id": "C0_K3zk0G3ku",
        "outputId": "593972f7-227b-4a65-f039-2a4352a5dbe4"
      },
      "source": [
        "model.summary()"
      ],
      "execution_count": 20,
      "outputs": [
        {
          "output_type": "stream",
          "text": [
            "Model: \"sequential_4\"\n",
            "_________________________________________________________________\n",
            "Layer (type)                 Output Shape              Param #   \n",
            "=================================================================\n",
            "dense_4 (Dense)              (None, 1)                 2         \n",
            "=================================================================\n",
            "Total params: 2\n",
            "Trainable params: 2\n",
            "Non-trainable params: 0\n",
            "_________________________________________________________________\n"
          ],
          "name": "stdout"
        }
      ]
    },
    {
      "cell_type": "markdown",
      "metadata": {
        "id": "m-VF5cWXKUVG"
      },
      "source": [
        "#### Now, let us fit our data on the model built in above steps on train data, here we'll give validation_split to use 20% of training data for Validation purpose and see the loss incurred on both training & Validation data."
      ]
    },
    {
      "cell_type": "code",
      "metadata": {
        "colab": {
          "base_uri": "https://localhost:8080/"
        },
        "id": "XxrFHUwwJ6dB",
        "outputId": "502f6ad5-3a79-45c1-fc50-8bfcb1e3684e"
      },
      "source": [
        "from tensorflow.random import set_seed\r\n",
        "set_seed(1337)\r\n",
        "model.fit(X_train,y_train,epochs=100,verbose=1,validation_split=0.2)"
      ],
      "execution_count": 37,
      "outputs": [
        {
          "output_type": "stream",
          "text": [
            "Epoch 1/100\n",
            "4/4 [==============================] - 0s 37ms/step - loss: 0.1207 - val_loss: 0.0908\n",
            "Epoch 2/100\n",
            "4/4 [==============================] - 0s 13ms/step - loss: 0.1207 - val_loss: 0.0908\n",
            "Epoch 3/100\n",
            "4/4 [==============================] - 0s 15ms/step - loss: 0.1207 - val_loss: 0.0908\n",
            "Epoch 4/100\n",
            "4/4 [==============================] - 0s 13ms/step - loss: 0.1208 - val_loss: 0.0907\n",
            "Epoch 5/100\n",
            "4/4 [==============================] - 0s 13ms/step - loss: 0.1207 - val_loss: 0.0908\n",
            "Epoch 6/100\n",
            "4/4 [==============================] - 0s 13ms/step - loss: 0.1208 - val_loss: 0.0907\n",
            "Epoch 7/100\n",
            "4/4 [==============================] - 0s 14ms/step - loss: 0.1207 - val_loss: 0.0907\n",
            "Epoch 8/100\n",
            "4/4 [==============================] - 0s 14ms/step - loss: 0.1207 - val_loss: 0.0907\n",
            "Epoch 9/100\n",
            "4/4 [==============================] - 0s 16ms/step - loss: 0.1207 - val_loss: 0.0907\n",
            "Epoch 10/100\n",
            "4/4 [==============================] - 0s 17ms/step - loss: 0.1207 - val_loss: 0.0907\n",
            "Epoch 11/100\n",
            "4/4 [==============================] - 0s 15ms/step - loss: 0.1208 - val_loss: 0.0908\n",
            "Epoch 12/100\n",
            "4/4 [==============================] - 0s 14ms/step - loss: 0.1207 - val_loss: 0.0908\n",
            "Epoch 13/100\n",
            "4/4 [==============================] - 0s 14ms/step - loss: 0.1207 - val_loss: 0.0908\n",
            "Epoch 14/100\n",
            "4/4 [==============================] - 0s 14ms/step - loss: 0.1207 - val_loss: 0.0908\n",
            "Epoch 15/100\n",
            "4/4 [==============================] - 0s 14ms/step - loss: 0.1208 - val_loss: 0.0908\n",
            "Epoch 16/100\n",
            "4/4 [==============================] - 0s 15ms/step - loss: 0.1207 - val_loss: 0.0908\n",
            "Epoch 17/100\n",
            "4/4 [==============================] - 0s 15ms/step - loss: 0.1207 - val_loss: 0.0908\n",
            "Epoch 18/100\n",
            "4/4 [==============================] - 0s 14ms/step - loss: 0.1208 - val_loss: 0.0908\n",
            "Epoch 19/100\n",
            "4/4 [==============================] - 0s 14ms/step - loss: 0.1208 - val_loss: 0.0908\n",
            "Epoch 20/100\n",
            "4/4 [==============================] - 0s 16ms/step - loss: 0.1208 - val_loss: 0.0908\n",
            "Epoch 21/100\n",
            "4/4 [==============================] - 0s 15ms/step - loss: 0.1207 - val_loss: 0.0908\n",
            "Epoch 22/100\n",
            "4/4 [==============================] - 0s 13ms/step - loss: 0.1207 - val_loss: 0.0908\n",
            "Epoch 23/100\n",
            "4/4 [==============================] - 0s 16ms/step - loss: 0.1207 - val_loss: 0.0908\n",
            "Epoch 24/100\n",
            "4/4 [==============================] - 0s 14ms/step - loss: 0.1207 - val_loss: 0.0908\n",
            "Epoch 25/100\n",
            "4/4 [==============================] - 0s 18ms/step - loss: 0.1207 - val_loss: 0.0908\n",
            "Epoch 26/100\n",
            "4/4 [==============================] - 0s 16ms/step - loss: 0.1207 - val_loss: 0.0908\n",
            "Epoch 27/100\n",
            "4/4 [==============================] - 0s 15ms/step - loss: 0.1207 - val_loss: 0.0908\n",
            "Epoch 28/100\n",
            "4/4 [==============================] - 0s 15ms/step - loss: 0.1207 - val_loss: 0.0908\n",
            "Epoch 29/100\n",
            "4/4 [==============================] - 0s 14ms/step - loss: 0.1207 - val_loss: 0.0908\n",
            "Epoch 30/100\n",
            "4/4 [==============================] - 0s 14ms/step - loss: 0.1207 - val_loss: 0.0908\n",
            "Epoch 31/100\n",
            "4/4 [==============================] - 0s 17ms/step - loss: 0.1207 - val_loss: 0.0908\n",
            "Epoch 32/100\n",
            "4/4 [==============================] - 0s 15ms/step - loss: 0.1208 - val_loss: 0.0908\n",
            "Epoch 33/100\n",
            "4/4 [==============================] - 0s 15ms/step - loss: 0.1207 - val_loss: 0.0907\n",
            "Epoch 34/100\n",
            "4/4 [==============================] - 0s 15ms/step - loss: 0.1207 - val_loss: 0.0907\n",
            "Epoch 35/100\n",
            "4/4 [==============================] - 0s 15ms/step - loss: 0.1207 - val_loss: 0.0907\n",
            "Epoch 36/100\n",
            "4/4 [==============================] - 0s 13ms/step - loss: 0.1207 - val_loss: 0.0907\n",
            "Epoch 37/100\n",
            "4/4 [==============================] - 0s 13ms/step - loss: 0.1207 - val_loss: 0.0907\n",
            "Epoch 38/100\n",
            "4/4 [==============================] - 0s 14ms/step - loss: 0.1208 - val_loss: 0.0907\n",
            "Epoch 39/100\n",
            "4/4 [==============================] - 0s 17ms/step - loss: 0.1207 - val_loss: 0.0907\n",
            "Epoch 40/100\n",
            "4/4 [==============================] - 0s 17ms/step - loss: 0.1207 - val_loss: 0.0907\n",
            "Epoch 41/100\n",
            "4/4 [==============================] - 0s 13ms/step - loss: 0.1207 - val_loss: 0.0907\n",
            "Epoch 42/100\n",
            "4/4 [==============================] - 0s 14ms/step - loss: 0.1207 - val_loss: 0.0907\n",
            "Epoch 43/100\n",
            "4/4 [==============================] - 0s 17ms/step - loss: 0.1208 - val_loss: 0.0907\n",
            "Epoch 44/100\n",
            "4/4 [==============================] - 0s 16ms/step - loss: 0.1207 - val_loss: 0.0907\n",
            "Epoch 45/100\n",
            "4/4 [==============================] - 0s 14ms/step - loss: 0.1207 - val_loss: 0.0907\n",
            "Epoch 46/100\n",
            "4/4 [==============================] - 0s 13ms/step - loss: 0.1207 - val_loss: 0.0907\n",
            "Epoch 47/100\n",
            "4/4 [==============================] - 0s 17ms/step - loss: 0.1208 - val_loss: 0.0907\n",
            "Epoch 48/100\n",
            "4/4 [==============================] - 0s 16ms/step - loss: 0.1207 - val_loss: 0.0907\n",
            "Epoch 49/100\n",
            "4/4 [==============================] - 0s 18ms/step - loss: 0.1208 - val_loss: 0.0907\n",
            "Epoch 50/100\n",
            "4/4 [==============================] - 0s 16ms/step - loss: 0.1207 - val_loss: 0.0907\n",
            "Epoch 51/100\n",
            "4/4 [==============================] - 0s 17ms/step - loss: 0.1209 - val_loss: 0.0908\n",
            "Epoch 52/100\n",
            "4/4 [==============================] - 0s 17ms/step - loss: 0.1208 - val_loss: 0.0908\n",
            "Epoch 53/100\n",
            "4/4 [==============================] - 0s 18ms/step - loss: 0.1207 - val_loss: 0.0908\n",
            "Epoch 54/100\n",
            "4/4 [==============================] - 0s 15ms/step - loss: 0.1207 - val_loss: 0.0908\n",
            "Epoch 55/100\n",
            "4/4 [==============================] - 0s 15ms/step - loss: 0.1208 - val_loss: 0.0908\n",
            "Epoch 56/100\n",
            "4/4 [==============================] - 0s 19ms/step - loss: 0.1207 - val_loss: 0.0908\n",
            "Epoch 57/100\n",
            "4/4 [==============================] - 0s 15ms/step - loss: 0.1207 - val_loss: 0.0908\n",
            "Epoch 58/100\n",
            "4/4 [==============================] - 0s 15ms/step - loss: 0.1207 - val_loss: 0.0908\n",
            "Epoch 59/100\n",
            "4/4 [==============================] - 0s 17ms/step - loss: 0.1207 - val_loss: 0.0908\n",
            "Epoch 60/100\n",
            "4/4 [==============================] - 0s 16ms/step - loss: 0.1208 - val_loss: 0.0908\n",
            "Epoch 61/100\n",
            "4/4 [==============================] - 0s 17ms/step - loss: 0.1207 - val_loss: 0.0908\n",
            "Epoch 62/100\n",
            "4/4 [==============================] - 0s 16ms/step - loss: 0.1207 - val_loss: 0.0908\n",
            "Epoch 63/100\n",
            "4/4 [==============================] - 0s 16ms/step - loss: 0.1207 - val_loss: 0.0908\n",
            "Epoch 64/100\n",
            "4/4 [==============================] - 0s 14ms/step - loss: 0.1207 - val_loss: 0.0908\n",
            "Epoch 65/100\n",
            "4/4 [==============================] - 0s 16ms/step - loss: 0.1207 - val_loss: 0.0908\n",
            "Epoch 66/100\n",
            "4/4 [==============================] - 0s 17ms/step - loss: 0.1207 - val_loss: 0.0908\n",
            "Epoch 67/100\n",
            "4/4 [==============================] - 0s 17ms/step - loss: 0.1208 - val_loss: 0.0908\n",
            "Epoch 68/100\n",
            "4/4 [==============================] - 0s 16ms/step - loss: 0.1207 - val_loss: 0.0908\n",
            "Epoch 69/100\n",
            "4/4 [==============================] - 0s 18ms/step - loss: 0.1207 - val_loss: 0.0908\n",
            "Epoch 70/100\n",
            "4/4 [==============================] - 0s 17ms/step - loss: 0.1207 - val_loss: 0.0908\n",
            "Epoch 71/100\n",
            "4/4 [==============================] - 0s 15ms/step - loss: 0.1208 - val_loss: 0.0908\n",
            "Epoch 72/100\n",
            "4/4 [==============================] - 0s 13ms/step - loss: 0.1207 - val_loss: 0.0908\n",
            "Epoch 73/100\n",
            "4/4 [==============================] - 0s 16ms/step - loss: 0.1207 - val_loss: 0.0908\n",
            "Epoch 74/100\n",
            "4/4 [==============================] - 0s 16ms/step - loss: 0.1207 - val_loss: 0.0908\n",
            "Epoch 75/100\n",
            "4/4 [==============================] - 0s 16ms/step - loss: 0.1207 - val_loss: 0.0908\n",
            "Epoch 76/100\n",
            "4/4 [==============================] - 0s 20ms/step - loss: 0.1207 - val_loss: 0.0908\n",
            "Epoch 77/100\n",
            "4/4 [==============================] - 0s 17ms/step - loss: 0.1207 - val_loss: 0.0908\n",
            "Epoch 78/100\n",
            "4/4 [==============================] - 0s 16ms/step - loss: 0.1207 - val_loss: 0.0908\n",
            "Epoch 79/100\n",
            "4/4 [==============================] - 0s 15ms/step - loss: 0.1207 - val_loss: 0.0908\n",
            "Epoch 80/100\n",
            "4/4 [==============================] - 0s 13ms/step - loss: 0.1207 - val_loss: 0.0908\n",
            "Epoch 81/100\n",
            "4/4 [==============================] - 0s 15ms/step - loss: 0.1207 - val_loss: 0.0908\n",
            "Epoch 82/100\n",
            "4/4 [==============================] - 0s 15ms/step - loss: 0.1208 - val_loss: 0.0908\n",
            "Epoch 83/100\n",
            "4/4 [==============================] - 0s 16ms/step - loss: 0.1209 - val_loss: 0.0908\n",
            "Epoch 84/100\n",
            "4/4 [==============================] - 0s 17ms/step - loss: 0.1207 - val_loss: 0.0908\n",
            "Epoch 85/100\n",
            "4/4 [==============================] - 0s 15ms/step - loss: 0.1207 - val_loss: 0.0908\n",
            "Epoch 86/100\n",
            "4/4 [==============================] - 0s 17ms/step - loss: 0.1208 - val_loss: 0.0908\n",
            "Epoch 87/100\n",
            "4/4 [==============================] - 0s 17ms/step - loss: 0.1207 - val_loss: 0.0908\n",
            "Epoch 88/100\n",
            "4/4 [==============================] - 0s 17ms/step - loss: 0.1207 - val_loss: 0.0908\n",
            "Epoch 89/100\n",
            "4/4 [==============================] - 0s 16ms/step - loss: 0.1207 - val_loss: 0.0908\n",
            "Epoch 90/100\n",
            "4/4 [==============================] - 0s 16ms/step - loss: 0.1207 - val_loss: 0.0908\n",
            "Epoch 91/100\n",
            "4/4 [==============================] - 0s 16ms/step - loss: 0.1207 - val_loss: 0.0908\n",
            "Epoch 92/100\n",
            "4/4 [==============================] - 0s 15ms/step - loss: 0.1207 - val_loss: 0.0908\n",
            "Epoch 93/100\n",
            "4/4 [==============================] - 0s 17ms/step - loss: 0.1207 - val_loss: 0.0908\n",
            "Epoch 94/100\n",
            "4/4 [==============================] - 0s 14ms/step - loss: 0.1208 - val_loss: 0.0907\n",
            "Epoch 95/100\n",
            "4/4 [==============================] - 0s 17ms/step - loss: 0.1207 - val_loss: 0.0908\n",
            "Epoch 96/100\n",
            "4/4 [==============================] - 0s 17ms/step - loss: 0.1208 - val_loss: 0.0907\n",
            "Epoch 97/100\n",
            "4/4 [==============================] - 0s 17ms/step - loss: 0.1207 - val_loss: 0.0907\n",
            "Epoch 98/100\n",
            "4/4 [==============================] - 0s 18ms/step - loss: 0.1208 - val_loss: 0.0908\n",
            "Epoch 99/100\n",
            "4/4 [==============================] - 0s 16ms/step - loss: 0.1207 - val_loss: 0.0908\n",
            "Epoch 100/100\n",
            "4/4 [==============================] - 0s 16ms/step - loss: 0.1207 - val_loss: 0.0908\n"
          ],
          "name": "stdout"
        },
        {
          "output_type": "execute_result",
          "data": {
            "text/plain": [
              "<tensorflow.python.keras.callbacks.History at 0x7f1d0b775390>"
            ]
          },
          "metadata": {
            "tags": []
          },
          "execution_count": 37
        }
      ]
    },
    {
      "cell_type": "markdown",
      "metadata": {
        "id": "RZ0edEZwU7kx"
      },
      "source": [
        "#### Now let us predict values for the model"
      ]
    },
    {
      "cell_type": "code",
      "metadata": {
        "id": "Ikc9FPGMUqWP"
      },
      "source": [
        "y_pred=model.predict(X_test)"
      ],
      "execution_count": 44,
      "outputs": []
    },
    {
      "cell_type": "code",
      "metadata": {
        "id": "qalCLdfqU2LY"
      },
      "source": [
        ""
      ],
      "execution_count": null,
      "outputs": []
    },
    {
      "cell_type": "markdown",
      "metadata": {
        "id": "AydDBL0vMxkB"
      },
      "source": [
        "#### Now let us get the weights.\r\n",
        "\r\n",
        "#### * We've to mention the layer first then index of neuron and the connection i.e., weights[layer][neuron][connection]"
      ]
    },
    {
      "cell_type": "code",
      "metadata": {
        "colab": {
          "base_uri": "https://localhost:8080/"
        },
        "id": "GxS6aDYdK_AM",
        "outputId": "6e383f28-fb18-4f13-c948-747de52ee9da"
      },
      "source": [
        "weights=model.layers[0].get_weights()\r\n",
        "weights[0][0][0]"
      ],
      "execution_count": 40,
      "outputs": [
        {
          "output_type": "execute_result",
          "data": {
            "text/plain": [
              "1.9186752"
            ]
          },
          "metadata": {
            "tags": []
          },
          "execution_count": 40
        }
      ]
    },
    {
      "cell_type": "markdown",
      "metadata": {
        "id": "Y5gCIYVBN-9j"
      },
      "source": [
        "#### * For getting Bias we'll have to mention weights[layer][neuron] as bias won't have any connection."
      ]
    },
    {
      "cell_type": "code",
      "metadata": {
        "colab": {
          "base_uri": "https://localhost:8080/"
        },
        "id": "EKbAsRr8N3bv",
        "outputId": "67937cd8-ab21-41af-f361-9009177fd8ff"
      },
      "source": [
        "weights[1][0]"
      ],
      "execution_count": 42,
      "outputs": [
        {
          "output_type": "execute_result",
          "data": {
            "text/plain": [
              "0.04352439"
            ]
          },
          "metadata": {
            "tags": []
          },
          "execution_count": 42
        }
      ]
    },
    {
      "cell_type": "code",
      "metadata": {
        "id": "RrSB7vArUxyp"
      },
      "source": [
        ""
      ],
      "execution_count": null,
      "outputs": []
    }
  ]
}